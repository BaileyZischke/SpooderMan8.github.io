{
  "nbformat": 4,
  "nbformat_minor": 0,
  "metadata": {
    "colab": {
      "provenance": []
    },
    "kernelspec": {
      "name": "ir",
      "display_name": "R"
    },
    "language_info": {
      "name": "R"
    }
  },
  "cells": [
    {
      "cell_type": "markdown",
      "source": [
        "# **Week 8: Large Sample Hypothesis Testing**\n",
        "\n",
        "```\n",
        ".------------------------------------.\n",
        "|   __  ____  ______  _  ___ _____   |\n",
        "|  |  \\/  \\ \\/ / __ )/ |/ _ \\___  |  |\n",
        "|  | |\\/| |\\  /|  _ \\| | | | | / /   |\n",
        "|  | |  | |/  \\| |_) | | |_| |/ /    |\n",
        "|  |_|  |_/_/\\_\\____/|_|\\___//_/     |\n",
        "'------------------------------------'\n",
        "\n",
        "```"
      ],
      "metadata": {
        "id": "ZtpJJ8BSHOaK"
      }
    },
    {
      "cell_type": "markdown",
      "source": [
        "Through the following examples, we will explore the concepts of (large-sample) hypothesis testing (LSHT) and examine their practical implications.\n"
      ],
      "metadata": {
        "id": "nJN_EjsDJ5My"
      }
    },
    {
      "cell_type": "markdown",
      "source": [
        "## **Pre-Configurating the Notebook**"
      ],
      "metadata": {
        "id": "qJMHamzBgYY4"
      }
    },
    {
      "cell_type": "markdown",
      "source": [
        "### **Switching to the R Kernel on Colab**\n",
        "\n",
        "By default, Google Colab uses Python as its programming language. To use R instead, you’ll need to manually switch the kernel by going to **Runtime > Change runtime type**, and selecting R as the kernel. This allows you to run R code in the Colab environment.\n",
        "\n",
        "However, our notebook is already configured to use R by default. Unless something goes wrong, you shouldn’t need to manually change runtime type."
      ],
      "metadata": {
        "id": "RYNbU2mDgjJZ"
      }
    },
    {
      "cell_type": "markdown",
      "source": [
        "### **Importing Required Packages**\n",
        "**Run the following lines of code**:"
      ],
      "metadata": {
        "id": "Sh6s1ChmglUe"
      }
    },
    {
      "cell_type": "code",
      "source": [
        "#Do not modify\n",
        "\n",
        "setwd(\"/content\")\n",
        "\n",
        "# Remove `MXB107-Notebooks` if exists,\n",
        "if (dir.exists(\"MXB107-Notebooks\")) {\n",
        "  system(\"rm -rf MXB107-Notebooks\")\n",
        "}\n",
        "\n",
        "# Fork the repository\n",
        "system(\"git clone https://github.com/edelweiss611428/MXB107-Notebooks.git\")\n",
        "\n",
        "# Change working directory to \"MXB107-Notebooks\"\n",
        "setwd(\"MXB107-Notebooks\")\n",
        "\n",
        "#\n",
        "invisible(source(\"R/preConfigurated.R\"))"
      ],
      "metadata": {
        "id": "hXjYwRwxgmqZ",
        "colab": {
          "base_uri": "https://localhost:8080/"
        },
        "outputId": "0575b57c-f68b-43e5-a56a-5801653876e3"
      },
      "execution_count": 1,
      "outputs": [
        {
          "output_type": "stream",
          "name": "stderr",
          "text": [
            "Loading required package: ggplot2\n",
            "\n",
            "Loading required package: dplyr\n",
            "\n",
            "\n",
            "Attaching package: ‘dplyr’\n",
            "\n",
            "\n",
            "The following objects are masked from ‘package:stats’:\n",
            "\n",
            "    filter, lag\n",
            "\n",
            "\n",
            "The following objects are masked from ‘package:base’:\n",
            "\n",
            "    intersect, setdiff, setequal, union\n",
            "\n",
            "\n",
            "Loading required package: tidyr\n",
            "\n",
            "Loading required package: stringr\n",
            "\n",
            "Loading required package: magrittr\n",
            "\n",
            "\n",
            "Attaching package: ‘magrittr’\n",
            "\n",
            "\n",
            "The following object is masked from ‘package:tidyr’:\n",
            "\n",
            "    extract\n",
            "\n",
            "\n",
            "Loading required package: IRdisplay\n",
            "\n",
            "Loading required package: png\n",
            "\n",
            "Warning message in library(package, lib.loc = lib.loc, character.only = TRUE, logical.return = TRUE, :\n",
            "“there is no package called ‘png’”\n",
            "Installing package into ‘/usr/local/lib/R/site-library’\n",
            "(as ‘lib’ is unspecified)\n",
            "\n",
            "Loading required package: grid\n",
            "\n",
            "Loading required package: knitr\n",
            "\n"
          ]
        }
      ]
    },
    {
      "cell_type": "markdown",
      "source": [
        "**Do not modify the following**"
      ],
      "metadata": {
        "id": "0xU1keysgotb"
      }
    },
    {
      "cell_type": "code",
      "source": [
        "if (!require(\"testthat\")) install.packages(\"testthat\"); library(\"testthat\")\n",
        "\n",
        "test_that(\"Test if all packages have been loaded\", {\n",
        "\n",
        "  expect_true(all(c(\"ggplot2\", \"tidyr\", \"dplyr\", \"stringr\", \"magrittr\", \"knitr\") %in% loadedNamespaces()))\n",
        "\n",
        "})"
      ],
      "metadata": {
        "id": "VkOd7qZXgqr8",
        "colab": {
          "base_uri": "https://localhost:8080/"
        },
        "outputId": "5a916ced-b9ef-4d74-beb7-374c078725b9"
      },
      "execution_count": 2,
      "outputs": [
        {
          "output_type": "stream",
          "name": "stderr",
          "text": [
            "Loading required package: testthat\n",
            "\n",
            "\n",
            "Attaching package: ‘testthat’\n",
            "\n",
            "\n",
            "The following objects are masked from ‘package:magrittr’:\n",
            "\n",
            "    equals, is_less_than, not\n",
            "\n",
            "\n",
            "The following object is masked from ‘package:tidyr’:\n",
            "\n",
            "    matches\n",
            "\n",
            "\n",
            "The following object is masked from ‘package:dplyr’:\n",
            "\n",
            "    matches\n",
            "\n",
            "\n"
          ]
        },
        {
          "output_type": "stream",
          "name": "stdout",
          "text": [
            "\u001b[32mTest passed\u001b[39m 🥳\n"
          ]
        }
      ]
    },
    {
      "cell_type": "markdown",
      "source": [
        "## **Reference Tables for LSHT for Sample Means**"
      ],
      "metadata": {
        "id": "1WJSiLcxqAjt"
      }
    },
    {
      "cell_type": "markdown",
      "source": [
        "| Scenario | Parameter | Null Hypothesis | Test Statistic (z) |\n",
        "|----------|-----------|----------------|----------------|\n",
        "| One-sample mean | $\\mu$ | $\\mu = \\mu_0$ | $\\frac{\\bar{x}-\\mu_0}{s/\\sqrt{n}}$ |\n",
        "| One-sample proportion | $p$ | $p = p_0$ | $\\frac{\\hat{p}-p_0}{\\sqrt{p_0(1-p_0)/n}}$ |\n",
        "| Two-sample mean | $\\mu_1 - \\mu_2$ | $\\mu_1  = \\mu_2$ | $\\frac{\\bar{x}_1-\\bar{x}_2}{\\sqrt{s_1^2/n_1 + s_2^2/n_2}}$ |\n",
        "| Two-sample proportion | $p_1 - p_2$ | $p_1  = p_2$ | $\\frac{\\hat{p}_1-\\hat{p}_2}{\\sqrt{\\frac{\\hat{p}_1(1-\\hat{p}_1)}{n_1} + \\frac{\\hat{p}_2(1-\\hat{p}_2)}{n_2}}}$ |\n",
        "\n",
        "\n",
        "Under the null hypothesis, all the test statistics $z$ in these tables are approximately distributed as a standard Gaussian $N(0,1)$ (for large enough sample sizes). If $\\sigma$ is unknown, it can be replaced with the sample standard deviation.\n",
        "\n",
        "Any substantial deviation from the null hypothesis will tend to produce $z$ values that are unlikely under this standard Gaussian distribution, which is why extreme values of $z$ provide evidence against $H_0$. Even though any deviation from $H_0$ can provide evidence against it, the choice between a one-sided and a two-sided test depends on our research goal and the direction of interest.\n",
        "\n",
        "| Test Type | Alternative Hypothesis | Rejection Region |\n",
        "|-----------|----------------------|----------------|\n",
        "| One-sided (right) | $H_1: \\theta > \\theta_0$ | Reject $H_0$ if $z > z_{1-\\alpha}$ |\n",
        "| One-sided (left) | $H_1: \\theta < \\theta_0$ | Reject $H_0$ if $z < z_{\\alpha}$ |\n",
        "| Two-sided | $H_1: \\theta \\neq \\theta_0$ | Reject $H_0$ if $|z| > z_{1-\\alpha/2}$ |\n",
        "\n",
        "\n",
        "If we specifically care about deviations in one direction — for example, testing whether the average battery life is less than 8 hours — a one-sided test is appropriate. Allocating all of the Type I error $\\alpha$ to that direction increases the test’s ability to detect deviations that matter in practice.\n",
        "\n",
        "On the other hand, if deviations in either direction are meaningful — for instance, testing whether the average rating of a show differs from 7.7, whether higher or lower — a two-sided test is necessary. Splitting $\\alpha$ between both tails ensures we properly account for evidence against $H_0$ in either direction.\n",
        "\n",
        "There are other scenarios (e.g., both the null and the alternative hypotheses are intervals). However, they are out of the scope of this unit."
      ],
      "metadata": {
        "id": "KkwOCy-Xo3Xp"
      }
    },
    {
      "cell_type": "markdown",
      "source": [
        "## **Making Sense of Hypothesis Testing**\n"
      ],
      "metadata": {
        "id": "EoNyOvXKPpp9"
      }
    },
    {
      "cell_type": "code",
      "source": [
        "smpl_data = c(7.2, 8.53, 8.07, 7.99, 7.79, 7.77, 8.9, 7.64, 7.35, 8.45, 9.14, 7.93, 7.35, 7.52, 7.41, 8.27,\n",
        "7.55, 7.5, 8.53, 8.37, 8.17, 8.15, 8.02, 7.63,7.64, 8.83, 8.17, 7.41, 7.7, 8.21)"
      ],
      "metadata": {
        "id": "UXUcHNuKVw0p"
      },
      "execution_count": 3,
      "outputs": []
    },
    {
      "cell_type": "markdown",
      "source": [
        "### **Demonstrating Example**\n",
        "\n",
        "A phone company advertises that the average battery life of their phones (when continuously watching videos), denoted as $\\mu$, is 8 hours.\n",
        "\n",
        "To verify this claim, an independent random sample of 30 phones was tested. Battery life is assumed to follow a normal distribution, and the population standard deviation is known to be 1 hour.\n",
        "\n",
        "**Hint**:\n",
        "- Use the asymptotic properties of the sample mean\n",
        "- Replace the unknown standard deviation $\\sigma$ with its estimate"
      ],
      "metadata": {
        "id": "jAkk973JdkZb"
      }
    },
    {
      "cell_type": "markdown",
      "source": [
        "**Write down the asymptotic sampling distribution of sample mean.**"
      ],
      "metadata": {
        "id": "YaOr7MjSZm9L"
      }
    },
    {
      "cell_type": "markdown",
      "source": [
        "Given i.i.d. $x_1, \\ldots, x_n \\sim \\mathcal{N}(\\mu, \\sigma^2)$, we have:\n",
        "\n",
        "$$\\bar{x} \\sim \\mathcal{N}\\Big(\\mu,\\frac{\\sigma^2}{30}\\Big)$$\n",
        "\n",
        "This is the exact sampling distribution as $x_1, \\ldots, x_n$ are i.i.d. Gaussian random variables."
      ],
      "metadata": {
        "id": "Nfvp1kNaaCjG"
      }
    },
    {
      "cell_type": "markdown",
      "source": [
        "**Write down the null and alternative hypotheses for testing whether the company’s claim is correct.**"
      ],
      "metadata": {
        "id": "o7EUD2CTW9n-"
      }
    },
    {
      "cell_type": "markdown",
      "source": [
        "\n",
        "Since we are testing whether or not there is evidence *against* the company’s claim that the average battery life is 8 hours, the alternative hypothesis should challenge this claim.  \n",
        "\n",
        "Because we are not concerned if the battery lasts longer than 8 hours (that would be favorable to consumers), we only test if it is **less** than 8 hours.  \n",
        "\n",
        "$$\n",
        "\\begin{align}\n",
        "H_0: \\mu &= 8 \\\\\n",
        "H_1: \\mu &< 8\n",
        "\\end{align}\n",
        "$$\n",
        "\n",
        "This is a **left-tailed test** (or often simply referred to as one-tailed or one-sided test) of the mean."
      ],
      "metadata": {
        "id": "c-VZC_P0a11X"
      }
    },
    {
      "cell_type": "markdown",
      "source": [
        "**Approximate the sampling distribution of the sample mean under the null hypothesis.**"
      ],
      "metadata": {
        "id": "HaeJCeUTbjF9"
      }
    },
    {
      "cell_type": "code",
      "source": [
        "var(smpl_data)"
      ],
      "metadata": {
        "id": "axv1EtgzHhar",
        "colab": {
          "base_uri": "https://localhost:8080/",
          "height": 34
        },
        "outputId": "36f57003-03cf-4900-9efe-d7aefa09e75f"
      },
      "execution_count": 4,
      "outputs": [
        {
          "output_type": "display_data",
          "data": {
            "text/html": [
              "0.252849310344828"
            ],
            "text/markdown": "0.252849310344828",
            "text/latex": "0.252849310344828",
            "text/plain": [
              "[1] 0.2528493"
            ]
          },
          "metadata": {}
        }
      ]
    },
    {
      "cell_type": "markdown",
      "source": [
        "$$\\bar{x} \\sim \\mathcal{N}\\Big(7.9,\\frac{0.253}{30}\\Big)$$"
      ],
      "metadata": {
        "id": "gkxjqyJ3Hga6"
      }
    },
    {
      "cell_type": "markdown",
      "source": [
        "**Define the z-test statistic for testing the null hypothesis and derive the rejection region.**"
      ],
      "metadata": {
        "id": "edBS1yg8XT1k"
      }
    },
    {
      "cell_type": "markdown",
      "source": [
        "\n",
        "$$\n",
        "z = \\frac{\\bar{x} - \\mu_0}{\\sigma_{\\bar{x}}} \\approx \\frac{\\bar{x} - 8}{\\sqrt{\\frac{0.253}{30}}}\n",
        "$$\n",
        "\n",
        "\n",
        "At $\\alpha = 0.05$, we reject the null hypothesis if $z < z_{0.05} = -1.645$. Thus, the rejection region is $(-\\infty, -1.645)$."
      ],
      "metadata": {
        "id": "bbuSlo1mIUQW"
      }
    },
    {
      "cell_type": "markdown",
      "source": [
        "**Why is this approach valid?**\n",
        "\n",
        "Under the null hypothesis (i.e., if $H_0$ is true), the test statistic follows (approximately) a standard Gaussian distribution:  \n",
        "\n",
        "$$\n",
        "z \\mid H_0 \\sim \\mathcal{N}(0,1)\n",
        "$$  \n",
        "\n",
        "Here, the probability of observing $z < -1.645$ under $H_0$ is 0.05, which is relatively unlikely. If we observe a test statistic less than -1.645, this provides evidence **against** the null hypothesis that $\\mu = 8$.  \n",
        "\n",
        "For example, if the true population mean is substantially smaller than 8, the sample mean is likely to be smaller, resulting in a more negative test statistic $z$.  \n",
        "\n",
        "\n"
      ],
      "metadata": {
        "id": "QojWvOg0gLjf"
      }
    },
    {
      "cell_type": "markdown",
      "source": [
        "**Given the sample data, compute the test statistic and state the Neyman-Pearson decision.**"
      ],
      "metadata": {
        "id": "Jt709RJoXzud"
      }
    },
    {
      "cell_type": "code",
      "source": [
        "xbar = mean(smpl_data)\n",
        "s = sd(smpl_data)\n",
        "n = 30\n",
        "z = (xbar-8)/(s/sqrt(n))\n",
        "z"
      ],
      "metadata": {
        "id": "tHg0vZV-YCFu",
        "colab": {
          "base_uri": "https://localhost:8080/",
          "height": 34
        },
        "outputId": "74d2cf45-3505-4f10-c192-837601d96f72"
      },
      "execution_count": 5,
      "outputs": [
        {
          "output_type": "display_data",
          "data": {
            "text/html": [
              "-0.294098970877915"
            ],
            "text/markdown": "-0.294098970877915",
            "text/latex": "-0.294098970877915",
            "text/plain": [
              "[1] -0.294099"
            ]
          },
          "metadata": {}
        }
      ]
    },
    {
      "cell_type": "markdown",
      "source": [
        "As $z ≈ -0.294 ∉ (-∞, -1.645)$, there is no evidence against the null hypothesis that $\\mu = 8$. There is insufficient evidence to reject the null hypothesis."
      ],
      "metadata": {
        "id": "FfRpraVLRqve"
      }
    },
    {
      "cell_type": "markdown",
      "source": [
        "### **Intuitions of Hypothesis Testing**"
      ],
      "metadata": {
        "id": "RGC2U6nLdvf2"
      }
    },
    {
      "cell_type": "markdown",
      "source": [
        "#### **Hypothesis Testing Looks For Evidence**"
      ],
      "metadata": {
        "id": "tCxq00UZbByj"
      }
    },
    {
      "cell_type": "markdown",
      "source": [
        "Hypothesis testing is based on the philosophy that if an event is unlikely under scenario A, but we still observe it in reality, this serves as evidence against scenario A (calling into question the validity or existence of A).\n",
        "\n",
        "By convention, the **null hypothesis** is set to represent the idea that \"nothing special is happening,\" while the **alternative hypothesis** is the one that *challenges* this assumption.  \n",
        "\n",
        "For example:  \n",
        "- If you want to test whether the average battery life is less than 8 hours, the null hypothesis would be:  \n",
        "  $$\n",
        "  H_0: \\mu = 8\n",
        "  $$  \n",
        "  This is the \"nothing special\" scenario.  \n",
        "\n",
        "- If you suspect someone might have malicious intent, the null hypothesis would be:  \n",
        "  $$\n",
        "  H_0: \\text{No malicious intent}\n",
        "  $$\n",
        "  The alternative would be:  \n",
        "  $$\n",
        "  H_1: \\text{Malicious intent}\n",
        "  $$  \n",
        "\n",
        "Of course, if you start observing lots of *suspicious* actions, those observations serve as **evidence against the null**, which may lead you to favour the alternative.\n"
      ],
      "metadata": {
        "id": "vfnHWcAkbAHm"
      }
    },
    {
      "cell_type": "markdown",
      "source": [
        "\n",
        "#### **Hypothesis Testing Does Not Prove Truth**\n",
        "\n",
        "Hypothesis testing cannot establish whether a hypothesis is true or false—it only assesses whether the data provide sufficient evidence to reject the null hypothesis.\n",
        "\n",
        "Even if we reject the null hypothesis, this does **not** mean that $H_0$ is false. This is because we may still commit a **Type I error**, which occurs when we reject the null hypothesis even though it is actually true.  \n",
        "\n",
        "Therefore, we should **never say**:  \n",
        "- \"The null hypothesis is wrong.\"  \n",
        "- \"The alternative hypothesis is correct.\"\n",
        "- \"We accept the alternative hypothesis.\"\n",
        "\n",
        "Instead, say:\n",
        "\n",
        "- \"There is evidence against the null hypothesis.\"\n",
        "- \"We reject the null hypothesis in favour of the alternative.\"\n",
        "\n",
        "The good news is that the probability of a Type I error is something we can control.  Most conventional hypothesis testing procedures (such as Neyman-Pearson or Fisher’s p-value approach) are based on pre-specifying a Type I error probability, often denoted by $\\alpha$. A common choice is $\\alpha = 0.05$, which serves as the threshold for deciding whether the observed data provide sufficient evidence against $H_0$.  \n",
        "\n",
        "Back to this example:\n",
        "\n",
        "$$\n",
        "\\begin{align}\n",
        "H_0: &\\text{ No malicious intent} \\\\\n",
        "H_1: &\\text{ Malicious intent}\n",
        "\\end{align}\n",
        "$$\n",
        "\n",
        "What if we observe no suspicious actions? Does that mean $H_0$ is `true`? Not necessarily — they may simply be waiting for an opportunity. In hypothesis testing, we also have **Type 2 error** - failing to reject the null hypothesis when it's actually false. As a result, failing to reject the null does not imply:\n",
        "\n",
        "- \"The null hypothesis is correct.\"\n",
        "- \"We accept the null hypothesis.\"\n",
        "\n",
        "Instead, we should conclude that\n",
        "- \"There is no (or insufficient) evidence against the null hypothesis.\"\n",
        "\n",
        "Unfortunately, there is an inherent trade-off between Type I and Type II errors. The Neyman–Pearson lemma shows how to construct the most powerful test for a given size (i.e., a fixed Type I error rate). This test minimises the Type II error among all tests with that Type I error. However, for any fixed Type I error rate, you cannot reduce the Type II error further. In practice, you first choose the Type I error rate you are willing to tolerate, and then apply Neyman–Pearson to obtain a test that achieves the best possible power against a given alternative.\n",
        "\n",
        "How to actually construct such tests is beyond the scope of this unit. Instead, we will only state a corollary of the Neyman–Pearson lemma, which shows how to determine the rejection region in the simple case of testing hypotheses about the sample means."
      ],
      "metadata": {
        "id": "sbXBHPhRbNtq"
      }
    },
    {
      "cell_type": "markdown",
      "source": [
        "#### **Only Meaningful Deviation Matters**\n",
        "\n",
        "We do hypothesis testing not to determine whether $H_0$ is true, but rather to assess whether the data provide evidence of a **meaningful** deviation from the null hypothesis — usually the “nothing is happening” scenario that we care about.\n",
        "\n",
        "\n",
        "For example, suppose the true mean battery life is 7.999 hours instead of 8. Such a tiny difference is practically indistinguishable, so it does not matter. What matters is whether the observed data show a meaningful departure from the claimed value of 8 hours. In this case, it is very likely that we will fail to reject the null hypothesis $\\mu_0 = 8$, because the deviation is too small to detect. The Type II error rate will be high. Is that a problem? Not at all. Even if we fail to reject $H_0$ in most scenarios, this still indicates there is no evidence against the hypothesis that the mean battery life is 8, which is essentially very close to the truth.\n"
      ],
      "metadata": {
        "id": "FvW1syaFbY5f"
      }
    },
    {
      "cell_type": "markdown",
      "source": [
        "#### **The Danger of Post-hoc Hypotheses**\n",
        "\n",
        "It is very bad practice to adjust the hypothesis after looking at the data.\n",
        "\n",
        "Hypothesis testing assumes that the null and alternative hypotheses are specified before collecting or examining the data.\n",
        "Changing your hypothesis after observing the data (sometimes called “data snooping” or “p-hacking”) inflates the Type I error rate and makes your conclusions unreliable.\n",
        "Connection to the battery-life example:\n",
        "Suppose you originally want to test\n",
        "\n",
        "$$\n",
        "\\begin{align}\n",
        "H_0: \\mu &= 8 \\\\\n",
        "H_1: \\mu &< 8\n",
        "\\end{align}\n",
        "$$\n",
        "\n",
        "If you peek at the data and see a mean around 7.95 hours, and then decide to only test a smaller deviation (say $\\mu < 7.9$) to get “nicer” results, you are **post-hoc adjusting the hypothesis**.  This biases the test: your Type I error is no longer controlled.\n",
        "\n",
        "The correct approach: decide in advance what deviation you want to detect (e.g., battery life shorter than 8 hours) and stick with it, regardless of what the observed sample mean turns out to be. If you want to change the hypotheses, you need to collect new data."
      ],
      "metadata": {
        "id": "Hi_IIwfdegJa"
      }
    },
    {
      "cell_type": "markdown",
      "source": [
        "**Another issue, called multiple testing, can lead to invalid inferences if not properly addressed. This topic will be covered in the next lecture.**"
      ],
      "metadata": {
        "id": "kiclBtSbxxTW"
      }
    },
    {
      "cell_type": "markdown",
      "source": [
        "## **Workshop Questions**\n",
        "Through out this section, we assume a Type 1 error rate of 0.05.\n",
        "\n",
        "\n"
      ],
      "metadata": {
        "id": "u7rOC3o-fyix"
      }
    },
    {
      "cell_type": "markdown",
      "source": [
        "### **Question 1**\n",
        "\n",
        "The following questions are based on the `episodes` dataset. While you are expected to use R to compute the answers, the underlying concepts are identical to those in pen-and-paper hypothesis testing calculations."
      ],
      "metadata": {
        "id": "gMPkgJnVhLdq"
      }
    },
    {
      "cell_type": "code",
      "source": [
        "episodes = read.csv(\"./datasets/episodes.csv\")\n",
        "episodes %>% str()\n",
        "episodes"
      ],
      "metadata": {
        "id": "lTezwUg3hPf8",
        "colab": {
          "base_uri": "https://localhost:8080/",
          "height": 1000
        },
        "outputId": "f5b64618-cbbe-4db2-9d61-2273b6f02221"
      },
      "execution_count": 12,
      "outputs": [
        {
          "output_type": "stream",
          "name": "stdout",
          "text": [
            "'data.frame':\t704 obs. of  57 variables:\n",
            " $ Series                        : chr  \"TOS\" \"TOS\" \"TOS\" \"TOS\" ...\n",
            " $ Series.Name                   : chr  \"The Original Series\" \"The Original Series\" \"The Original Series\" \"The Original Series\" ...\n",
            " $ Season                        : int  1 1 1 1 1 1 1 1 1 1 ...\n",
            " $ Episode                       : int  1 2 3 4 5 6 7 8 9 10 ...\n",
            " $ IMDB.Ranking                  : num  7.3 7.2 7.8 8 7.8 6.9 7.6 7.1 7.5 8.2 ...\n",
            " $ Title                         : chr  \"The Man Trap\" \"Charlie X\" \"Where No Man Has Gone Before\" \"The Naked Time\" ...\n",
            " $ Star.date                     : chr  \"1513.1\" \"1533.6\" \"1312.4\" \"1704.2\" ...\n",
            " $ Air.date                      : chr  \"8/9/66\" \"15/9/66\" \"22/9/66\" \"29/9/66\" ...\n",
            " $ Bechdel.Wallace.Test          : logi  FALSE FALSE FALSE FALSE FALSE FALSE ...\n",
            " $ Director                      : chr  \"Marc Daniels\" \"Lawrence Dobkin\" \"James Goldstone\" \"Marc Daniels\" ...\n",
            " $ Writer.1                      : chr  \"George Clayton Johnson\" \"Gene Rodenberry\" \"Samuel A Peeples\" \"John D. F. Black\" ...\n",
            " $ Writer.2                      : chr  NA \"D. C. Fontana\" NA NA ...\n",
            " $ Writer.3                      : chr  NA NA NA NA ...\n",
            " $ Writer.4                      : chr  NA NA NA NA ...\n",
            " $ Writer.5                      : chr  NA NA NA NA ...\n",
            " $ Writer.6                      : chr  NA NA NA NA ...\n",
            " $ Female.Director               : logi  FALSE FALSE FALSE FALSE FALSE FALSE ...\n",
            " $ Female.Writer.1               : logi  FALSE FALSE FALSE FALSE FALSE FALSE ...\n",
            " $ Female.Writer.2               : logi  FALSE TRUE FALSE FALSE FALSE FALSE ...\n",
            " $ Female.Writer.3               : logi  FALSE FALSE FALSE FALSE FALSE FALSE ...\n",
            " $ Female.Writer.4               : logi  FALSE FALSE FALSE FALSE FALSE FALSE ...\n",
            " $ Female.Writer.5               : logi  FALSE FALSE FALSE FALSE FALSE FALSE ...\n",
            " $ Female.Writer.6               : logi  FALSE FALSE FALSE FALSE FALSE FALSE ...\n",
            " $ Executive.Producer.1          : chr  NA NA NA NA ...\n",
            " $ Executive.Producer.2          : chr  NA NA NA NA ...\n",
            " $ Executive.Producer.3          : chr  NA NA NA NA ...\n",
            " $ Co.Executive.Producer.1       : chr  NA NA NA NA ...\n",
            " $ Co.Executive.Producer.2       : chr  NA NA NA NA ...\n",
            " $ Co.Executive.Producer.3       : chr  NA NA NA NA ...\n",
            " $ Producer.1                    : chr  \"Gene Rodenberry\" \"Gene Rodenberry\" \"Gene Rodenberry\" \"Gene Rodenberry\" ...\n",
            " $ Producer.2                    : chr  NA NA NA NA ...\n",
            " $ Producer.3                    : chr  NA NA NA NA ...\n",
            " $ Producer.4                    : chr  NA NA NA NA ...\n",
            " $ Co.Producer.1                 : chr  NA NA NA NA ...\n",
            " $ Co.Producer.2                 : chr  NA NA NA NA ...\n",
            " $ Co.Producer.3                 : chr  NA NA NA NA ...\n",
            " $ Co.Producer.4                 : chr  NA NA NA NA ...\n",
            " $ Co.Producer.5                 : chr  NA NA NA NA ...\n",
            " $ Associate.Producer.1          : chr  \"John D. F. Black\" \"John D. F. Black\" \"Robert H. Justman\" \"John D. F. Black\" ...\n",
            " $ Associate.Producer.2          : chr  \"Robert H. Justman\" \"Robert H. Justman\" NA \"Robert H. Justman\" ...\n",
            " $ Supervising.Producer.1        : chr  NA NA NA NA ...\n",
            " $ Supervising.Producer.2        : chr  NA NA NA NA ...\n",
            " $ Supervising.Producer.3        : chr  NA NA NA NA ...\n",
            " $ Co.Supervising.Producer.1     : chr  NA NA NA NA ...\n",
            " $ Co.Supervising.Producer.2     : chr  NA NA NA NA ...\n",
            " $ Line.Producer                 : chr  NA NA NA NA ...\n",
            " $ Coordinating.Producer         : chr  NA NA NA NA ...\n",
            " $ Consulting.Producer.1         : chr  NA NA NA NA ...\n",
            " $ Consulting.Producer.2         : chr  NA NA NA NA ...\n",
            " $ Female.Executive.Producer     : logi  FALSE FALSE FALSE FALSE FALSE FALSE ...\n",
            " $ Female.Co.Executive.Producer  : logi  FALSE FALSE FALSE FALSE FALSE FALSE ...\n",
            " $ Female.Producer               : logi  FALSE FALSE FALSE FALSE FALSE FALSE ...\n",
            " $ Female.Co.Producer            : logi  FALSE FALSE FALSE FALSE FALSE FALSE ...\n",
            " $ Female.Associate.Producer     : logi  FALSE FALSE FALSE FALSE FALSE FALSE ...\n",
            " $ Female.Supervising.Producer   : logi  FALSE FALSE FALSE FALSE FALSE FALSE ...\n",
            " $ Female.Co.Supervising.Producer: logi  FALSE FALSE FALSE FALSE FALSE FALSE ...\n",
            " $ Female.Line.Producer          : logi  FALSE FALSE FALSE FALSE FALSE FALSE ...\n"
          ]
        },
        {
          "output_type": "display_data",
          "data": {
            "text/html": [
              "<table class=\"dataframe\">\n",
              "<caption>A data.frame: 704 × 57</caption>\n",
              "<thead>\n",
              "\t<tr><th scope=col>Series</th><th scope=col>Series.Name</th><th scope=col>Season</th><th scope=col>Episode</th><th scope=col>IMDB.Ranking</th><th scope=col>Title</th><th scope=col>Star.date</th><th scope=col>Air.date</th><th scope=col>Bechdel.Wallace.Test</th><th scope=col>Director</th><th scope=col>⋯</th><th scope=col>Consulting.Producer.1</th><th scope=col>Consulting.Producer.2</th><th scope=col>Female.Executive.Producer</th><th scope=col>Female.Co.Executive.Producer</th><th scope=col>Female.Producer</th><th scope=col>Female.Co.Producer</th><th scope=col>Female.Associate.Producer</th><th scope=col>Female.Supervising.Producer</th><th scope=col>Female.Co.Supervising.Producer</th><th scope=col>Female.Line.Producer</th></tr>\n",
              "\t<tr><th scope=col>&lt;chr&gt;</th><th scope=col>&lt;chr&gt;</th><th scope=col>&lt;int&gt;</th><th scope=col>&lt;int&gt;</th><th scope=col>&lt;dbl&gt;</th><th scope=col>&lt;chr&gt;</th><th scope=col>&lt;chr&gt;</th><th scope=col>&lt;chr&gt;</th><th scope=col>&lt;lgl&gt;</th><th scope=col>&lt;chr&gt;</th><th scope=col>⋯</th><th scope=col>&lt;chr&gt;</th><th scope=col>&lt;chr&gt;</th><th scope=col>&lt;lgl&gt;</th><th scope=col>&lt;lgl&gt;</th><th scope=col>&lt;lgl&gt;</th><th scope=col>&lt;lgl&gt;</th><th scope=col>&lt;lgl&gt;</th><th scope=col>&lt;lgl&gt;</th><th scope=col>&lt;lgl&gt;</th><th scope=col>&lt;lgl&gt;</th></tr>\n",
              "</thead>\n",
              "<tbody>\n",
              "\t<tr><td>TOS</td><td>The Original Series</td><td>1</td><td> 1</td><td>7.3</td><td>The Man Trap                   </td><td>1513.1 </td><td>8/9/66  </td><td>FALSE</td><td>Marc Daniels      </td><td>⋯</td><td>NA</td><td>NA</td><td>FALSE</td><td>FALSE</td><td>FALSE</td><td>FALSE</td><td>FALSE</td><td>FALSE</td><td>FALSE</td><td>FALSE</td></tr>\n",
              "\t<tr><td>TOS</td><td>The Original Series</td><td>1</td><td> 2</td><td>7.2</td><td>Charlie X                      </td><td>1533.6 </td><td>15/9/66 </td><td>FALSE</td><td>Lawrence Dobkin   </td><td>⋯</td><td>NA</td><td>NA</td><td>FALSE</td><td>FALSE</td><td>FALSE</td><td>FALSE</td><td>FALSE</td><td>FALSE</td><td>FALSE</td><td>FALSE</td></tr>\n",
              "\t<tr><td>TOS</td><td>The Original Series</td><td>1</td><td> 3</td><td>7.8</td><td>Where No Man Has Gone Before   </td><td>1312.4 </td><td>22/9/66 </td><td>FALSE</td><td>James Goldstone   </td><td>⋯</td><td>NA</td><td>NA</td><td>FALSE</td><td>FALSE</td><td>FALSE</td><td>FALSE</td><td>FALSE</td><td>FALSE</td><td>FALSE</td><td>FALSE</td></tr>\n",
              "\t<tr><td>TOS</td><td>The Original Series</td><td>1</td><td> 4</td><td>8.0</td><td>The Naked Time                 </td><td>1704.2 </td><td>29/9/66 </td><td>FALSE</td><td>Marc Daniels      </td><td>⋯</td><td>NA</td><td>NA</td><td>FALSE</td><td>FALSE</td><td>FALSE</td><td>FALSE</td><td>FALSE</td><td>FALSE</td><td>FALSE</td><td>FALSE</td></tr>\n",
              "\t<tr><td>TOS</td><td>The Original Series</td><td>1</td><td> 5</td><td>7.8</td><td>The Enemy Within               </td><td>1672.1 </td><td>6/10/66 </td><td>FALSE</td><td>Leo Penn          </td><td>⋯</td><td>NA</td><td>NA</td><td>FALSE</td><td>FALSE</td><td>FALSE</td><td>FALSE</td><td>FALSE</td><td>FALSE</td><td>FALSE</td><td>FALSE</td></tr>\n",
              "\t<tr><td>TOS</td><td>The Original Series</td><td>1</td><td> 6</td><td>6.9</td><td>Mudd's Women                   </td><td>1329.8 </td><td>13/10/66</td><td>FALSE</td><td>Harey Hart        </td><td>⋯</td><td>NA</td><td>NA</td><td>FALSE</td><td>FALSE</td><td>FALSE</td><td>FALSE</td><td>FALSE</td><td>FALSE</td><td>FALSE</td><td>FALSE</td></tr>\n",
              "\t<tr><td>TOS</td><td>The Original Series</td><td>1</td><td> 7</td><td>7.6</td><td>What Are Little Girls Made Of? </td><td>2712.4 </td><td>20/10/66</td><td>FALSE</td><td>James Goldstone   </td><td>⋯</td><td>NA</td><td>NA</td><td>FALSE</td><td>FALSE</td><td>FALSE</td><td>FALSE</td><td>FALSE</td><td>FALSE</td><td>FALSE</td><td>FALSE</td></tr>\n",
              "\t<tr><td>TOS</td><td>The Original Series</td><td>1</td><td> 8</td><td>7.1</td><td>Miri                           </td><td>2713.5 </td><td>27/10/66</td><td>FALSE</td><td>Vincent McEveety  </td><td>⋯</td><td>NA</td><td>NA</td><td>FALSE</td><td>FALSE</td><td>FALSE</td><td>FALSE</td><td>FALSE</td><td>FALSE</td><td>FALSE</td><td>FALSE</td></tr>\n",
              "\t<tr><td>TOS</td><td>The Original Series</td><td>1</td><td> 9</td><td>7.5</td><td>Dagger of the Mind             </td><td>2715.1 </td><td>3/11/66 </td><td>FALSE</td><td>Vincent McEveety  </td><td>⋯</td><td>NA</td><td>NA</td><td>FALSE</td><td>FALSE</td><td>FALSE</td><td>FALSE</td><td>FALSE</td><td>FALSE</td><td>FALSE</td><td>FALSE</td></tr>\n",
              "\t<tr><td>TOS</td><td>The Original Series</td><td>1</td><td>10</td><td>8.2</td><td>The Corbomite Maneuver         </td><td>1512.2 </td><td>10/11/66</td><td>FALSE</td><td>Joseph Sargent    </td><td>⋯</td><td>NA</td><td>NA</td><td>FALSE</td><td>FALSE</td><td>FALSE</td><td>FALSE</td><td>FALSE</td><td>FALSE</td><td>FALSE</td><td>FALSE</td></tr>\n",
              "\t<tr><td>TOS</td><td>The Original Series</td><td>1</td><td>11</td><td>8.4</td><td>The Menagerie, Part I          </td><td>3012.4 </td><td>17/11/66</td><td>FALSE</td><td>Marc Daniels      </td><td>⋯</td><td>NA</td><td>NA</td><td>FALSE</td><td>FALSE</td><td>FALSE</td><td>FALSE</td><td>FALSE</td><td>FALSE</td><td>FALSE</td><td>FALSE</td></tr>\n",
              "\t<tr><td>TOS</td><td>The Original Series</td><td>1</td><td>12</td><td>8.3</td><td>The Menagerie, Part II         </td><td>3013.1 </td><td>24/11/66</td><td>FALSE</td><td>Robert Butler     </td><td>⋯</td><td>NA</td><td>NA</td><td>FALSE</td><td>FALSE</td><td>FALSE</td><td>FALSE</td><td>FALSE</td><td>FALSE</td><td>FALSE</td><td>FALSE</td></tr>\n",
              "\t<tr><td>TOS</td><td>The Original Series</td><td>1</td><td>13</td><td>7.3</td><td>The Conscience of the King     </td><td>2817.6 </td><td>8/12/66 </td><td>FALSE</td><td>Gerd Oswald       </td><td>⋯</td><td>NA</td><td>NA</td><td>FALSE</td><td>FALSE</td><td>FALSE</td><td>FALSE</td><td>FALSE</td><td>FALSE</td><td>FALSE</td><td>FALSE</td></tr>\n",
              "\t<tr><td>TOS</td><td>The Original Series</td><td>1</td><td>14</td><td>9.0</td><td>Balance of Terror              </td><td>1709.2 </td><td>15/12/66</td><td>FALSE</td><td>Vincent McEveety  </td><td>⋯</td><td>NA</td><td>NA</td><td>FALSE</td><td>FALSE</td><td>FALSE</td><td>FALSE</td><td>FALSE</td><td>FALSE</td><td>FALSE</td><td>FALSE</td></tr>\n",
              "\t<tr><td>TOS</td><td>The Original Series</td><td>1</td><td>15</td><td>7.7</td><td>Shore Leave                    </td><td>3025.3 </td><td>29/12/66</td><td>FALSE</td><td>Robert Sparr      </td><td>⋯</td><td>NA</td><td>NA</td><td>FALSE</td><td>FALSE</td><td>FALSE</td><td>FALSE</td><td>FALSE</td><td>FALSE</td><td>FALSE</td><td>FALSE</td></tr>\n",
              "\t<tr><td>TOS</td><td>The Original Series</td><td>1</td><td>16</td><td>7.8</td><td>The Galileo Seven              </td><td>2821.5 </td><td>5/1/67  </td><td>FALSE</td><td>Robert Gist       </td><td>⋯</td><td>NA</td><td>NA</td><td>FALSE</td><td>FALSE</td><td>FALSE</td><td>FALSE</td><td>FALSE</td><td>FALSE</td><td>FALSE</td><td>FALSE</td></tr>\n",
              "\t<tr><td>TOS</td><td>The Original Series</td><td>1</td><td>17</td><td>7.5</td><td>The Squire of Gothos           </td><td>2124.5 </td><td>12/1/67 </td><td>FALSE</td><td>Don McDougall     </td><td>⋯</td><td>NA</td><td>NA</td><td>FALSE</td><td>FALSE</td><td>FALSE</td><td>FALSE</td><td>FALSE</td><td>FALSE</td><td>FALSE</td><td>FALSE</td></tr>\n",
              "\t<tr><td>TOS</td><td>The Original Series</td><td>1</td><td>18</td><td>8.1</td><td>Arena                          </td><td>3045.6 </td><td>19/1/67 </td><td>FALSE</td><td>Joseph Pevney     </td><td>⋯</td><td>NA</td><td>NA</td><td>FALSE</td><td>FALSE</td><td>FALSE</td><td>FALSE</td><td>FALSE</td><td>FALSE</td><td>FALSE</td><td>FALSE</td></tr>\n",
              "\t<tr><td>TOS</td><td>The Original Series</td><td>1</td><td>19</td><td>8.0</td><td>Tomorrow Is Yesterday          </td><td>3113.2 </td><td>26/1/67 </td><td>FALSE</td><td>Michael O'Herlihy </td><td>⋯</td><td>NA</td><td>NA</td><td>FALSE</td><td>FALSE</td><td>FALSE</td><td>FALSE</td><td>FALSE</td><td>FALSE</td><td>FALSE</td><td>FALSE</td></tr>\n",
              "\t<tr><td>TOS</td><td>The Original Series</td><td>1</td><td>20</td><td>7.5</td><td>Court Martial                  </td><td>2947.3 </td><td>2/2/67  </td><td>FALSE</td><td>Marc Daniels      </td><td>⋯</td><td>NA</td><td>NA</td><td>FALSE</td><td>FALSE</td><td>FALSE</td><td>FALSE</td><td>FALSE</td><td>FALSE</td><td>FALSE</td><td>FALSE</td></tr>\n",
              "\t<tr><td>TOS</td><td>The Original Series</td><td>1</td><td>21</td><td>7.3</td><td>The Return of the Archons      </td><td>3156.2 </td><td>9/2/67  </td><td>FALSE</td><td>Joseph Pevney     </td><td>⋯</td><td>NA</td><td>NA</td><td>FALSE</td><td>FALSE</td><td>FALSE</td><td>FALSE</td><td>FALSE</td><td>FALSE</td><td>FALSE</td><td>FALSE</td></tr>\n",
              "\t<tr><td>TOS</td><td>The Original Series</td><td>1</td><td>22</td><td>8.9</td><td>Space Seed                     </td><td>3141.9 </td><td>16/2/67 </td><td>FALSE</td><td>Marc Daniels      </td><td>⋯</td><td>NA</td><td>NA</td><td>FALSE</td><td>FALSE</td><td>FALSE</td><td>FALSE</td><td>FALSE</td><td>FALSE</td><td>FALSE</td><td>FALSE</td></tr>\n",
              "\t<tr><td>TOS</td><td>The Original Series</td><td>1</td><td>23</td><td>8.2</td><td>A Taste of Armageddon          </td><td>3192.1 </td><td>23/2/67 </td><td>FALSE</td><td>Joseph Pevney     </td><td>⋯</td><td>NA</td><td>NA</td><td>FALSE</td><td>FALSE</td><td>FALSE</td><td>FALSE</td><td>FALSE</td><td>FALSE</td><td>FALSE</td><td>FALSE</td></tr>\n",
              "\t<tr><td>TOS</td><td>The Original Series</td><td>1</td><td>24</td><td>8.0</td><td>This Side of Paradise          </td><td>3417.3 </td><td>2/3/67  </td><td>FALSE</td><td>Ralph Senensky    </td><td>⋯</td><td>NA</td><td>NA</td><td>FALSE</td><td>FALSE</td><td>FALSE</td><td>FALSE</td><td>FALSE</td><td>FALSE</td><td>FALSE</td><td>FALSE</td></tr>\n",
              "\t<tr><td>TOS</td><td>The Original Series</td><td>1</td><td>25</td><td>8.5</td><td>The Devil in the Dark          </td><td>3196.1 </td><td>9/3/67  </td><td>FALSE</td><td>Joseph Pevney     </td><td>⋯</td><td>NA</td><td>NA</td><td>FALSE</td><td>FALSE</td><td>FALSE</td><td>FALSE</td><td>FALSE</td><td>FALSE</td><td>FALSE</td><td>FALSE</td></tr>\n",
              "\t<tr><td>TOS</td><td>The Original Series</td><td>1</td><td>26</td><td>8.3</td><td>Errand of Mercy                </td><td>3198.4 </td><td>23/3/67 </td><td>FALSE</td><td>John Newland      </td><td>⋯</td><td>NA</td><td>NA</td><td>FALSE</td><td>FALSE</td><td>FALSE</td><td>FALSE</td><td>FALSE</td><td>FALSE</td><td>FALSE</td><td>FALSE</td></tr>\n",
              "\t<tr><td>TOS</td><td>The Original Series</td><td>1</td><td>27</td><td>5.9</td><td>The Alternative Factor         </td><td>3087.6 </td><td>30/3/67 </td><td>FALSE</td><td>Gerd Oswald       </td><td>⋯</td><td>NA</td><td>NA</td><td>FALSE</td><td>FALSE</td><td>FALSE</td><td>FALSE</td><td>FALSE</td><td>FALSE</td><td>FALSE</td><td>FALSE</td></tr>\n",
              "\t<tr><td>TOS</td><td>The Original Series</td><td>1</td><td>28</td><td>9.3</td><td>The City on the Edge of Forever</td><td>Unknown</td><td>6/4/67  </td><td>FALSE</td><td>Joseph Pevney     </td><td>⋯</td><td>NA</td><td>NA</td><td>FALSE</td><td>FALSE</td><td>FALSE</td><td>FALSE</td><td>FALSE</td><td>FALSE</td><td>FALSE</td><td>FALSE</td></tr>\n",
              "\t<tr><td>TOS</td><td>The Original Series</td><td>1</td><td>29</td><td>7.7</td><td>Operation: Annihilate!         </td><td>3287.2 </td><td>13/4/67 </td><td>FALSE</td><td>Herschel Daughtery</td><td>⋯</td><td>NA</td><td>NA</td><td>FALSE</td><td>FALSE</td><td>FALSE</td><td>FALSE</td><td>FALSE</td><td>FALSE</td><td>FALSE</td><td>FALSE</td></tr>\n",
              "\t<tr><td>TOS</td><td>The Original Series</td><td>2</td><td> 1</td><td>8.8</td><td>Amok Time                      </td><td>3372.7 </td><td>15/9/67 </td><td>FALSE</td><td>Joseph Pevney     </td><td>⋯</td><td>NA</td><td>NA</td><td>FALSE</td><td>FALSE</td><td>FALSE</td><td>FALSE</td><td>FALSE</td><td>FALSE</td><td>FALSE</td><td>FALSE</td></tr>\n",
              "\t<tr><td>⋮</td><td>⋮</td><td>⋮</td><td>⋮</td><td>⋮</td><td>⋮</td><td>⋮</td><td>⋮</td><td>⋮</td><td>⋮</td><td>⋱</td><td>⋮</td><td>⋮</td><td>⋮</td><td>⋮</td><td>⋮</td><td>⋮</td><td>⋮</td><td>⋮</td><td>⋮</td><td>⋮</td></tr>\n",
              "\t<tr><td>ENT</td><td>Enterprise</td><td>3</td><td>17</td><td>7.0</td><td>Hatchery                     </td><td>Unknown</td><td>25/2/04 </td><td>FALSE</td><td>Michael Grossman   </td><td>⋯</td><td>David A. Goodman</td><td>NA</td><td>FALSE</td><td>FALSE</td><td>TRUE</td><td>FALSE</td><td>FALSE</td><td>TRUE</td><td>FALSE</td><td>FALSE</td></tr>\n",
              "\t<tr><td>ENT</td><td>Enterprise</td><td>3</td><td>18</td><td>8.7</td><td>Azati Prime                  </td><td>Unknown</td><td>3/3/04  </td><td> TRUE</td><td>Allan Kroeker      </td><td>⋯</td><td>David A. Goodman</td><td>NA</td><td>FALSE</td><td>FALSE</td><td>TRUE</td><td>FALSE</td><td>FALSE</td><td>TRUE</td><td>FALSE</td><td>FALSE</td></tr>\n",
              "\t<tr><td>ENT</td><td>Enterprise</td><td>3</td><td>19</td><td>8.3</td><td>Damage                       </td><td>Unknown</td><td>21/4/04 </td><td>FALSE</td><td>James L. Conway    </td><td>⋯</td><td>David A. Goodman</td><td>NA</td><td>FALSE</td><td>FALSE</td><td>TRUE</td><td>FALSE</td><td>FALSE</td><td>TRUE</td><td>FALSE</td><td>FALSE</td></tr>\n",
              "\t<tr><td>ENT</td><td>Enterprise</td><td>3</td><td>20</td><td>8.1</td><td>The Forgotten                </td><td>Unknown</td><td>28/4/04 </td><td>FALSE</td><td>LeVar Burton       </td><td>⋯</td><td>David A. Goodman</td><td>NA</td><td>FALSE</td><td>FALSE</td><td>TRUE</td><td>FALSE</td><td>FALSE</td><td>TRUE</td><td>FALSE</td><td>FALSE</td></tr>\n",
              "\t<tr><td>ENT</td><td>Enterprise</td><td>3</td><td>21</td><td>8.0</td><td>E²                           </td><td>Unknown</td><td>5/5/04  </td><td> TRUE</td><td>Roxann Dawson      </td><td>⋯</td><td>David A. Goodman</td><td>NA</td><td>FALSE</td><td>FALSE</td><td>TRUE</td><td>FALSE</td><td>FALSE</td><td>TRUE</td><td>FALSE</td><td>FALSE</td></tr>\n",
              "\t<tr><td>ENT</td><td>Enterprise</td><td>3</td><td>22</td><td>8.5</td><td>The Council                  </td><td>Unknown</td><td>12/5/04 </td><td>FALSE</td><td>David Livingston   </td><td>⋯</td><td>David A. Goodman</td><td>NA</td><td>FALSE</td><td>FALSE</td><td>TRUE</td><td>FALSE</td><td>FALSE</td><td>TRUE</td><td>FALSE</td><td>FALSE</td></tr>\n",
              "\t<tr><td>ENT</td><td>Enterprise</td><td>3</td><td>23</td><td>8.7</td><td>Countdown                    </td><td>Unknown</td><td>19/5/04 </td><td>FALSE</td><td>Robert Ducan McNeil</td><td>⋯</td><td>David A. Goodman</td><td>NA</td><td>FALSE</td><td>FALSE</td><td>TRUE</td><td>FALSE</td><td>FALSE</td><td>TRUE</td><td>FALSE</td><td>FALSE</td></tr>\n",
              "\t<tr><td>ENT</td><td>Enterprise</td><td>3</td><td>24</td><td>8.7</td><td>Zero Hour                    </td><td>Unknown</td><td>26/5/04 </td><td> TRUE</td><td>Allan Kroeker      </td><td>⋯</td><td>David A. Goodman</td><td>NA</td><td>FALSE</td><td>FALSE</td><td>TRUE</td><td>FALSE</td><td>FALSE</td><td>TRUE</td><td>FALSE</td><td>FALSE</td></tr>\n",
              "\t<tr><td>ENT</td><td>Enterprise</td><td>4</td><td> 1</td><td>7.5</td><td>Storm Front, Part I          </td><td>Unknown</td><td>8/10/04 </td><td> TRUE</td><td>Allan Kroeker      </td><td>⋯</td><td>Alan Brennert   </td><td>NA</td><td>FALSE</td><td>FALSE</td><td>TRUE</td><td>FALSE</td><td>FALSE</td><td>TRUE</td><td>FALSE</td><td>FALSE</td></tr>\n",
              "\t<tr><td>ENT</td><td>Enterprise</td><td>4</td><td> 2</td><td>7.5</td><td>Storm Front, Part II         </td><td>Unknown</td><td>15/10/04</td><td>FALSE</td><td>Allan Kroeker      </td><td>⋯</td><td>Alan Brennert   </td><td>NA</td><td>FALSE</td><td>FALSE</td><td>TRUE</td><td>FALSE</td><td>FALSE</td><td>TRUE</td><td>FALSE</td><td>FALSE</td></tr>\n",
              "\t<tr><td>ENT</td><td>Enterprise</td><td>4</td><td> 3</td><td>8.3</td><td>Home                         </td><td>Unknown</td><td>22/10/04</td><td> TRUE</td><td>Allan Kroeker      </td><td>⋯</td><td>Alan Brennert   </td><td>NA</td><td>FALSE</td><td>FALSE</td><td>TRUE</td><td>FALSE</td><td>FALSE</td><td>TRUE</td><td>FALSE</td><td>FALSE</td></tr>\n",
              "\t<tr><td>ENT</td><td>Enterprise</td><td>4</td><td> 4</td><td>8.1</td><td>Borderland                   </td><td>Unknown</td><td>29/10/04</td><td>FALSE</td><td>David Livingston   </td><td>⋯</td><td>Alan Brennert   </td><td>NA</td><td>FALSE</td><td>FALSE</td><td>TRUE</td><td>FALSE</td><td>FALSE</td><td>TRUE</td><td>FALSE</td><td>FALSE</td></tr>\n",
              "\t<tr><td>ENT</td><td>Enterprise</td><td>4</td><td> 5</td><td>8.1</td><td>Cold Station 12              </td><td>Unknown</td><td>5/11/04 </td><td>FALSE</td><td>Mike Vejar         </td><td>⋯</td><td>Alan Brennert   </td><td>NA</td><td>FALSE</td><td>FALSE</td><td>TRUE</td><td>FALSE</td><td>FALSE</td><td>TRUE</td><td>FALSE</td><td>FALSE</td></tr>\n",
              "\t<tr><td>ENT</td><td>Enterprise</td><td>4</td><td> 6</td><td>8.2</td><td>The Augments                 </td><td>Unknown</td><td>12/11/04</td><td>FALSE</td><td>LeVar Burton       </td><td>⋯</td><td>Alan Brennert   </td><td>NA</td><td>FALSE</td><td>FALSE</td><td>TRUE</td><td>FALSE</td><td>FALSE</td><td>TRUE</td><td>FALSE</td><td>FALSE</td></tr>\n",
              "\t<tr><td>ENT</td><td>Enterprise</td><td>4</td><td> 7</td><td>8.5</td><td>The Forge                    </td><td>Unknown</td><td>19/11/04</td><td>FALSE</td><td>Michael Grossman   </td><td>⋯</td><td>Alan Brennert   </td><td>NA</td><td>FALSE</td><td>FALSE</td><td>TRUE</td><td>FALSE</td><td>FALSE</td><td>TRUE</td><td>FALSE</td><td>FALSE</td></tr>\n",
              "\t<tr><td>ENT</td><td>Enterprise</td><td>4</td><td> 8</td><td>8.3</td><td>Awakening                    </td><td>Unknown</td><td>26/11/04</td><td> TRUE</td><td>Roxann Dawson      </td><td>⋯</td><td>Alan Brennert   </td><td>NA</td><td>FALSE</td><td>FALSE</td><td>TRUE</td><td>FALSE</td><td>FALSE</td><td>TRUE</td><td>FALSE</td><td>FALSE</td></tr>\n",
              "\t<tr><td>ENT</td><td>Enterprise</td><td>4</td><td> 9</td><td>8.6</td><td>Kir'Shara                    </td><td>Unknown</td><td>3/12/04 </td><td> TRUE</td><td>David Livingston   </td><td>⋯</td><td>Alan Brennert   </td><td>NA</td><td>FALSE</td><td>FALSE</td><td>TRUE</td><td>FALSE</td><td>FALSE</td><td>TRUE</td><td>FALSE</td><td>FALSE</td></tr>\n",
              "\t<tr><td>ENT</td><td>Enterprise</td><td>4</td><td>10</td><td>6.5</td><td>Daedalus                     </td><td>Unknown</td><td>14/1/05 </td><td>FALSE</td><td>David Straiton     </td><td>⋯</td><td>Alan Brennert   </td><td>NA</td><td>FALSE</td><td>FALSE</td><td>TRUE</td><td>FALSE</td><td>FALSE</td><td>TRUE</td><td>FALSE</td><td>FALSE</td></tr>\n",
              "\t<tr><td>ENT</td><td>Enterprise</td><td>4</td><td>11</td><td>7.9</td><td>Observer Effect              </td><td>Unknown</td><td>21/1/05 </td><td>FALSE</td><td>Mike Vejar         </td><td>⋯</td><td>Alan Brennert   </td><td>NA</td><td>FALSE</td><td>FALSE</td><td>TRUE</td><td>FALSE</td><td>FALSE</td><td>TRUE</td><td>FALSE</td><td>FALSE</td></tr>\n",
              "\t<tr><td>ENT</td><td>Enterprise</td><td>4</td><td>12</td><td>8.6</td><td>Babel One                    </td><td>Unknown</td><td>28/1/05 </td><td>FALSE</td><td>David Straiton     </td><td>⋯</td><td>NA              </td><td>NA</td><td>FALSE</td><td>FALSE</td><td>TRUE</td><td> TRUE</td><td>FALSE</td><td>TRUE</td><td>FALSE</td><td>FALSE</td></tr>\n",
              "\t<tr><td>ENT</td><td>Enterprise</td><td>4</td><td>13</td><td>8.6</td><td>United                       </td><td>Unknown</td><td>4/2/05  </td><td>FALSE</td><td>David Livingston   </td><td>⋯</td><td>NA              </td><td>NA</td><td>FALSE</td><td>FALSE</td><td>TRUE</td><td> TRUE</td><td>FALSE</td><td>TRUE</td><td>FALSE</td><td>FALSE</td></tr>\n",
              "\t<tr><td>ENT</td><td>Enterprise</td><td>4</td><td>14</td><td>8.4</td><td>The Aenar                    </td><td>Unknown</td><td>11/2/05 </td><td> TRUE</td><td>Mike Vejar         </td><td>⋯</td><td>NA              </td><td>NA</td><td>FALSE</td><td>FALSE</td><td>TRUE</td><td> TRUE</td><td>FALSE</td><td>TRUE</td><td>FALSE</td><td>FALSE</td></tr>\n",
              "\t<tr><td>ENT</td><td>Enterprise</td><td>4</td><td>15</td><td>8.1</td><td>Affliction                   </td><td>Unknown</td><td>18/2/05 </td><td> TRUE</td><td>Michael Grossman   </td><td>⋯</td><td>NA              </td><td>NA</td><td>FALSE</td><td>FALSE</td><td>TRUE</td><td> TRUE</td><td>FALSE</td><td>TRUE</td><td>FALSE</td><td>FALSE</td></tr>\n",
              "\t<tr><td>ENT</td><td>Enterprise</td><td>4</td><td>16</td><td>8.2</td><td>Divergence                   </td><td>Unknown</td><td>25/2/05 </td><td> TRUE</td><td>David Barrett      </td><td>⋯</td><td>NA              </td><td>NA</td><td>FALSE</td><td>FALSE</td><td>TRUE</td><td> TRUE</td><td>FALSE</td><td>TRUE</td><td>FALSE</td><td>FALSE</td></tr>\n",
              "\t<tr><td>ENT</td><td>Enterprise</td><td>4</td><td>17</td><td>7.1</td><td>Bound                        </td><td>Unknown</td><td>15/4/05 </td><td>FALSE</td><td>Allan Kroeker      </td><td>⋯</td><td>NA              </td><td>NA</td><td>FALSE</td><td>FALSE</td><td>TRUE</td><td> TRUE</td><td>FALSE</td><td>TRUE</td><td>FALSE</td><td>FALSE</td></tr>\n",
              "\t<tr><td>ENT</td><td>Enterprise</td><td>4</td><td>18</td><td>8.7</td><td>In a Mirror, Darkly (Part I) </td><td>Unknown</td><td>22/4/05 </td><td>FALSE</td><td>James L. Conway    </td><td>⋯</td><td>NA              </td><td>NA</td><td>FALSE</td><td>FALSE</td><td>TRUE</td><td> TRUE</td><td>FALSE</td><td>TRUE</td><td>FALSE</td><td>FALSE</td></tr>\n",
              "\t<tr><td>ENT</td><td>Enterprise</td><td>4</td><td>19</td><td>8.6</td><td>In a Mirror, Darkly (Part II)</td><td>Unknown</td><td>29/4/05 </td><td> TRUE</td><td>Marvin V. Rush     </td><td>⋯</td><td>NA              </td><td>NA</td><td>FALSE</td><td>FALSE</td><td>TRUE</td><td> TRUE</td><td>FALSE</td><td>TRUE</td><td>FALSE</td><td>FALSE</td></tr>\n",
              "\t<tr><td>ENT</td><td>Enterprise</td><td>4</td><td>20</td><td>7.9</td><td>Demons                       </td><td>Unknown</td><td>6/5/05  </td><td> TRUE</td><td>LeVar Burton       </td><td>⋯</td><td>NA              </td><td>NA</td><td>FALSE</td><td>FALSE</td><td>TRUE</td><td> TRUE</td><td>FALSE</td><td>TRUE</td><td>FALSE</td><td>FALSE</td></tr>\n",
              "\t<tr><td>ENT</td><td>Enterprise</td><td>4</td><td>21</td><td>8.4</td><td>Terra Prime                  </td><td>Unknown</td><td>13/5/05 </td><td>FALSE</td><td>Marvin V. Rush     </td><td>⋯</td><td>NA              </td><td>NA</td><td>FALSE</td><td>FALSE</td><td>TRUE</td><td> TRUE</td><td>FALSE</td><td>TRUE</td><td>FALSE</td><td>FALSE</td></tr>\n",
              "\t<tr><td>ENT</td><td>Enterprise</td><td>4</td><td>22</td><td>5.3</td><td>These Are the Voyages...     </td><td>Unknown</td><td>13/5/05 </td><td>FALSE</td><td>Allan Kroeker      </td><td>⋯</td><td>NA              </td><td>NA</td><td>FALSE</td><td>FALSE</td><td>TRUE</td><td> TRUE</td><td>FALSE</td><td>TRUE</td><td>FALSE</td><td>FALSE</td></tr>\n",
              "</tbody>\n",
              "</table>\n"
            ],
            "text/markdown": "\nA data.frame: 704 × 57\n\n| Series &lt;chr&gt; | Series.Name &lt;chr&gt; | Season &lt;int&gt; | Episode &lt;int&gt; | IMDB.Ranking &lt;dbl&gt; | Title &lt;chr&gt; | Star.date &lt;chr&gt; | Air.date &lt;chr&gt; | Bechdel.Wallace.Test &lt;lgl&gt; | Director &lt;chr&gt; | ⋯ ⋯ | Consulting.Producer.1 &lt;chr&gt; | Consulting.Producer.2 &lt;chr&gt; | Female.Executive.Producer &lt;lgl&gt; | Female.Co.Executive.Producer &lt;lgl&gt; | Female.Producer &lt;lgl&gt; | Female.Co.Producer &lt;lgl&gt; | Female.Associate.Producer &lt;lgl&gt; | Female.Supervising.Producer &lt;lgl&gt; | Female.Co.Supervising.Producer &lt;lgl&gt; | Female.Line.Producer &lt;lgl&gt; |\n|---|---|---|---|---|---|---|---|---|---|---|---|---|---|---|---|---|---|---|---|---|\n| TOS | The Original Series | 1 |  1 | 7.3 | The Man Trap                    | 1513.1  | 8/9/66   | FALSE | Marc Daniels       | ⋯ | NA | NA | FALSE | FALSE | FALSE | FALSE | FALSE | FALSE | FALSE | FALSE |\n| TOS | The Original Series | 1 |  2 | 7.2 | Charlie X                       | 1533.6  | 15/9/66  | FALSE | Lawrence Dobkin    | ⋯ | NA | NA | FALSE | FALSE | FALSE | FALSE | FALSE | FALSE | FALSE | FALSE |\n| TOS | The Original Series | 1 |  3 | 7.8 | Where No Man Has Gone Before    | 1312.4  | 22/9/66  | FALSE | James Goldstone    | ⋯ | NA | NA | FALSE | FALSE | FALSE | FALSE | FALSE | FALSE | FALSE | FALSE |\n| TOS | The Original Series | 1 |  4 | 8.0 | The Naked Time                  | 1704.2  | 29/9/66  | FALSE | Marc Daniels       | ⋯ | NA | NA | FALSE | FALSE | FALSE | FALSE | FALSE | FALSE | FALSE | FALSE |\n| TOS | The Original Series | 1 |  5 | 7.8 | The Enemy Within                | 1672.1  | 6/10/66  | FALSE | Leo Penn           | ⋯ | NA | NA | FALSE | FALSE | FALSE | FALSE | FALSE | FALSE | FALSE | FALSE |\n| TOS | The Original Series | 1 |  6 | 6.9 | Mudd's Women                    | 1329.8  | 13/10/66 | FALSE | Harey Hart         | ⋯ | NA | NA | FALSE | FALSE | FALSE | FALSE | FALSE | FALSE | FALSE | FALSE |\n| TOS | The Original Series | 1 |  7 | 7.6 | What Are Little Girls Made Of?  | 2712.4  | 20/10/66 | FALSE | James Goldstone    | ⋯ | NA | NA | FALSE | FALSE | FALSE | FALSE | FALSE | FALSE | FALSE | FALSE |\n| TOS | The Original Series | 1 |  8 | 7.1 | Miri                            | 2713.5  | 27/10/66 | FALSE | Vincent McEveety   | ⋯ | NA | NA | FALSE | FALSE | FALSE | FALSE | FALSE | FALSE | FALSE | FALSE |\n| TOS | The Original Series | 1 |  9 | 7.5 | Dagger of the Mind              | 2715.1  | 3/11/66  | FALSE | Vincent McEveety   | ⋯ | NA | NA | FALSE | FALSE | FALSE | FALSE | FALSE | FALSE | FALSE | FALSE |\n| TOS | The Original Series | 1 | 10 | 8.2 | The Corbomite Maneuver          | 1512.2  | 10/11/66 | FALSE | Joseph Sargent     | ⋯ | NA | NA | FALSE | FALSE | FALSE | FALSE | FALSE | FALSE | FALSE | FALSE |\n| TOS | The Original Series | 1 | 11 | 8.4 | The Menagerie, Part I           | 3012.4  | 17/11/66 | FALSE | Marc Daniels       | ⋯ | NA | NA | FALSE | FALSE | FALSE | FALSE | FALSE | FALSE | FALSE | FALSE |\n| TOS | The Original Series | 1 | 12 | 8.3 | The Menagerie, Part II          | 3013.1  | 24/11/66 | FALSE | Robert Butler      | ⋯ | NA | NA | FALSE | FALSE | FALSE | FALSE | FALSE | FALSE | FALSE | FALSE |\n| TOS | The Original Series | 1 | 13 | 7.3 | The Conscience of the King      | 2817.6  | 8/12/66  | FALSE | Gerd Oswald        | ⋯ | NA | NA | FALSE | FALSE | FALSE | FALSE | FALSE | FALSE | FALSE | FALSE |\n| TOS | The Original Series | 1 | 14 | 9.0 | Balance of Terror               | 1709.2  | 15/12/66 | FALSE | Vincent McEveety   | ⋯ | NA | NA | FALSE | FALSE | FALSE | FALSE | FALSE | FALSE | FALSE | FALSE |\n| TOS | The Original Series | 1 | 15 | 7.7 | Shore Leave                     | 3025.3  | 29/12/66 | FALSE | Robert Sparr       | ⋯ | NA | NA | FALSE | FALSE | FALSE | FALSE | FALSE | FALSE | FALSE | FALSE |\n| TOS | The Original Series | 1 | 16 | 7.8 | The Galileo Seven               | 2821.5  | 5/1/67   | FALSE | Robert Gist        | ⋯ | NA | NA | FALSE | FALSE | FALSE | FALSE | FALSE | FALSE | FALSE | FALSE |\n| TOS | The Original Series | 1 | 17 | 7.5 | The Squire of Gothos            | 2124.5  | 12/1/67  | FALSE | Don McDougall      | ⋯ | NA | NA | FALSE | FALSE | FALSE | FALSE | FALSE | FALSE | FALSE | FALSE |\n| TOS | The Original Series | 1 | 18 | 8.1 | Arena                           | 3045.6  | 19/1/67  | FALSE | Joseph Pevney      | ⋯ | NA | NA | FALSE | FALSE | FALSE | FALSE | FALSE | FALSE | FALSE | FALSE |\n| TOS | The Original Series | 1 | 19 | 8.0 | Tomorrow Is Yesterday           | 3113.2  | 26/1/67  | FALSE | Michael O'Herlihy  | ⋯ | NA | NA | FALSE | FALSE | FALSE | FALSE | FALSE | FALSE | FALSE | FALSE |\n| TOS | The Original Series | 1 | 20 | 7.5 | Court Martial                   | 2947.3  | 2/2/67   | FALSE | Marc Daniels       | ⋯ | NA | NA | FALSE | FALSE | FALSE | FALSE | FALSE | FALSE | FALSE | FALSE |\n| TOS | The Original Series | 1 | 21 | 7.3 | The Return of the Archons       | 3156.2  | 9/2/67   | FALSE | Joseph Pevney      | ⋯ | NA | NA | FALSE | FALSE | FALSE | FALSE | FALSE | FALSE | FALSE | FALSE |\n| TOS | The Original Series | 1 | 22 | 8.9 | Space Seed                      | 3141.9  | 16/2/67  | FALSE | Marc Daniels       | ⋯ | NA | NA | FALSE | FALSE | FALSE | FALSE | FALSE | FALSE | FALSE | FALSE |\n| TOS | The Original Series | 1 | 23 | 8.2 | A Taste of Armageddon           | 3192.1  | 23/2/67  | FALSE | Joseph Pevney      | ⋯ | NA | NA | FALSE | FALSE | FALSE | FALSE | FALSE | FALSE | FALSE | FALSE |\n| TOS | The Original Series | 1 | 24 | 8.0 | This Side of Paradise           | 3417.3  | 2/3/67   | FALSE | Ralph Senensky     | ⋯ | NA | NA | FALSE | FALSE | FALSE | FALSE | FALSE | FALSE | FALSE | FALSE |\n| TOS | The Original Series | 1 | 25 | 8.5 | The Devil in the Dark           | 3196.1  | 9/3/67   | FALSE | Joseph Pevney      | ⋯ | NA | NA | FALSE | FALSE | FALSE | FALSE | FALSE | FALSE | FALSE | FALSE |\n| TOS | The Original Series | 1 | 26 | 8.3 | Errand of Mercy                 | 3198.4  | 23/3/67  | FALSE | John Newland       | ⋯ | NA | NA | FALSE | FALSE | FALSE | FALSE | FALSE | FALSE | FALSE | FALSE |\n| TOS | The Original Series | 1 | 27 | 5.9 | The Alternative Factor          | 3087.6  | 30/3/67  | FALSE | Gerd Oswald        | ⋯ | NA | NA | FALSE | FALSE | FALSE | FALSE | FALSE | FALSE | FALSE | FALSE |\n| TOS | The Original Series | 1 | 28 | 9.3 | The City on the Edge of Forever | Unknown | 6/4/67   | FALSE | Joseph Pevney      | ⋯ | NA | NA | FALSE | FALSE | FALSE | FALSE | FALSE | FALSE | FALSE | FALSE |\n| TOS | The Original Series | 1 | 29 | 7.7 | Operation: Annihilate!          | 3287.2  | 13/4/67  | FALSE | Herschel Daughtery | ⋯ | NA | NA | FALSE | FALSE | FALSE | FALSE | FALSE | FALSE | FALSE | FALSE |\n| TOS | The Original Series | 2 |  1 | 8.8 | Amok Time                       | 3372.7  | 15/9/67  | FALSE | Joseph Pevney      | ⋯ | NA | NA | FALSE | FALSE | FALSE | FALSE | FALSE | FALSE | FALSE | FALSE |\n| ⋮ | ⋮ | ⋮ | ⋮ | ⋮ | ⋮ | ⋮ | ⋮ | ⋮ | ⋮ | ⋱ | ⋮ | ⋮ | ⋮ | ⋮ | ⋮ | ⋮ | ⋮ | ⋮ | ⋮ | ⋮ |\n| ENT | Enterprise | 3 | 17 | 7.0 | Hatchery                      | Unknown | 25/2/04  | FALSE | Michael Grossman    | ⋯ | David A. Goodman | NA | FALSE | FALSE | TRUE | FALSE | FALSE | TRUE | FALSE | FALSE |\n| ENT | Enterprise | 3 | 18 | 8.7 | Azati Prime                   | Unknown | 3/3/04   |  TRUE | Allan Kroeker       | ⋯ | David A. Goodman | NA | FALSE | FALSE | TRUE | FALSE | FALSE | TRUE | FALSE | FALSE |\n| ENT | Enterprise | 3 | 19 | 8.3 | Damage                        | Unknown | 21/4/04  | FALSE | James L. Conway     | ⋯ | David A. Goodman | NA | FALSE | FALSE | TRUE | FALSE | FALSE | TRUE | FALSE | FALSE |\n| ENT | Enterprise | 3 | 20 | 8.1 | The Forgotten                 | Unknown | 28/4/04  | FALSE | LeVar Burton        | ⋯ | David A. Goodman | NA | FALSE | FALSE | TRUE | FALSE | FALSE | TRUE | FALSE | FALSE |\n| ENT | Enterprise | 3 | 21 | 8.0 | E²                            | Unknown | 5/5/04   |  TRUE | Roxann Dawson       | ⋯ | David A. Goodman | NA | FALSE | FALSE | TRUE | FALSE | FALSE | TRUE | FALSE | FALSE |\n| ENT | Enterprise | 3 | 22 | 8.5 | The Council                   | Unknown | 12/5/04  | FALSE | David Livingston    | ⋯ | David A. Goodman | NA | FALSE | FALSE | TRUE | FALSE | FALSE | TRUE | FALSE | FALSE |\n| ENT | Enterprise | 3 | 23 | 8.7 | Countdown                     | Unknown | 19/5/04  | FALSE | Robert Ducan McNeil | ⋯ | David A. Goodman | NA | FALSE | FALSE | TRUE | FALSE | FALSE | TRUE | FALSE | FALSE |\n| ENT | Enterprise | 3 | 24 | 8.7 | Zero Hour                     | Unknown | 26/5/04  |  TRUE | Allan Kroeker       | ⋯ | David A. Goodman | NA | FALSE | FALSE | TRUE | FALSE | FALSE | TRUE | FALSE | FALSE |\n| ENT | Enterprise | 4 |  1 | 7.5 | Storm Front, Part I           | Unknown | 8/10/04  |  TRUE | Allan Kroeker       | ⋯ | Alan Brennert    | NA | FALSE | FALSE | TRUE | FALSE | FALSE | TRUE | FALSE | FALSE |\n| ENT | Enterprise | 4 |  2 | 7.5 | Storm Front, Part II          | Unknown | 15/10/04 | FALSE | Allan Kroeker       | ⋯ | Alan Brennert    | NA | FALSE | FALSE | TRUE | FALSE | FALSE | TRUE | FALSE | FALSE |\n| ENT | Enterprise | 4 |  3 | 8.3 | Home                          | Unknown | 22/10/04 |  TRUE | Allan Kroeker       | ⋯ | Alan Brennert    | NA | FALSE | FALSE | TRUE | FALSE | FALSE | TRUE | FALSE | FALSE |\n| ENT | Enterprise | 4 |  4 | 8.1 | Borderland                    | Unknown | 29/10/04 | FALSE | David Livingston    | ⋯ | Alan Brennert    | NA | FALSE | FALSE | TRUE | FALSE | FALSE | TRUE | FALSE | FALSE |\n| ENT | Enterprise | 4 |  5 | 8.1 | Cold Station 12               | Unknown | 5/11/04  | FALSE | Mike Vejar          | ⋯ | Alan Brennert    | NA | FALSE | FALSE | TRUE | FALSE | FALSE | TRUE | FALSE | FALSE |\n| ENT | Enterprise | 4 |  6 | 8.2 | The Augments                  | Unknown | 12/11/04 | FALSE | LeVar Burton        | ⋯ | Alan Brennert    | NA | FALSE | FALSE | TRUE | FALSE | FALSE | TRUE | FALSE | FALSE |\n| ENT | Enterprise | 4 |  7 | 8.5 | The Forge                     | Unknown | 19/11/04 | FALSE | Michael Grossman    | ⋯ | Alan Brennert    | NA | FALSE | FALSE | TRUE | FALSE | FALSE | TRUE | FALSE | FALSE |\n| ENT | Enterprise | 4 |  8 | 8.3 | Awakening                     | Unknown | 26/11/04 |  TRUE | Roxann Dawson       | ⋯ | Alan Brennert    | NA | FALSE | FALSE | TRUE | FALSE | FALSE | TRUE | FALSE | FALSE |\n| ENT | Enterprise | 4 |  9 | 8.6 | Kir'Shara                     | Unknown | 3/12/04  |  TRUE | David Livingston    | ⋯ | Alan Brennert    | NA | FALSE | FALSE | TRUE | FALSE | FALSE | TRUE | FALSE | FALSE |\n| ENT | Enterprise | 4 | 10 | 6.5 | Daedalus                      | Unknown | 14/1/05  | FALSE | David Straiton      | ⋯ | Alan Brennert    | NA | FALSE | FALSE | TRUE | FALSE | FALSE | TRUE | FALSE | FALSE |\n| ENT | Enterprise | 4 | 11 | 7.9 | Observer Effect               | Unknown | 21/1/05  | FALSE | Mike Vejar          | ⋯ | Alan Brennert    | NA | FALSE | FALSE | TRUE | FALSE | FALSE | TRUE | FALSE | FALSE |\n| ENT | Enterprise | 4 | 12 | 8.6 | Babel One                     | Unknown | 28/1/05  | FALSE | David Straiton      | ⋯ | NA               | NA | FALSE | FALSE | TRUE |  TRUE | FALSE | TRUE | FALSE | FALSE |\n| ENT | Enterprise | 4 | 13 | 8.6 | United                        | Unknown | 4/2/05   | FALSE | David Livingston    | ⋯ | NA               | NA | FALSE | FALSE | TRUE |  TRUE | FALSE | TRUE | FALSE | FALSE |\n| ENT | Enterprise | 4 | 14 | 8.4 | The Aenar                     | Unknown | 11/2/05  |  TRUE | Mike Vejar          | ⋯ | NA               | NA | FALSE | FALSE | TRUE |  TRUE | FALSE | TRUE | FALSE | FALSE |\n| ENT | Enterprise | 4 | 15 | 8.1 | Affliction                    | Unknown | 18/2/05  |  TRUE | Michael Grossman    | ⋯ | NA               | NA | FALSE | FALSE | TRUE |  TRUE | FALSE | TRUE | FALSE | FALSE |\n| ENT | Enterprise | 4 | 16 | 8.2 | Divergence                    | Unknown | 25/2/05  |  TRUE | David Barrett       | ⋯ | NA               | NA | FALSE | FALSE | TRUE |  TRUE | FALSE | TRUE | FALSE | FALSE |\n| ENT | Enterprise | 4 | 17 | 7.1 | Bound                         | Unknown | 15/4/05  | FALSE | Allan Kroeker       | ⋯ | NA               | NA | FALSE | FALSE | TRUE |  TRUE | FALSE | TRUE | FALSE | FALSE |\n| ENT | Enterprise | 4 | 18 | 8.7 | In a Mirror, Darkly (Part I)  | Unknown | 22/4/05  | FALSE | James L. Conway     | ⋯ | NA               | NA | FALSE | FALSE | TRUE |  TRUE | FALSE | TRUE | FALSE | FALSE |\n| ENT | Enterprise | 4 | 19 | 8.6 | In a Mirror, Darkly (Part II) | Unknown | 29/4/05  |  TRUE | Marvin V. Rush      | ⋯ | NA               | NA | FALSE | FALSE | TRUE |  TRUE | FALSE | TRUE | FALSE | FALSE |\n| ENT | Enterprise | 4 | 20 | 7.9 | Demons                        | Unknown | 6/5/05   |  TRUE | LeVar Burton        | ⋯ | NA               | NA | FALSE | FALSE | TRUE |  TRUE | FALSE | TRUE | FALSE | FALSE |\n| ENT | Enterprise | 4 | 21 | 8.4 | Terra Prime                   | Unknown | 13/5/05  | FALSE | Marvin V. Rush      | ⋯ | NA               | NA | FALSE | FALSE | TRUE |  TRUE | FALSE | TRUE | FALSE | FALSE |\n| ENT | Enterprise | 4 | 22 | 5.3 | These Are the Voyages...      | Unknown | 13/5/05  | FALSE | Allan Kroeker       | ⋯ | NA               | NA | FALSE | FALSE | TRUE |  TRUE | FALSE | TRUE | FALSE | FALSE |\n\n",
            "text/latex": "A data.frame: 704 × 57\n\\begin{tabular}{lllllllllllllllllllll}\n Series & Series.Name & Season & Episode & IMDB.Ranking & Title & Star.date & Air.date & Bechdel.Wallace.Test & Director & ⋯ & Consulting.Producer.1 & Consulting.Producer.2 & Female.Executive.Producer & Female.Co.Executive.Producer & Female.Producer & Female.Co.Producer & Female.Associate.Producer & Female.Supervising.Producer & Female.Co.Supervising.Producer & Female.Line.Producer\\\\\n <chr> & <chr> & <int> & <int> & <dbl> & <chr> & <chr> & <chr> & <lgl> & <chr> & ⋯ & <chr> & <chr> & <lgl> & <lgl> & <lgl> & <lgl> & <lgl> & <lgl> & <lgl> & <lgl>\\\\\n\\hline\n\t TOS & The Original Series & 1 &  1 & 7.3 & The Man Trap                    & 1513.1  & 8/9/66   & FALSE & Marc Daniels       & ⋯ & NA & NA & FALSE & FALSE & FALSE & FALSE & FALSE & FALSE & FALSE & FALSE\\\\\n\t TOS & The Original Series & 1 &  2 & 7.2 & Charlie X                       & 1533.6  & 15/9/66  & FALSE & Lawrence Dobkin    & ⋯ & NA & NA & FALSE & FALSE & FALSE & FALSE & FALSE & FALSE & FALSE & FALSE\\\\\n\t TOS & The Original Series & 1 &  3 & 7.8 & Where No Man Has Gone Before    & 1312.4  & 22/9/66  & FALSE & James Goldstone    & ⋯ & NA & NA & FALSE & FALSE & FALSE & FALSE & FALSE & FALSE & FALSE & FALSE\\\\\n\t TOS & The Original Series & 1 &  4 & 8.0 & The Naked Time                  & 1704.2  & 29/9/66  & FALSE & Marc Daniels       & ⋯ & NA & NA & FALSE & FALSE & FALSE & FALSE & FALSE & FALSE & FALSE & FALSE\\\\\n\t TOS & The Original Series & 1 &  5 & 7.8 & The Enemy Within                & 1672.1  & 6/10/66  & FALSE & Leo Penn           & ⋯ & NA & NA & FALSE & FALSE & FALSE & FALSE & FALSE & FALSE & FALSE & FALSE\\\\\n\t TOS & The Original Series & 1 &  6 & 6.9 & Mudd's Women                    & 1329.8  & 13/10/66 & FALSE & Harey Hart         & ⋯ & NA & NA & FALSE & FALSE & FALSE & FALSE & FALSE & FALSE & FALSE & FALSE\\\\\n\t TOS & The Original Series & 1 &  7 & 7.6 & What Are Little Girls Made Of?  & 2712.4  & 20/10/66 & FALSE & James Goldstone    & ⋯ & NA & NA & FALSE & FALSE & FALSE & FALSE & FALSE & FALSE & FALSE & FALSE\\\\\n\t TOS & The Original Series & 1 &  8 & 7.1 & Miri                            & 2713.5  & 27/10/66 & FALSE & Vincent McEveety   & ⋯ & NA & NA & FALSE & FALSE & FALSE & FALSE & FALSE & FALSE & FALSE & FALSE\\\\\n\t TOS & The Original Series & 1 &  9 & 7.5 & Dagger of the Mind              & 2715.1  & 3/11/66  & FALSE & Vincent McEveety   & ⋯ & NA & NA & FALSE & FALSE & FALSE & FALSE & FALSE & FALSE & FALSE & FALSE\\\\\n\t TOS & The Original Series & 1 & 10 & 8.2 & The Corbomite Maneuver          & 1512.2  & 10/11/66 & FALSE & Joseph Sargent     & ⋯ & NA & NA & FALSE & FALSE & FALSE & FALSE & FALSE & FALSE & FALSE & FALSE\\\\\n\t TOS & The Original Series & 1 & 11 & 8.4 & The Menagerie, Part I           & 3012.4  & 17/11/66 & FALSE & Marc Daniels       & ⋯ & NA & NA & FALSE & FALSE & FALSE & FALSE & FALSE & FALSE & FALSE & FALSE\\\\\n\t TOS & The Original Series & 1 & 12 & 8.3 & The Menagerie, Part II          & 3013.1  & 24/11/66 & FALSE & Robert Butler      & ⋯ & NA & NA & FALSE & FALSE & FALSE & FALSE & FALSE & FALSE & FALSE & FALSE\\\\\n\t TOS & The Original Series & 1 & 13 & 7.3 & The Conscience of the King      & 2817.6  & 8/12/66  & FALSE & Gerd Oswald        & ⋯ & NA & NA & FALSE & FALSE & FALSE & FALSE & FALSE & FALSE & FALSE & FALSE\\\\\n\t TOS & The Original Series & 1 & 14 & 9.0 & Balance of Terror               & 1709.2  & 15/12/66 & FALSE & Vincent McEveety   & ⋯ & NA & NA & FALSE & FALSE & FALSE & FALSE & FALSE & FALSE & FALSE & FALSE\\\\\n\t TOS & The Original Series & 1 & 15 & 7.7 & Shore Leave                     & 3025.3  & 29/12/66 & FALSE & Robert Sparr       & ⋯ & NA & NA & FALSE & FALSE & FALSE & FALSE & FALSE & FALSE & FALSE & FALSE\\\\\n\t TOS & The Original Series & 1 & 16 & 7.8 & The Galileo Seven               & 2821.5  & 5/1/67   & FALSE & Robert Gist        & ⋯ & NA & NA & FALSE & FALSE & FALSE & FALSE & FALSE & FALSE & FALSE & FALSE\\\\\n\t TOS & The Original Series & 1 & 17 & 7.5 & The Squire of Gothos            & 2124.5  & 12/1/67  & FALSE & Don McDougall      & ⋯ & NA & NA & FALSE & FALSE & FALSE & FALSE & FALSE & FALSE & FALSE & FALSE\\\\\n\t TOS & The Original Series & 1 & 18 & 8.1 & Arena                           & 3045.6  & 19/1/67  & FALSE & Joseph Pevney      & ⋯ & NA & NA & FALSE & FALSE & FALSE & FALSE & FALSE & FALSE & FALSE & FALSE\\\\\n\t TOS & The Original Series & 1 & 19 & 8.0 & Tomorrow Is Yesterday           & 3113.2  & 26/1/67  & FALSE & Michael O'Herlihy  & ⋯ & NA & NA & FALSE & FALSE & FALSE & FALSE & FALSE & FALSE & FALSE & FALSE\\\\\n\t TOS & The Original Series & 1 & 20 & 7.5 & Court Martial                   & 2947.3  & 2/2/67   & FALSE & Marc Daniels       & ⋯ & NA & NA & FALSE & FALSE & FALSE & FALSE & FALSE & FALSE & FALSE & FALSE\\\\\n\t TOS & The Original Series & 1 & 21 & 7.3 & The Return of the Archons       & 3156.2  & 9/2/67   & FALSE & Joseph Pevney      & ⋯ & NA & NA & FALSE & FALSE & FALSE & FALSE & FALSE & FALSE & FALSE & FALSE\\\\\n\t TOS & The Original Series & 1 & 22 & 8.9 & Space Seed                      & 3141.9  & 16/2/67  & FALSE & Marc Daniels       & ⋯ & NA & NA & FALSE & FALSE & FALSE & FALSE & FALSE & FALSE & FALSE & FALSE\\\\\n\t TOS & The Original Series & 1 & 23 & 8.2 & A Taste of Armageddon           & 3192.1  & 23/2/67  & FALSE & Joseph Pevney      & ⋯ & NA & NA & FALSE & FALSE & FALSE & FALSE & FALSE & FALSE & FALSE & FALSE\\\\\n\t TOS & The Original Series & 1 & 24 & 8.0 & This Side of Paradise           & 3417.3  & 2/3/67   & FALSE & Ralph Senensky     & ⋯ & NA & NA & FALSE & FALSE & FALSE & FALSE & FALSE & FALSE & FALSE & FALSE\\\\\n\t TOS & The Original Series & 1 & 25 & 8.5 & The Devil in the Dark           & 3196.1  & 9/3/67   & FALSE & Joseph Pevney      & ⋯ & NA & NA & FALSE & FALSE & FALSE & FALSE & FALSE & FALSE & FALSE & FALSE\\\\\n\t TOS & The Original Series & 1 & 26 & 8.3 & Errand of Mercy                 & 3198.4  & 23/3/67  & FALSE & John Newland       & ⋯ & NA & NA & FALSE & FALSE & FALSE & FALSE & FALSE & FALSE & FALSE & FALSE\\\\\n\t TOS & The Original Series & 1 & 27 & 5.9 & The Alternative Factor          & 3087.6  & 30/3/67  & FALSE & Gerd Oswald        & ⋯ & NA & NA & FALSE & FALSE & FALSE & FALSE & FALSE & FALSE & FALSE & FALSE\\\\\n\t TOS & The Original Series & 1 & 28 & 9.3 & The City on the Edge of Forever & Unknown & 6/4/67   & FALSE & Joseph Pevney      & ⋯ & NA & NA & FALSE & FALSE & FALSE & FALSE & FALSE & FALSE & FALSE & FALSE\\\\\n\t TOS & The Original Series & 1 & 29 & 7.7 & Operation: Annihilate!          & 3287.2  & 13/4/67  & FALSE & Herschel Daughtery & ⋯ & NA & NA & FALSE & FALSE & FALSE & FALSE & FALSE & FALSE & FALSE & FALSE\\\\\n\t TOS & The Original Series & 2 &  1 & 8.8 & Amok Time                       & 3372.7  & 15/9/67  & FALSE & Joseph Pevney      & ⋯ & NA & NA & FALSE & FALSE & FALSE & FALSE & FALSE & FALSE & FALSE & FALSE\\\\\n\t ⋮ & ⋮ & ⋮ & ⋮ & ⋮ & ⋮ & ⋮ & ⋮ & ⋮ & ⋮ & ⋱ & ⋮ & ⋮ & ⋮ & ⋮ & ⋮ & ⋮ & ⋮ & ⋮ & ⋮ & ⋮\\\\\n\t ENT & Enterprise & 3 & 17 & 7.0 & Hatchery                      & Unknown & 25/2/04  & FALSE & Michael Grossman    & ⋯ & David A. Goodman & NA & FALSE & FALSE & TRUE & FALSE & FALSE & TRUE & FALSE & FALSE\\\\\n\t ENT & Enterprise & 3 & 18 & 8.7 & Azati Prime                   & Unknown & 3/3/04   &  TRUE & Allan Kroeker       & ⋯ & David A. Goodman & NA & FALSE & FALSE & TRUE & FALSE & FALSE & TRUE & FALSE & FALSE\\\\\n\t ENT & Enterprise & 3 & 19 & 8.3 & Damage                        & Unknown & 21/4/04  & FALSE & James L. Conway     & ⋯ & David A. Goodman & NA & FALSE & FALSE & TRUE & FALSE & FALSE & TRUE & FALSE & FALSE\\\\\n\t ENT & Enterprise & 3 & 20 & 8.1 & The Forgotten                 & Unknown & 28/4/04  & FALSE & LeVar Burton        & ⋯ & David A. Goodman & NA & FALSE & FALSE & TRUE & FALSE & FALSE & TRUE & FALSE & FALSE\\\\\n\t ENT & Enterprise & 3 & 21 & 8.0 & E²                            & Unknown & 5/5/04   &  TRUE & Roxann Dawson       & ⋯ & David A. Goodman & NA & FALSE & FALSE & TRUE & FALSE & FALSE & TRUE & FALSE & FALSE\\\\\n\t ENT & Enterprise & 3 & 22 & 8.5 & The Council                   & Unknown & 12/5/04  & FALSE & David Livingston    & ⋯ & David A. Goodman & NA & FALSE & FALSE & TRUE & FALSE & FALSE & TRUE & FALSE & FALSE\\\\\n\t ENT & Enterprise & 3 & 23 & 8.7 & Countdown                     & Unknown & 19/5/04  & FALSE & Robert Ducan McNeil & ⋯ & David A. Goodman & NA & FALSE & FALSE & TRUE & FALSE & FALSE & TRUE & FALSE & FALSE\\\\\n\t ENT & Enterprise & 3 & 24 & 8.7 & Zero Hour                     & Unknown & 26/5/04  &  TRUE & Allan Kroeker       & ⋯ & David A. Goodman & NA & FALSE & FALSE & TRUE & FALSE & FALSE & TRUE & FALSE & FALSE\\\\\n\t ENT & Enterprise & 4 &  1 & 7.5 & Storm Front, Part I           & Unknown & 8/10/04  &  TRUE & Allan Kroeker       & ⋯ & Alan Brennert    & NA & FALSE & FALSE & TRUE & FALSE & FALSE & TRUE & FALSE & FALSE\\\\\n\t ENT & Enterprise & 4 &  2 & 7.5 & Storm Front, Part II          & Unknown & 15/10/04 & FALSE & Allan Kroeker       & ⋯ & Alan Brennert    & NA & FALSE & FALSE & TRUE & FALSE & FALSE & TRUE & FALSE & FALSE\\\\\n\t ENT & Enterprise & 4 &  3 & 8.3 & Home                          & Unknown & 22/10/04 &  TRUE & Allan Kroeker       & ⋯ & Alan Brennert    & NA & FALSE & FALSE & TRUE & FALSE & FALSE & TRUE & FALSE & FALSE\\\\\n\t ENT & Enterprise & 4 &  4 & 8.1 & Borderland                    & Unknown & 29/10/04 & FALSE & David Livingston    & ⋯ & Alan Brennert    & NA & FALSE & FALSE & TRUE & FALSE & FALSE & TRUE & FALSE & FALSE\\\\\n\t ENT & Enterprise & 4 &  5 & 8.1 & Cold Station 12               & Unknown & 5/11/04  & FALSE & Mike Vejar          & ⋯ & Alan Brennert    & NA & FALSE & FALSE & TRUE & FALSE & FALSE & TRUE & FALSE & FALSE\\\\\n\t ENT & Enterprise & 4 &  6 & 8.2 & The Augments                  & Unknown & 12/11/04 & FALSE & LeVar Burton        & ⋯ & Alan Brennert    & NA & FALSE & FALSE & TRUE & FALSE & FALSE & TRUE & FALSE & FALSE\\\\\n\t ENT & Enterprise & 4 &  7 & 8.5 & The Forge                     & Unknown & 19/11/04 & FALSE & Michael Grossman    & ⋯ & Alan Brennert    & NA & FALSE & FALSE & TRUE & FALSE & FALSE & TRUE & FALSE & FALSE\\\\\n\t ENT & Enterprise & 4 &  8 & 8.3 & Awakening                     & Unknown & 26/11/04 &  TRUE & Roxann Dawson       & ⋯ & Alan Brennert    & NA & FALSE & FALSE & TRUE & FALSE & FALSE & TRUE & FALSE & FALSE\\\\\n\t ENT & Enterprise & 4 &  9 & 8.6 & Kir'Shara                     & Unknown & 3/12/04  &  TRUE & David Livingston    & ⋯ & Alan Brennert    & NA & FALSE & FALSE & TRUE & FALSE & FALSE & TRUE & FALSE & FALSE\\\\\n\t ENT & Enterprise & 4 & 10 & 6.5 & Daedalus                      & Unknown & 14/1/05  & FALSE & David Straiton      & ⋯ & Alan Brennert    & NA & FALSE & FALSE & TRUE & FALSE & FALSE & TRUE & FALSE & FALSE\\\\\n\t ENT & Enterprise & 4 & 11 & 7.9 & Observer Effect               & Unknown & 21/1/05  & FALSE & Mike Vejar          & ⋯ & Alan Brennert    & NA & FALSE & FALSE & TRUE & FALSE & FALSE & TRUE & FALSE & FALSE\\\\\n\t ENT & Enterprise & 4 & 12 & 8.6 & Babel One                     & Unknown & 28/1/05  & FALSE & David Straiton      & ⋯ & NA               & NA & FALSE & FALSE & TRUE &  TRUE & FALSE & TRUE & FALSE & FALSE\\\\\n\t ENT & Enterprise & 4 & 13 & 8.6 & United                        & Unknown & 4/2/05   & FALSE & David Livingston    & ⋯ & NA               & NA & FALSE & FALSE & TRUE &  TRUE & FALSE & TRUE & FALSE & FALSE\\\\\n\t ENT & Enterprise & 4 & 14 & 8.4 & The Aenar                     & Unknown & 11/2/05  &  TRUE & Mike Vejar          & ⋯ & NA               & NA & FALSE & FALSE & TRUE &  TRUE & FALSE & TRUE & FALSE & FALSE\\\\\n\t ENT & Enterprise & 4 & 15 & 8.1 & Affliction                    & Unknown & 18/2/05  &  TRUE & Michael Grossman    & ⋯ & NA               & NA & FALSE & FALSE & TRUE &  TRUE & FALSE & TRUE & FALSE & FALSE\\\\\n\t ENT & Enterprise & 4 & 16 & 8.2 & Divergence                    & Unknown & 25/2/05  &  TRUE & David Barrett       & ⋯ & NA               & NA & FALSE & FALSE & TRUE &  TRUE & FALSE & TRUE & FALSE & FALSE\\\\\n\t ENT & Enterprise & 4 & 17 & 7.1 & Bound                         & Unknown & 15/4/05  & FALSE & Allan Kroeker       & ⋯ & NA               & NA & FALSE & FALSE & TRUE &  TRUE & FALSE & TRUE & FALSE & FALSE\\\\\n\t ENT & Enterprise & 4 & 18 & 8.7 & In a Mirror, Darkly (Part I)  & Unknown & 22/4/05  & FALSE & James L. Conway     & ⋯ & NA               & NA & FALSE & FALSE & TRUE &  TRUE & FALSE & TRUE & FALSE & FALSE\\\\\n\t ENT & Enterprise & 4 & 19 & 8.6 & In a Mirror, Darkly (Part II) & Unknown & 29/4/05  &  TRUE & Marvin V. Rush      & ⋯ & NA               & NA & FALSE & FALSE & TRUE &  TRUE & FALSE & TRUE & FALSE & FALSE\\\\\n\t ENT & Enterprise & 4 & 20 & 7.9 & Demons                        & Unknown & 6/5/05   &  TRUE & LeVar Burton        & ⋯ & NA               & NA & FALSE & FALSE & TRUE &  TRUE & FALSE & TRUE & FALSE & FALSE\\\\\n\t ENT & Enterprise & 4 & 21 & 8.4 & Terra Prime                   & Unknown & 13/5/05  & FALSE & Marvin V. Rush      & ⋯ & NA               & NA & FALSE & FALSE & TRUE &  TRUE & FALSE & TRUE & FALSE & FALSE\\\\\n\t ENT & Enterprise & 4 & 22 & 5.3 & These Are the Voyages...      & Unknown & 13/5/05  & FALSE & Allan Kroeker       & ⋯ & NA               & NA & FALSE & FALSE & TRUE &  TRUE & FALSE & TRUE & FALSE & FALSE\\\\\n\\end{tabular}\n",
            "text/plain": [
              "    Series Series.Name         Season Episode IMDB.Ranking\n",
              "1   TOS    The Original Series 1       1      7.3         \n",
              "2   TOS    The Original Series 1       2      7.2         \n",
              "3   TOS    The Original Series 1       3      7.8         \n",
              "4   TOS    The Original Series 1       4      8.0         \n",
              "5   TOS    The Original Series 1       5      7.8         \n",
              "6   TOS    The Original Series 1       6      6.9         \n",
              "7   TOS    The Original Series 1       7      7.6         \n",
              "8   TOS    The Original Series 1       8      7.1         \n",
              "9   TOS    The Original Series 1       9      7.5         \n",
              "10  TOS    The Original Series 1      10      8.2         \n",
              "11  TOS    The Original Series 1      11      8.4         \n",
              "12  TOS    The Original Series 1      12      8.3         \n",
              "13  TOS    The Original Series 1      13      7.3         \n",
              "14  TOS    The Original Series 1      14      9.0         \n",
              "15  TOS    The Original Series 1      15      7.7         \n",
              "16  TOS    The Original Series 1      16      7.8         \n",
              "17  TOS    The Original Series 1      17      7.5         \n",
              "18  TOS    The Original Series 1      18      8.1         \n",
              "19  TOS    The Original Series 1      19      8.0         \n",
              "20  TOS    The Original Series 1      20      7.5         \n",
              "21  TOS    The Original Series 1      21      7.3         \n",
              "22  TOS    The Original Series 1      22      8.9         \n",
              "23  TOS    The Original Series 1      23      8.2         \n",
              "24  TOS    The Original Series 1      24      8.0         \n",
              "25  TOS    The Original Series 1      25      8.5         \n",
              "26  TOS    The Original Series 1      26      8.3         \n",
              "27  TOS    The Original Series 1      27      5.9         \n",
              "28  TOS    The Original Series 1      28      9.3         \n",
              "29  TOS    The Original Series 1      29      7.7         \n",
              "30  TOS    The Original Series 2       1      8.8         \n",
              "⋮   ⋮      ⋮                   ⋮      ⋮       ⋮           \n",
              "675 ENT    Enterprise          3      17      7.0         \n",
              "676 ENT    Enterprise          3      18      8.7         \n",
              "677 ENT    Enterprise          3      19      8.3         \n",
              "678 ENT    Enterprise          3      20      8.1         \n",
              "679 ENT    Enterprise          3      21      8.0         \n",
              "680 ENT    Enterprise          3      22      8.5         \n",
              "681 ENT    Enterprise          3      23      8.7         \n",
              "682 ENT    Enterprise          3      24      8.7         \n",
              "683 ENT    Enterprise          4       1      7.5         \n",
              "684 ENT    Enterprise          4       2      7.5         \n",
              "685 ENT    Enterprise          4       3      8.3         \n",
              "686 ENT    Enterprise          4       4      8.1         \n",
              "687 ENT    Enterprise          4       5      8.1         \n",
              "688 ENT    Enterprise          4       6      8.2         \n",
              "689 ENT    Enterprise          4       7      8.5         \n",
              "690 ENT    Enterprise          4       8      8.3         \n",
              "691 ENT    Enterprise          4       9      8.6         \n",
              "692 ENT    Enterprise          4      10      6.5         \n",
              "693 ENT    Enterprise          4      11      7.9         \n",
              "694 ENT    Enterprise          4      12      8.6         \n",
              "695 ENT    Enterprise          4      13      8.6         \n",
              "696 ENT    Enterprise          4      14      8.4         \n",
              "697 ENT    Enterprise          4      15      8.1         \n",
              "698 ENT    Enterprise          4      16      8.2         \n",
              "699 ENT    Enterprise          4      17      7.1         \n",
              "700 ENT    Enterprise          4      18      8.7         \n",
              "701 ENT    Enterprise          4      19      8.6         \n",
              "702 ENT    Enterprise          4      20      7.9         \n",
              "703 ENT    Enterprise          4      21      8.4         \n",
              "704 ENT    Enterprise          4      22      5.3         \n",
              "    Title                           Star.date Air.date Bechdel.Wallace.Test\n",
              "1   The Man Trap                    1513.1    8/9/66   FALSE               \n",
              "2   Charlie X                       1533.6    15/9/66  FALSE               \n",
              "3   Where No Man Has Gone Before    1312.4    22/9/66  FALSE               \n",
              "4   The Naked Time                  1704.2    29/9/66  FALSE               \n",
              "5   The Enemy Within                1672.1    6/10/66  FALSE               \n",
              "6   Mudd's Women                    1329.8    13/10/66 FALSE               \n",
              "7   What Are Little Girls Made Of?  2712.4    20/10/66 FALSE               \n",
              "8   Miri                            2713.5    27/10/66 FALSE               \n",
              "9   Dagger of the Mind              2715.1    3/11/66  FALSE               \n",
              "10  The Corbomite Maneuver          1512.2    10/11/66 FALSE               \n",
              "11  The Menagerie, Part I           3012.4    17/11/66 FALSE               \n",
              "12  The Menagerie, Part II          3013.1    24/11/66 FALSE               \n",
              "13  The Conscience of the King      2817.6    8/12/66  FALSE               \n",
              "14  Balance of Terror               1709.2    15/12/66 FALSE               \n",
              "15  Shore Leave                     3025.3    29/12/66 FALSE               \n",
              "16  The Galileo Seven               2821.5    5/1/67   FALSE               \n",
              "17  The Squire of Gothos            2124.5    12/1/67  FALSE               \n",
              "18  Arena                           3045.6    19/1/67  FALSE               \n",
              "19  Tomorrow Is Yesterday           3113.2    26/1/67  FALSE               \n",
              "20  Court Martial                   2947.3    2/2/67   FALSE               \n",
              "21  The Return of the Archons       3156.2    9/2/67   FALSE               \n",
              "22  Space Seed                      3141.9    16/2/67  FALSE               \n",
              "23  A Taste of Armageddon           3192.1    23/2/67  FALSE               \n",
              "24  This Side of Paradise           3417.3    2/3/67   FALSE               \n",
              "25  The Devil in the Dark           3196.1    9/3/67   FALSE               \n",
              "26  Errand of Mercy                 3198.4    23/3/67  FALSE               \n",
              "27  The Alternative Factor          3087.6    30/3/67  FALSE               \n",
              "28  The City on the Edge of Forever Unknown   6/4/67   FALSE               \n",
              "29  Operation: Annihilate!          3287.2    13/4/67  FALSE               \n",
              "30  Amok Time                       3372.7    15/9/67  FALSE               \n",
              "⋮   ⋮                               ⋮         ⋮        ⋮                   \n",
              "675 Hatchery                        Unknown   25/2/04  FALSE               \n",
              "676 Azati Prime                     Unknown   3/3/04    TRUE               \n",
              "677 Damage                          Unknown   21/4/04  FALSE               \n",
              "678 The Forgotten                   Unknown   28/4/04  FALSE               \n",
              "679 E²                              Unknown   5/5/04    TRUE               \n",
              "680 The Council                     Unknown   12/5/04  FALSE               \n",
              "681 Countdown                       Unknown   19/5/04  FALSE               \n",
              "682 Zero Hour                       Unknown   26/5/04   TRUE               \n",
              "683 Storm Front, Part I             Unknown   8/10/04   TRUE               \n",
              "684 Storm Front, Part II            Unknown   15/10/04 FALSE               \n",
              "685 Home                            Unknown   22/10/04  TRUE               \n",
              "686 Borderland                      Unknown   29/10/04 FALSE               \n",
              "687 Cold Station 12                 Unknown   5/11/04  FALSE               \n",
              "688 The Augments                    Unknown   12/11/04 FALSE               \n",
              "689 The Forge                       Unknown   19/11/04 FALSE               \n",
              "690 Awakening                       Unknown   26/11/04  TRUE               \n",
              "691 Kir'Shara                       Unknown   3/12/04   TRUE               \n",
              "692 Daedalus                        Unknown   14/1/05  FALSE               \n",
              "693 Observer Effect                 Unknown   21/1/05  FALSE               \n",
              "694 Babel One                       Unknown   28/1/05  FALSE               \n",
              "695 United                          Unknown   4/2/05   FALSE               \n",
              "696 The Aenar                       Unknown   11/2/05   TRUE               \n",
              "697 Affliction                      Unknown   18/2/05   TRUE               \n",
              "698 Divergence                      Unknown   25/2/05   TRUE               \n",
              "699 Bound                           Unknown   15/4/05  FALSE               \n",
              "700 In a Mirror, Darkly (Part I)    Unknown   22/4/05  FALSE               \n",
              "701 In a Mirror, Darkly (Part II)   Unknown   29/4/05   TRUE               \n",
              "702 Demons                          Unknown   6/5/05    TRUE               \n",
              "703 Terra Prime                     Unknown   13/5/05  FALSE               \n",
              "704 These Are the Voyages...        Unknown   13/5/05  FALSE               \n",
              "    Director            ⋯ Consulting.Producer.1 Consulting.Producer.2\n",
              "1   Marc Daniels        ⋯ NA                    NA                   \n",
              "2   Lawrence Dobkin     ⋯ NA                    NA                   \n",
              "3   James Goldstone     ⋯ NA                    NA                   \n",
              "4   Marc Daniels        ⋯ NA                    NA                   \n",
              "5   Leo Penn            ⋯ NA                    NA                   \n",
              "6   Harey Hart          ⋯ NA                    NA                   \n",
              "7   James Goldstone     ⋯ NA                    NA                   \n",
              "8   Vincent McEveety    ⋯ NA                    NA                   \n",
              "9   Vincent McEveety    ⋯ NA                    NA                   \n",
              "10  Joseph Sargent      ⋯ NA                    NA                   \n",
              "11  Marc Daniels        ⋯ NA                    NA                   \n",
              "12  Robert Butler       ⋯ NA                    NA                   \n",
              "13  Gerd Oswald         ⋯ NA                    NA                   \n",
              "14  Vincent McEveety    ⋯ NA                    NA                   \n",
              "15  Robert Sparr        ⋯ NA                    NA                   \n",
              "16  Robert Gist         ⋯ NA                    NA                   \n",
              "17  Don McDougall       ⋯ NA                    NA                   \n",
              "18  Joseph Pevney       ⋯ NA                    NA                   \n",
              "19  Michael O'Herlihy   ⋯ NA                    NA                   \n",
              "20  Marc Daniels        ⋯ NA                    NA                   \n",
              "21  Joseph Pevney       ⋯ NA                    NA                   \n",
              "22  Marc Daniels        ⋯ NA                    NA                   \n",
              "23  Joseph Pevney       ⋯ NA                    NA                   \n",
              "24  Ralph Senensky      ⋯ NA                    NA                   \n",
              "25  Joseph Pevney       ⋯ NA                    NA                   \n",
              "26  John Newland        ⋯ NA                    NA                   \n",
              "27  Gerd Oswald         ⋯ NA                    NA                   \n",
              "28  Joseph Pevney       ⋯ NA                    NA                   \n",
              "29  Herschel Daughtery  ⋯ NA                    NA                   \n",
              "30  Joseph Pevney       ⋯ NA                    NA                   \n",
              "⋮   ⋮                   ⋱ ⋮                     ⋮                    \n",
              "675 Michael Grossman    ⋯ David A. Goodman      NA                   \n",
              "676 Allan Kroeker       ⋯ David A. Goodman      NA                   \n",
              "677 James L. Conway     ⋯ David A. Goodman      NA                   \n",
              "678 LeVar Burton        ⋯ David A. Goodman      NA                   \n",
              "679 Roxann Dawson       ⋯ David A. Goodman      NA                   \n",
              "680 David Livingston    ⋯ David A. Goodman      NA                   \n",
              "681 Robert Ducan McNeil ⋯ David A. Goodman      NA                   \n",
              "682 Allan Kroeker       ⋯ David A. Goodman      NA                   \n",
              "683 Allan Kroeker       ⋯ Alan Brennert         NA                   \n",
              "684 Allan Kroeker       ⋯ Alan Brennert         NA                   \n",
              "685 Allan Kroeker       ⋯ Alan Brennert         NA                   \n",
              "686 David Livingston    ⋯ Alan Brennert         NA                   \n",
              "687 Mike Vejar          ⋯ Alan Brennert         NA                   \n",
              "688 LeVar Burton        ⋯ Alan Brennert         NA                   \n",
              "689 Michael Grossman    ⋯ Alan Brennert         NA                   \n",
              "690 Roxann Dawson       ⋯ Alan Brennert         NA                   \n",
              "691 David Livingston    ⋯ Alan Brennert         NA                   \n",
              "692 David Straiton      ⋯ Alan Brennert         NA                   \n",
              "693 Mike Vejar          ⋯ Alan Brennert         NA                   \n",
              "694 David Straiton      ⋯ NA                    NA                   \n",
              "695 David Livingston    ⋯ NA                    NA                   \n",
              "696 Mike Vejar          ⋯ NA                    NA                   \n",
              "697 Michael Grossman    ⋯ NA                    NA                   \n",
              "698 David Barrett       ⋯ NA                    NA                   \n",
              "699 Allan Kroeker       ⋯ NA                    NA                   \n",
              "700 James L. Conway     ⋯ NA                    NA                   \n",
              "701 Marvin V. Rush      ⋯ NA                    NA                   \n",
              "702 LeVar Burton        ⋯ NA                    NA                   \n",
              "703 Marvin V. Rush      ⋯ NA                    NA                   \n",
              "704 Allan Kroeker       ⋯ NA                    NA                   \n",
              "    Female.Executive.Producer Female.Co.Executive.Producer Female.Producer\n",
              "1   FALSE                     FALSE                        FALSE          \n",
              "2   FALSE                     FALSE                        FALSE          \n",
              "3   FALSE                     FALSE                        FALSE          \n",
              "4   FALSE                     FALSE                        FALSE          \n",
              "5   FALSE                     FALSE                        FALSE          \n",
              "6   FALSE                     FALSE                        FALSE          \n",
              "7   FALSE                     FALSE                        FALSE          \n",
              "8   FALSE                     FALSE                        FALSE          \n",
              "9   FALSE                     FALSE                        FALSE          \n",
              "10  FALSE                     FALSE                        FALSE          \n",
              "11  FALSE                     FALSE                        FALSE          \n",
              "12  FALSE                     FALSE                        FALSE          \n",
              "13  FALSE                     FALSE                        FALSE          \n",
              "14  FALSE                     FALSE                        FALSE          \n",
              "15  FALSE                     FALSE                        FALSE          \n",
              "16  FALSE                     FALSE                        FALSE          \n",
              "17  FALSE                     FALSE                        FALSE          \n",
              "18  FALSE                     FALSE                        FALSE          \n",
              "19  FALSE                     FALSE                        FALSE          \n",
              "20  FALSE                     FALSE                        FALSE          \n",
              "21  FALSE                     FALSE                        FALSE          \n",
              "22  FALSE                     FALSE                        FALSE          \n",
              "23  FALSE                     FALSE                        FALSE          \n",
              "24  FALSE                     FALSE                        FALSE          \n",
              "25  FALSE                     FALSE                        FALSE          \n",
              "26  FALSE                     FALSE                        FALSE          \n",
              "27  FALSE                     FALSE                        FALSE          \n",
              "28  FALSE                     FALSE                        FALSE          \n",
              "29  FALSE                     FALSE                        FALSE          \n",
              "30  FALSE                     FALSE                        FALSE          \n",
              "⋮   ⋮                         ⋮                            ⋮              \n",
              "675 FALSE                     FALSE                        TRUE           \n",
              "676 FALSE                     FALSE                        TRUE           \n",
              "677 FALSE                     FALSE                        TRUE           \n",
              "678 FALSE                     FALSE                        TRUE           \n",
              "679 FALSE                     FALSE                        TRUE           \n",
              "680 FALSE                     FALSE                        TRUE           \n",
              "681 FALSE                     FALSE                        TRUE           \n",
              "682 FALSE                     FALSE                        TRUE           \n",
              "683 FALSE                     FALSE                        TRUE           \n",
              "684 FALSE                     FALSE                        TRUE           \n",
              "685 FALSE                     FALSE                        TRUE           \n",
              "686 FALSE                     FALSE                        TRUE           \n",
              "687 FALSE                     FALSE                        TRUE           \n",
              "688 FALSE                     FALSE                        TRUE           \n",
              "689 FALSE                     FALSE                        TRUE           \n",
              "690 FALSE                     FALSE                        TRUE           \n",
              "691 FALSE                     FALSE                        TRUE           \n",
              "692 FALSE                     FALSE                        TRUE           \n",
              "693 FALSE                     FALSE                        TRUE           \n",
              "694 FALSE                     FALSE                        TRUE           \n",
              "695 FALSE                     FALSE                        TRUE           \n",
              "696 FALSE                     FALSE                        TRUE           \n",
              "697 FALSE                     FALSE                        TRUE           \n",
              "698 FALSE                     FALSE                        TRUE           \n",
              "699 FALSE                     FALSE                        TRUE           \n",
              "700 FALSE                     FALSE                        TRUE           \n",
              "701 FALSE                     FALSE                        TRUE           \n",
              "702 FALSE                     FALSE                        TRUE           \n",
              "703 FALSE                     FALSE                        TRUE           \n",
              "704 FALSE                     FALSE                        TRUE           \n",
              "    Female.Co.Producer Female.Associate.Producer Female.Supervising.Producer\n",
              "1   FALSE              FALSE                     FALSE                      \n",
              "2   FALSE              FALSE                     FALSE                      \n",
              "3   FALSE              FALSE                     FALSE                      \n",
              "4   FALSE              FALSE                     FALSE                      \n",
              "5   FALSE              FALSE                     FALSE                      \n",
              "6   FALSE              FALSE                     FALSE                      \n",
              "7   FALSE              FALSE                     FALSE                      \n",
              "8   FALSE              FALSE                     FALSE                      \n",
              "9   FALSE              FALSE                     FALSE                      \n",
              "10  FALSE              FALSE                     FALSE                      \n",
              "11  FALSE              FALSE                     FALSE                      \n",
              "12  FALSE              FALSE                     FALSE                      \n",
              "13  FALSE              FALSE                     FALSE                      \n",
              "14  FALSE              FALSE                     FALSE                      \n",
              "15  FALSE              FALSE                     FALSE                      \n",
              "16  FALSE              FALSE                     FALSE                      \n",
              "17  FALSE              FALSE                     FALSE                      \n",
              "18  FALSE              FALSE                     FALSE                      \n",
              "19  FALSE              FALSE                     FALSE                      \n",
              "20  FALSE              FALSE                     FALSE                      \n",
              "21  FALSE              FALSE                     FALSE                      \n",
              "22  FALSE              FALSE                     FALSE                      \n",
              "23  FALSE              FALSE                     FALSE                      \n",
              "24  FALSE              FALSE                     FALSE                      \n",
              "25  FALSE              FALSE                     FALSE                      \n",
              "26  FALSE              FALSE                     FALSE                      \n",
              "27  FALSE              FALSE                     FALSE                      \n",
              "28  FALSE              FALSE                     FALSE                      \n",
              "29  FALSE              FALSE                     FALSE                      \n",
              "30  FALSE              FALSE                     FALSE                      \n",
              "⋮   ⋮                  ⋮                         ⋮                          \n",
              "675 FALSE              FALSE                     TRUE                       \n",
              "676 FALSE              FALSE                     TRUE                       \n",
              "677 FALSE              FALSE                     TRUE                       \n",
              "678 FALSE              FALSE                     TRUE                       \n",
              "679 FALSE              FALSE                     TRUE                       \n",
              "680 FALSE              FALSE                     TRUE                       \n",
              "681 FALSE              FALSE                     TRUE                       \n",
              "682 FALSE              FALSE                     TRUE                       \n",
              "683 FALSE              FALSE                     TRUE                       \n",
              "684 FALSE              FALSE                     TRUE                       \n",
              "685 FALSE              FALSE                     TRUE                       \n",
              "686 FALSE              FALSE                     TRUE                       \n",
              "687 FALSE              FALSE                     TRUE                       \n",
              "688 FALSE              FALSE                     TRUE                       \n",
              "689 FALSE              FALSE                     TRUE                       \n",
              "690 FALSE              FALSE                     TRUE                       \n",
              "691 FALSE              FALSE                     TRUE                       \n",
              "692 FALSE              FALSE                     TRUE                       \n",
              "693 FALSE              FALSE                     TRUE                       \n",
              "694  TRUE              FALSE                     TRUE                       \n",
              "695  TRUE              FALSE                     TRUE                       \n",
              "696  TRUE              FALSE                     TRUE                       \n",
              "697  TRUE              FALSE                     TRUE                       \n",
              "698  TRUE              FALSE                     TRUE                       \n",
              "699  TRUE              FALSE                     TRUE                       \n",
              "700  TRUE              FALSE                     TRUE                       \n",
              "701  TRUE              FALSE                     TRUE                       \n",
              "702  TRUE              FALSE                     TRUE                       \n",
              "703  TRUE              FALSE                     TRUE                       \n",
              "704  TRUE              FALSE                     TRUE                       \n",
              "    Female.Co.Supervising.Producer Female.Line.Producer\n",
              "1   FALSE                          FALSE               \n",
              "2   FALSE                          FALSE               \n",
              "3   FALSE                          FALSE               \n",
              "4   FALSE                          FALSE               \n",
              "5   FALSE                          FALSE               \n",
              "6   FALSE                          FALSE               \n",
              "7   FALSE                          FALSE               \n",
              "8   FALSE                          FALSE               \n",
              "9   FALSE                          FALSE               \n",
              "10  FALSE                          FALSE               \n",
              "11  FALSE                          FALSE               \n",
              "12  FALSE                          FALSE               \n",
              "13  FALSE                          FALSE               \n",
              "14  FALSE                          FALSE               \n",
              "15  FALSE                          FALSE               \n",
              "16  FALSE                          FALSE               \n",
              "17  FALSE                          FALSE               \n",
              "18  FALSE                          FALSE               \n",
              "19  FALSE                          FALSE               \n",
              "20  FALSE                          FALSE               \n",
              "21  FALSE                          FALSE               \n",
              "22  FALSE                          FALSE               \n",
              "23  FALSE                          FALSE               \n",
              "24  FALSE                          FALSE               \n",
              "25  FALSE                          FALSE               \n",
              "26  FALSE                          FALSE               \n",
              "27  FALSE                          FALSE               \n",
              "28  FALSE                          FALSE               \n",
              "29  FALSE                          FALSE               \n",
              "30  FALSE                          FALSE               \n",
              "⋮   ⋮                              ⋮                   \n",
              "675 FALSE                          FALSE               \n",
              "676 FALSE                          FALSE               \n",
              "677 FALSE                          FALSE               \n",
              "678 FALSE                          FALSE               \n",
              "679 FALSE                          FALSE               \n",
              "680 FALSE                          FALSE               \n",
              "681 FALSE                          FALSE               \n",
              "682 FALSE                          FALSE               \n",
              "683 FALSE                          FALSE               \n",
              "684 FALSE                          FALSE               \n",
              "685 FALSE                          FALSE               \n",
              "686 FALSE                          FALSE               \n",
              "687 FALSE                          FALSE               \n",
              "688 FALSE                          FALSE               \n",
              "689 FALSE                          FALSE               \n",
              "690 FALSE                          FALSE               \n",
              "691 FALSE                          FALSE               \n",
              "692 FALSE                          FALSE               \n",
              "693 FALSE                          FALSE               \n",
              "694 FALSE                          FALSE               \n",
              "695 FALSE                          FALSE               \n",
              "696 FALSE                          FALSE               \n",
              "697 FALSE                          FALSE               \n",
              "698 FALSE                          FALSE               \n",
              "699 FALSE                          FALSE               \n",
              "700 FALSE                          FALSE               \n",
              "701 FALSE                          FALSE               \n",
              "702 FALSE                          FALSE               \n",
              "703 FALSE                          FALSE               \n",
              "704 FALSE                          FALSE               "
            ]
          },
          "metadata": {}
        }
      ]
    },
    {
      "cell_type": "markdown",
      "source": [
        "#### **Question 1.1**\n",
        "\n",
        "Is there evidence that the average IMDB rating of Star Trek: The Original Series episodes is lower than 7.7? Interpret the results for a non-statistician stakeholder."
      ],
      "metadata": {
        "id": "r-EopFOFf19C"
      }
    },
    {
      "cell_type": "code",
      "source": [
        "# H0: Mean = 7.7, H1: Mean < 7.7, Left one tail test\n",
        "# Hypothesis with error rate a = 0.05, Z95\n",
        "\n",
        "episodes %>%\n",
        "  summarise(Z0 = qnorm(0.05), Z = ((mean(IMDB.Ranking) - 7.7) / (sd(IMDB.Ranking) / sqrt(n())) ) )\n",
        "\n",
        "# As Z < Z0, there is evidence against the null hypothesis H0. As we have rejected the null hyptothesis\n",
        "# there is evidence to support the alternative hypothesis that the average IMDB rating is below 7.7"
      ],
      "metadata": {
        "id": "WtVRLhe6hhG0",
        "colab": {
          "base_uri": "https://localhost:8080/",
          "height": 129
        },
        "outputId": "f6cc04c6-c922-4a2c-ec9d-f74fb44b7120"
      },
      "execution_count": 11,
      "outputs": [
        {
          "output_type": "display_data",
          "data": {
            "text/html": [
              "<table class=\"dataframe\">\n",
              "<caption>A data.frame: 1 × 2</caption>\n",
              "<thead>\n",
              "\t<tr><th scope=col>Z0</th><th scope=col>Z</th></tr>\n",
              "\t<tr><th scope=col>&lt;dbl&gt;</th><th scope=col>&lt;dbl&gt;</th></tr>\n",
              "</thead>\n",
              "<tbody>\n",
              "\t<tr><td>-1.644854</td><td>-5.104216</td></tr>\n",
              "</tbody>\n",
              "</table>\n"
            ],
            "text/markdown": "\nA data.frame: 1 × 2\n\n| Z0 &lt;dbl&gt; | Z &lt;dbl&gt; |\n|---|---|\n| -1.644854 | -5.104216 |\n\n",
            "text/latex": "A data.frame: 1 × 2\n\\begin{tabular}{ll}\n Z0 & Z\\\\\n <dbl> & <dbl>\\\\\n\\hline\n\t -1.644854 & -5.104216\\\\\n\\end{tabular}\n",
            "text/plain": [
              "  Z0        Z        \n",
              "1 -1.644854 -5.104216"
            ]
          },
          "metadata": {}
        }
      ]
    },
    {
      "cell_type": "markdown",
      "source": [
        "\n",
        "\n",
        "<details>\n",
        "<summary>▶️ Click to show the solution</summary>\n",
        "\n",
        "```r\n",
        "\n",
        "#H0: mu = 7.7\n",
        "#H1: mu < 7.7\n",
        "\n",
        "episodes %>%\n",
        "  filter(Series == \"TOS\") %>%\n",
        "  summarise(avgIMDB = mean(IMDB.Ranking),\n",
        "            sdIMDB = sd(IMDB.Ranking),\n",
        "            n = n(),\n",
        "            mu_H0 = 7.7,\n",
        "            z_05 = qnorm(0.05)) %>%\n",
        "  mutate(z_obs = (avgIMDB - mu_H0)/(sdIMDB/sqrt(n)))\n",
        "\n",
        "#As z_obs < z_05, at 95% significance level, there is evidence against the null hypothesis that the average IMDB ranking of TOS is 7.7.\n",
        "# We reject the null hypothesis in favour of the alternative one that the average rating of TOS is lower than 7.7\n",
        "\n",
        "```\n",
        "\n",
        "</details>\n"
      ],
      "metadata": {
        "id": "KdQqp-HpjtwI"
      }
    },
    {
      "cell_type": "markdown",
      "source": [
        "#### **Question 1.2**\n",
        "\n",
        "\n",
        "Is there evidence that the mean IMDB rating of episodes of Star Trek: The Original Series differs from the mean rating of Star Trek: The Next Generation? Interpret the results for a non-statistician stakeholder."
      ],
      "metadata": {
        "id": "2PtbU1jrhUZQ"
      }
    },
    {
      "cell_type": "code",
      "source": [
        "# H0 OrignalSeriesMean = NextGenerationMean\n",
        "# H1 OrignalSeriesMean != NextGenerationMean\n",
        "\n",
        "episodes %>%\n",
        "  filter(Series %in% c(\"TOS\", \"TNG\")) %>%\n",
        "  group_by(Series) %>%\n",
        "  summarise(mean = mean(IMDB.Ranking), sd = sd(IMDB.Ranking), n = n()) -> seriesStats\n",
        "\n",
        "TOS_Statistics = filter(seriesStats, Series == \"TOS\")\n",
        "TNG_Statistics = filter(seriesStats, Series == \"TNG\")\n",
        "\n",
        "Z0 = qnorm(0.025)\n",
        "Z = (TOS_Statistics$mean - TNG_Statistics$mean) / sqrt((TOS_Statistics$sd/TOS_Statistics$n) + (TNG_Statistics$sd/TNG_Statistics$n))\n",
        "Z0\n",
        "Z\n",
        "# As |Z0| > Z there is no evidence against the null hypothesis H0.\n",
        "# As the null hypothesis is not rejected there is evidence that the IMDB mean for both series are the same."
      ],
      "metadata": {
        "id": "qTY4XikJhiC8",
        "colab": {
          "base_uri": "https://localhost:8080/",
          "height": 52
        },
        "outputId": "5c5a0217-10b2-4316-b546-5588e4f01fb7"
      },
      "execution_count": 35,
      "outputs": [
        {
          "output_type": "display_data",
          "data": {
            "text/html": [
              "-1.95996398454005"
            ],
            "text/markdown": "-1.95996398454005",
            "text/latex": "-1.95996398454005",
            "text/plain": [
              "[1] -1.959964"
            ]
          },
          "metadata": {}
        },
        {
          "output_type": "display_data",
          "data": {
            "text/html": [
              "0.719001126948185"
            ],
            "text/markdown": "0.719001126948185",
            "text/latex": "0.719001126948185",
            "text/plain": [
              "[1] 0.7190011"
            ]
          },
          "metadata": {}
        }
      ]
    },
    {
      "cell_type": "markdown",
      "source": [
        "\n",
        "\n",
        "<details>\n",
        "<summary>▶️ Click to show the solution</summary>\n",
        "\n",
        "```r\n",
        "\n",
        "#H0: mu_TOS - mu_TNG = 0\n",
        "#H1: mu_TOS - mu_TNG != 0\n",
        "\n",
        "episodes %>%\n",
        "  filter(Series ==  c(\"TOS\", \"TNG\")) %>%\n",
        "  group_by(Series) %>%\n",
        "  summarise(avgIMDB = mean(IMDB.Ranking),\n",
        "            varIMDB = var(IMDB.Ranking),\n",
        "            n = n()) -> summaryStats\n",
        "\n",
        "TNG_stats = summaryStats %>% filter(Series == \"TNG\")\n",
        "TOS_stats = summaryStats %>% filter(Series == \"TOS\")\n",
        "\n",
        "z_obs = (TOS_stats$avgIMDB - TNG_stats$avgIMDB)/sqrt(TOS_stats$varIMDB/TOS_stats$n + TNG_stats$varIMDB/TNG_stats$n)\n",
        "z_975 = qnorm(0.975)\n",
        "\n",
        "abs(z_obs) > z_975\n",
        "\n",
        "#As abc(z_obs) < z_975, at 95% significance level, there is no evidence against the null hypothesis that\n",
        "#the average ranking of TOS is equal to that of TNG. Do not reject the null hypothesis.\n",
        "\n",
        "```\n",
        "\n",
        "</details>\n"
      ],
      "metadata": {
        "id": "OgjJ2CdZjuaE"
      }
    },
    {
      "cell_type": "markdown",
      "source": [
        "#### **Question 1.3**\n",
        "\n",
        "Is there evidence that the proportion of Star Trek: The Next Generation episodes that pass the Bechdel-Wallace Test is different from 0.4? Interpret the results for a non-statistician stakeholder."
      ],
      "metadata": {
        "id": "AWwDxhuKhv44"
      }
    },
    {
      "cell_type": "markdown",
      "source": [
        "\n",
        "**Note**: While these series have ended and you technically have the full “population” of some values (e.g., results of the Bechdel-Wallace test), we still ask you to test whether or not the proportion of episodes that pass the test is equal to 0.4. This may seem counter-intuitive, but you can think of it as follows:\n",
        "\n",
        "- The episode test results are treated as realisations from an unknown probability distribution $f$ (here, Bernoulli(p)).\n",
        "- Although the episodes are released, we are interested in the underlying process that generates these values. This includes not-yet-released episodes or hypothetical similar episodes. Simply examining the “complete” population of Bechdel test results is not sufficient; instead, we rely on a statistical model to quantify uncertainty."
      ],
      "metadata": {
        "id": "QnaGxyE1kJmt"
      }
    },
    {
      "cell_type": "code",
      "source": [
        "# H0: p = 0.4\n",
        "# H1: p != 0.5\n",
        "TNG_episodes = filter(episodes, Series == \"TNG\")\n",
        "n = nrow(TNG_episodes)\n",
        "p = 0.4\n",
        "p_hat =  nrow(filter(TNG_episodes, Bechdel.Wallace.Test == \"TRUE\")) / n\n",
        "\n",
        "Z0 = qnorm(0.975)\n",
        "Z = (p_hat - p) / sqrt(p*(1-p)/n)\n",
        "Z0\n",
        "Z\n",
        "\n",
        "# As |Z| > Z there is no evidence against the null hypothesis H0.\n",
        "# There is evidence to say that the the proportion of Bechdel test doesn't differ from 0.4"
      ],
      "metadata": {
        "id": "q1nduV1CjAUo",
        "colab": {
          "base_uri": "https://localhost:8080/",
          "height": 52
        },
        "outputId": "7ed63d96-0830-4cdb-bb31-73594f7a4563"
      },
      "execution_count": 81,
      "outputs": [
        {
          "output_type": "display_data",
          "data": {
            "text/html": [
              "1.95996398454005"
            ],
            "text/markdown": "1.95996398454005",
            "text/latex": "1.95996398454005",
            "text/plain": [
              "[1] 1.959964"
            ]
          },
          "metadata": {}
        },
        {
          "output_type": "display_data",
          "data": {
            "text/html": [
              "1.04038310431558"
            ],
            "text/markdown": "1.04038310431558",
            "text/latex": "1.04038310431558",
            "text/plain": [
              "[1] 1.040383"
            ]
          },
          "metadata": {}
        }
      ]
    },
    {
      "cell_type": "markdown",
      "source": [
        "\n",
        "\n",
        "<details>\n",
        "<summary>▶️ Click to show the solution</summary>\n",
        "\n",
        "```r\n",
        "\n",
        "#H0: p = 0.4\n",
        "#H1: p != 0.4\n",
        "\n",
        "episodes %>%\n",
        "  filter(Series == \"TNG\") %>%\n",
        "  summarise(p_hat = mean(Bechdel.Wallace.Test),\n",
        "            n = n(),\n",
        "            p_H0 = 0.4,\n",
        "            z_975 = qnorm(0.975)) %>%\n",
        "  mutate(z_obs = abs((p_hat-p_H0)/sqrt(p_H0*(1-p_H0)/n)))\n",
        "\n",
        "\n",
        "#As abc(z_obs) < z_975, at 95% significance level, there is no evidence against the null hypothesis that\n",
        "#the proportion of TNG episodes that pass the Bechdel-Wallace Test is 0.4. Do not reject the null hypothesis.\n",
        "\n",
        "```\n",
        "\n",
        "</details>\n"
      ],
      "metadata": {
        "id": "zeoBz1alju7q"
      }
    },
    {
      "cell_type": "markdown",
      "source": [
        "#### **Question 1.4**\n",
        "\n",
        "\n",
        "Is there evidence that the proportion of episodes that pass the Bechdel-Wallace Test differs between Star Trek: The Next Generation and Star Trek: Voyager? Interpret the results for a non-statistician stakeholder."
      ],
      "metadata": {
        "id": "FoGVfo_hjArg"
      }
    },
    {
      "cell_type": "code",
      "source": [
        "#H0: TNGp = TOSp\n",
        "#H1: TNGp != TOSp\n",
        "\n",
        "episodes %>%\n",
        "  filter(Series %in% c(\"TNG\", \"TOS\")) %>%\n",
        "  mutate(p0 = mean(Bechdel.Wallace.Test) / n()) %>%\n",
        "  group_by(Series) %>%\n",
        "  summarise(p_hat = mean(Bechdel.Wallace.Test), n = n(), p0 = p0[1]) -> summarisedEpisodes\n",
        "\n",
        "p0 = summarisedEpisodes$p0[1]\n",
        "\n",
        "TNG_statistics = filter(summarisedEpisodes, Series == \"TNG\")\n",
        "TOS_statistics = filter(summarisedEpisodes, Series == \"TOS\")\n",
        "\n",
        "Z0 = qnorm(0.025)\n",
        "Z = (TNG_statistics$p_hat - TOS_statistics$p_hat) / sqrt((TNG_statistics$p_hat*(1-TNG_statistics$p_hat) / TNG_statistics$n) + (TOS_statistics$p_hat*(1-TOS_statistics$p_hat) / TOS_statistics$n))\n",
        "\n",
        "Z0\n",
        "Z\n",
        "# As |Z| > Z0 there is evidence against the null hypothesis H0.\n",
        "# There is evidence that the proportion of episodes that pass the Bechdel-Wallace differs between TNG and TOS"
      ],
      "metadata": {
        "id": "8azh6dZHjeDc",
        "colab": {
          "base_uri": "https://localhost:8080/",
          "height": 52
        },
        "outputId": "4d029dcc-b32c-4bc2-fc62-0fe543e21e2a"
      },
      "execution_count": 70,
      "outputs": [
        {
          "output_type": "display_data",
          "data": {
            "text/html": [
              "-1.95996398454005"
            ],
            "text/markdown": "-1.95996398454005",
            "text/latex": "-1.95996398454005",
            "text/plain": [
              "[1] -1.959964"
            ]
          },
          "metadata": {}
        },
        {
          "output_type": "display_data",
          "data": {
            "text/html": [
              "8.16847978717513"
            ],
            "text/markdown": "8.16847978717513",
            "text/latex": "8.16847978717513",
            "text/plain": [
              "[1] 8.16848"
            ]
          },
          "metadata": {}
        }
      ]
    },
    {
      "cell_type": "markdown",
      "source": [
        "\n",
        "\n",
        "<details>\n",
        "<summary>▶️ Click to show the solution</summary>\n",
        "\n",
        "```r\n",
        "\n",
        "#H0: p_TOS - p_TNG = 0\n",
        "#H1: p_TOS - p_TNG != 0\n",
        "\n",
        "episodes %>%\n",
        "  filter(Series ==  c(\"TOS\", \"TNG\")) %>%\n",
        "  group_by(Series) %>%\n",
        "  summarise(p_hat = mean(Bechdel.Wallace.Test),\n",
        "            n = n()) -> summaryStats\n",
        "\n",
        "TNG_stats = summaryStats %>% filter(Series == \"TNG\")\n",
        "TOS_stats = summaryStats %>% filter(Series == \"TOS\")\n",
        "\n",
        "z_obs = (TOS_stats$p_hat - TNG_stats$p_hat)/sqrt(TOS_stats$p_hat*(1-TOS_stats$p_hat)/TOS_stats$n + TNG_stats$p_hat*(1-TNG_stats$p_hat)/TNG_stats$n)\n",
        "z_975 = qnorm(0.975)\n",
        "\n",
        "abs(z_obs) > z_975\n",
        "\n",
        "#As abc(z_obs) > z_975, at 95% significance level, there is evidence against the null hypothesis that\n",
        "#the proportion of episodes passing the Bechdel test of TOS is equal to that of TNG. Reject the null hypothesis in favour of the\n",
        "#alternative one that these two proportions are different.\n",
        "\n",
        "```\n",
        "\n",
        "</details>\n"
      ],
      "metadata": {
        "id": "FlavSEiCjvT3"
      }
    },
    {
      "cell_type": "markdown",
      "source": [
        "### **Question 2**\n",
        "\n",
        "The following questions are based on the `epa_data` dataset. While you are expected to use R to compute the answers, the underlying concepts are identical to those in pen-and-paper hypothesis testing calculations.\n"
      ],
      "metadata": {
        "id": "iABy0Dkejia4"
      }
    },
    {
      "cell_type": "code",
      "source": [
        "epa_data = read.csv(\"./datasets/epa_data.csv\")\n",
        "epa_data %>% str()"
      ],
      "metadata": {
        "colab": {
          "base_uri": "https://localhost:8080/"
        },
        "id": "YQgqS1IXjzMp",
        "outputId": "48eb8511-fe41-4d8c-9fb3-c054db393097"
      },
      "execution_count": 4,
      "outputs": [
        {
          "output_type": "stream",
          "name": "stdout",
          "text": [
            "'data.frame':\t13569 obs. of  9 variables:\n",
            " $ city : int  16 15 16 19 19 19 19 19 19 19 ...\n",
            " $ hwy  : int  24 22 22 27 29 24 26 27 29 24 ...\n",
            " $ cyl  : int  8 8 8 4 4 4 4 4 4 4 ...\n",
            " $ disp : num  5 5 5 2 2 2.4 2.4 2 2 2.4 ...\n",
            " $ drive: chr  \"Rear-Wheel Drive\" \"Rear-Wheel Drive\" \"Rear-Wheel Drive\" \"Rear-Wheel Drive\" ...\n",
            " $ make : chr  \"Jaguar\" \"Jaguar\" \"Jaguar\" \"Pontiac\" ...\n",
            " $ model: chr  \"XK\" \"XK\" \"XK Convertible\" \"Solstice\" ...\n",
            " $ trans: chr  \"Automatic\" \"Automatic\" \"Automatic\" \"Automatic\" ...\n",
            " $ year : int  2010 2010 2010 2010 2010 2010 2010 2010 2010 2010 ...\n"
          ]
        }
      ]
    },
    {
      "cell_type": "markdown",
      "source": [
        "#### **Question 2.1**\n",
        "\n",
        "Is there evidence of a difference in the average city mileage between cars manufactured in 2015 and 2020?  Interpret the results for a non-statistician stakeholder."
      ],
      "metadata": {
        "id": "zisuB0lUj3yE"
      }
    },
    {
      "cell_type": "code",
      "source": [
        "#H0: 2015Mean = 2020Mean\n",
        "#H1: 2015Mean != 2020Mean\n",
        "\n",
        "epa_data %>%\n",
        "  filter(year %in% c(\"2015\", \"2020\")) %>%\n",
        "  group_by(year) %>%\n",
        "  summarise(\n",
        "    mean = mean(city),\n",
        "    sd = sd(city),\n",
        "    n = n()\n",
        "  ) -> epa_data_summarised\n",
        "\n",
        "city_2015 = filter(epa_data_summarised, year == \"2015\")\n",
        "city_2020 = filter(epa_data_summarised, year == \"2020\")\n",
        "\n",
        "Z0 = qnorm(0.975)\n",
        "Z = (city_2015$mean - city_2020$mean) / sqrt((city_2015$sd^2 / city_2015$n) + (city_2020$sd^2 / city_2020$n))\n",
        "Z0\n",
        "Z\n",
        "#As |Z| > Z0 at 95% signficance level, there is evidence against the null hypothesis H0.\n",
        "# There is evidence that there is a difference between the average city mileage of 2015 and 2020"
      ],
      "metadata": {
        "id": "F9gnd1ydlHxo",
        "colab": {
          "base_uri": "https://localhost:8080/",
          "height": 52
        },
        "outputId": "3895f6df-5a87-4600-f260-10313035f590"
      },
      "execution_count": 5,
      "outputs": [
        {
          "output_type": "display_data",
          "data": {
            "text/html": [
              "1.95996398454005"
            ],
            "text/markdown": "1.95996398454005",
            "text/latex": "1.95996398454005",
            "text/plain": [
              "[1] 1.959964"
            ]
          },
          "metadata": {}
        },
        {
          "output_type": "display_data",
          "data": {
            "text/html": [
              "-3.78903689320013"
            ],
            "text/markdown": "-3.78903689320013",
            "text/latex": "-3.78903689320013",
            "text/plain": [
              "[1] -3.789037"
            ]
          },
          "metadata": {}
        }
      ]
    },
    {
      "cell_type": "markdown",
      "source": [
        "\n",
        "\n",
        "<details>\n",
        "<summary>▶️ Click to show the solution</summary>\n",
        "\n",
        "Solution will be released at the end of the week!\n",
        "\n",
        "</details>\n"
      ],
      "metadata": {
        "id": "9XFHEzV3lJSg"
      }
    },
    {
      "cell_type": "markdown",
      "source": [
        "#### **Question 2.2**\n",
        "\n",
        "Is there evidence that the proportion of cars produced with manual transmissions in 2010 is greater than 0.5? Interpret the results for a non-statistician stakeholder."
      ],
      "metadata": {
        "id": "9e6ODNN6lKpz"
      }
    },
    {
      "cell_type": "code",
      "source": [
        "# H0: Mean2010 = 0.5\n",
        "# H1: Mean2010 > 0.5\n",
        "epa_data %>%\n",
        "  filter(year == \"2010\") %>%\n",
        "  mutate(manual = ifelse(trans == \"Manual\", 1, 0)) %>%\n",
        "  summarise(\n",
        "    p_hat = mean(manual),\n",
        "    n = n()\n",
        "  ) -> epa_summary\n",
        "p = 0.5\n",
        "\n",
        "Z0 = qnorm(0.95)\n",
        "Z = (epa_summary$p_hat - p) / sqrt(p*(1-p)/epa_summary$n)\n",
        "\n",
        "Z0\n",
        "Z\n",
        "# As Z < Z0 at a 95% significance level, there is no evidence against the null hypothesis H0.\n",
        "# There is evidence that the proportion of cars produced with manual transmissions is not greater than 0.5"
      ],
      "metadata": {
        "colab": {
          "base_uri": "https://localhost:8080/",
          "height": 52
        },
        "id": "TuVZm8TbmUnK",
        "outputId": "7cdfbeda-9958-4c57-89c8-4c9266688de5"
      },
      "execution_count": 6,
      "outputs": [
        {
          "output_type": "display_data",
          "data": {
            "text/html": [
              "1.64485362695147"
            ],
            "text/markdown": "1.64485362695147",
            "text/latex": "1.64485362695147",
            "text/plain": [
              "[1] 1.644854"
            ]
          },
          "metadata": {}
        },
        {
          "output_type": "display_data",
          "data": {
            "text/html": [
              "-17.0862396451619"
            ],
            "text/markdown": "-17.0862396451619",
            "text/latex": "-17.0862396451619",
            "text/plain": [
              "[1] -17.08624"
            ]
          },
          "metadata": {}
        }
      ]
    },
    {
      "cell_type": "markdown",
      "source": [
        "\n",
        "\n",
        "<details>\n",
        "<summary>▶️ Click to show the solution</summary>\n",
        "\n",
        "Solution will be released at the end of the week!\n",
        "\n",
        "</details>\n"
      ],
      "metadata": {
        "id": "my6tFYsOlkat"
      }
    },
    {
      "cell_type": "markdown",
      "source": [
        "#### **Question 2.3**\n",
        "\n",
        "Is there evidence that the proportion of cars produced with manual transmissions for the years 2011 and 2012 has decreased? Interpret the results for a non-statistician stakeholder."
      ],
      "metadata": {
        "id": "fNu9mI0rlk0d"
      }
    },
    {
      "cell_type": "code",
      "source": [
        "# H0: p2012 = p2011\n",
        "# H1: p2012 < p2011\n",
        "# using 95% significance\n",
        "# one tailed to the left\n",
        "\n",
        "Zscore = qnorm(0.05)\n",
        "\n",
        "epa_data %>%\n",
        "  mutate(manual = ifelse(trans == \"Manual\",1, 0)) -> epa_data_with_manual\n",
        "\n",
        "epa_data_with_manual %>%\n",
        "  filter(year == \"2012\") %>%\n",
        "  summarise(phat = mean(manual), n = n()) -> summary2012\n",
        "\n",
        "epa_data_with_manual %>%\n",
        "  filter(year == \"2011\") %>%\n",
        "  summarise(phat = mean(manual), n = n()) -> summary2011\n",
        "\n",
        "SE = sqrt((summary2012$phat*(1-summary2012$phat)/summary2012$n) + (summary2011$phat*(1-summary2011$phat)/summary2011$n))\n",
        "Z = (summary2012$phat - summary2011$phat) / SE\n",
        "\n",
        "Zscore\n",
        "Z\n",
        "# As -Z > Z0, there is no evidence against the null hypothesis.\n",
        "# Therefore there is evidence that the proportion of cars produced with manual transmission did not decrease from 2011 to 2012"
      ],
      "metadata": {
        "id": "8txY_R41lsJP",
        "colab": {
          "base_uri": "https://localhost:8080/",
          "height": 52
        },
        "outputId": "7e64845e-c52c-4861-8ed3-5de98bf12678"
      },
      "execution_count": 7,
      "outputs": [
        {
          "output_type": "display_data",
          "data": {
            "text/html": [
              "-1.64485362695147"
            ],
            "text/markdown": "-1.64485362695147",
            "text/latex": "-1.64485362695147",
            "text/plain": [
              "[1] -1.644854"
            ]
          },
          "metadata": {}
        },
        {
          "output_type": "display_data",
          "data": {
            "text/html": [
              "-0.346115964664164"
            ],
            "text/markdown": "-0.346115964664164",
            "text/latex": "-0.346115964664164",
            "text/plain": [
              "[1] -0.346116"
            ]
          },
          "metadata": {}
        }
      ]
    },
    {
      "cell_type": "markdown",
      "source": [
        "\n",
        "\n",
        "<details>\n",
        "<summary>▶️ Click to show the solution</summary>\n",
        "\n",
        "Solution will be released at the end of the week!\n",
        "\n",
        "</details>\n"
      ],
      "metadata": {
        "id": "G2Sk-1I2ls-H"
      }
    }
  ]
}