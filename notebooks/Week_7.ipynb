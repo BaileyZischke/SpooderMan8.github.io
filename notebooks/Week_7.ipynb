{
  "nbformat": 4,
  "nbformat_minor": 0,
  "metadata": {
    "colab": {
      "provenance": []
    },
    "kernelspec": {
      "name": "ir",
      "display_name": "R"
    },
    "language_info": {
      "name": "R"
    }
  },
  "cells": [
    {
      "cell_type": "markdown",
      "source": [
        "# **Week 7: Parameter Estimation Methods**\n",
        "\n",
        "```\n",
        ".------------------------------------.\n",
        "|   __  ____  ______  _  ___ _____   |\n",
        "|  |  \\/  \\ \\/ / __ )/ |/ _ \\___  |  |\n",
        "|  | |\\/| |\\  /|  _ \\| | | | | / /   |\n",
        "|  | |  | |/  \\| |_) | | |_| |/ /    |\n",
        "|  |_|  |_/_/\\_\\____/|_|\\___//_/     |\n",
        "'------------------------------------'\n",
        "\n",
        "```\n",
        "\n",
        "Through various exercises, the first part of this workshop will review two common point estimation methods: the method of moments and maximum likelihood estimation. In the second part, we will focus on interval estimation using the asymptotic distribution of sample means."
      ],
      "metadata": {
        "id": "ZtpJJ8BSHOaK"
      }
    },
    {
      "cell_type": "markdown",
      "source": [
        "## **Pre-Configurating the Notebook**"
      ],
      "metadata": {
        "id": "SVtkEkRDY5Ex"
      }
    },
    {
      "cell_type": "markdown",
      "source": [
        "### **Switching to the R Kernel on Colab**\n",
        "\n",
        "By default, Google Colab uses Python as its programming language. To use R instead, you’ll need to manually switch the kernel by going to **Runtime > Change runtime type**, and selecting R as the kernel. This allows you to run R code in the Colab environment.\n",
        "\n",
        "However, our notebook is already configured to use R by default. Unless something goes wrong, you shouldn’t need to manually change runtime type."
      ],
      "metadata": {
        "id": "0vfwHxobY6_q"
      }
    },
    {
      "cell_type": "markdown",
      "source": [
        "### **Importing Required Packages**\n",
        "**Run the following lines of code**:"
      ],
      "metadata": {
        "id": "36rWeG2RY7fJ"
      }
    },
    {
      "cell_type": "code",
      "source": [
        "#Do not modify\n",
        "\n",
        "setwd(\"/content\")\n",
        "\n",
        "# Remove `MXB107-Notebooks` if exists,\n",
        "if (dir.exists(\"MXB107-Notebooks\")) {\n",
        "  system(\"rm -rf MXB107-Notebooks\")\n",
        "}\n",
        "\n",
        "# Fork the repository\n",
        "system(\"git clone https://github.com/edelweiss611428/MXB107-Notebooks.git\")\n",
        "\n",
        "# Change working directory to \"MXB107-Notebooks\"\n",
        "setwd(\"MXB107-Notebooks\")\n",
        "\n",
        "#\n",
        "invisible(source(\"R/preConfigurated.R\"))"
      ],
      "metadata": {
        "id": "t_2d_ItyY9yz",
        "outputId": "51abaf1e-7c26-4fe1-8534-ae1bc07873d1",
        "colab": {
          "base_uri": "https://localhost:8080/"
        }
      },
      "execution_count": 2,
      "outputs": [
        {
          "output_type": "stream",
          "name": "stderr",
          "text": [
            "Loading required package: ggplot2\n",
            "\n",
            "Loading required package: dplyr\n",
            "\n",
            "\n",
            "Attaching package: ‘dplyr’\n",
            "\n",
            "\n",
            "The following objects are masked from ‘package:stats’:\n",
            "\n",
            "    filter, lag\n",
            "\n",
            "\n",
            "The following objects are masked from ‘package:base’:\n",
            "\n",
            "    intersect, setdiff, setequal, union\n",
            "\n",
            "\n",
            "Loading required package: tidyr\n",
            "\n",
            "Loading required package: stringr\n",
            "\n",
            "Loading required package: magrittr\n",
            "\n",
            "\n",
            "Attaching package: ‘magrittr’\n",
            "\n",
            "\n",
            "The following object is masked from ‘package:tidyr’:\n",
            "\n",
            "    extract\n",
            "\n",
            "\n",
            "Loading required package: IRdisplay\n",
            "\n",
            "Loading required package: png\n",
            "\n",
            "Warning message in library(package, lib.loc = lib.loc, character.only = TRUE, logical.return = TRUE, :\n",
            "“there is no package called ‘png’”\n",
            "Installing package into ‘/usr/local/lib/R/site-library’\n",
            "(as ‘lib’ is unspecified)\n",
            "\n",
            "Loading required package: grid\n",
            "\n",
            "Loading required package: knitr\n",
            "\n"
          ]
        }
      ]
    },
    {
      "cell_type": "markdown",
      "source": [
        "**Do not modify the following**"
      ],
      "metadata": {
        "id": "q-ITFB1qY_ZJ"
      }
    },
    {
      "cell_type": "code",
      "source": [
        "if (!require(\"testthat\")) install.packages(\"testthat\"); library(\"testthat\")\n",
        "\n",
        "test_that(\"Test if all packages have been loaded\", {\n",
        "\n",
        "  expect_true(all(c(\"ggplot2\", \"tidyr\", \"dplyr\", \"stringr\", \"magrittr\", \"knitr\") %in% loadedNamespaces()))\n",
        "\n",
        "})"
      ],
      "metadata": {
        "id": "Hgh75IDpZCf2",
        "outputId": "f550882c-d2f8-4bfb-81a1-9ea18ae5b705",
        "colab": {
          "base_uri": "https://localhost:8080/"
        }
      },
      "execution_count": 3,
      "outputs": [
        {
          "output_type": "stream",
          "name": "stderr",
          "text": [
            "Loading required package: testthat\n",
            "\n",
            "\n",
            "Attaching package: ‘testthat’\n",
            "\n",
            "\n",
            "The following objects are masked from ‘package:magrittr’:\n",
            "\n",
            "    equals, is_less_than, not\n",
            "\n",
            "\n",
            "The following object is masked from ‘package:tidyr’:\n",
            "\n",
            "    matches\n",
            "\n",
            "\n",
            "The following object is masked from ‘package:dplyr’:\n",
            "\n",
            "    matches\n",
            "\n",
            "\n"
          ]
        },
        {
          "output_type": "stream",
          "name": "stdout",
          "text": [
            "\u001b[32mTest passed\u001b[39m 🥇\n"
          ]
        }
      ]
    },
    {
      "cell_type": "markdown",
      "source": [
        "## **Point Estimation**\n",
        "\n",
        "We have studied point estimation before, where our goal was to estimate population parameters such as the mean ($\\mu$) and variance ($\\sigma^2$). In those cases, we used the **sample mean** ($\\bar{x}$)  and **sample variance** ($s^2$) as our estimators. Each of these provides a single number from the data that serves as our “best guess” for the true population parameter.\n",
        "\n",
        "- If the population mean is $\\mu$, then the sample mean $\\bar{x}$ is our point estimate.\n",
        "- If the population variance is $\\sigma^2$, then the sample variance $s^2$ is our point estimate.\n",
        "\n",
        "These estimators also have desirable properties: they are unbiased — ***on average***, they hit the true parameter; and they become increasingly \"accurate\" as the sample size grows.\n",
        "\n",
        "\n"
      ],
      "metadata": {
        "id": "DM1B0p44cnem"
      }
    },
    {
      "cell_type": "markdown",
      "source": [
        "More generally, we consider the situation where the sample data $\\{x_1, \\dots, x_n\\}$ are generated according to a **statistical model** with probability distribution  \n",
        "\n",
        "$$\n",
        "f(\\{x_1, \\dots, x_n\\} \\mid \\theta),\n",
        "$$\n",
        "\n",
        "where $\\theta$ represents one or more unknown parameters of interest. Given the observed data, our goal is to construct an estimator $\\hat{\\theta}$ that provides a single “best guess” for the true value of $\\theta$.  \n",
        "\n",
        "Often, we assume that the data $\\{x_1, \\dots, x_n\\}$ are realisations of i.i.d. random variables with probability function $p(x \\mid \\theta)$. In that case, the joint probability can be written as  \n",
        "\n",
        "$$\n",
        "f(\\{x_1, \\dots, x_n\\} \\mid \\theta) = \\prod_{i=1}^{n} p(x_i \\mid \\theta).\n",
        "$$  \n",
        "\n",
        "Note that, **pre-sample** (i.e. before observing any data), like sample mean and sample variance, $\\hat{\\theta}$ is also a random variable as it is a function of random variables (sample data). The point estimate computed after observing the sample data is a realisation of this random variable. Although we have explored the sampling distribution of sample staistics such as the sample mean, details about the sampling distribution of $\\hat{\\theta}$ generally are beyond the scope of this unit.\n"
      ],
      "metadata": {
        "id": "N81cpLdOYX9t"
      }
    },
    {
      "cell_type": "markdown",
      "source": [
        "In this section, we will introduce two fundamental methods for constructing such estimators: the **method of moments (MoM)** and **maximum likelihood estimation (MLE)**. Both methods start from the same observed data but approach the estimation problem in different ways. Our main focus will be on understanding how these methods are formulated and applied in practice.\n",
        "\n",
        "**Note:** All estimation techniques we learn in this unit assume that the data are generated from a particular statistical model. In practice, this assumption might not strictly hold. Often, we have several competing models, and we need to estimate parameters for each model before selecting the best one. Learning to estimate model paramaeters is therefore an essential first step in a broader modelling workflow."
      ],
      "metadata": {
        "id": "SlJkgZvNGW25"
      }
    },
    {
      "cell_type": "markdown",
      "source": [
        "### **Method of Moments**\n",
        "\n",
        "The method of moments is a simple way to construct estimators by equating sample moments with theoretical moments. Suppose our model has an unknown parameter $\\theta$, and let $m_k(\\theta)$ denote the $k$-th population moment:\n",
        "\n",
        "$$\n",
        "m_k(\\theta) = \\mathbb{E}[X^k].\n",
        "$$\n",
        "\n",
        "From a sample $x_1, \\dots, x_n$, we can compute the corresponding sample moments:\n",
        "\n",
        "$$\n",
        "\\hat{m}_k = \\frac{1}{n} \\sum_{i=1}^{n} x_i^k.\n",
        "$$\n",
        "\n",
        "The idea of MoM is to solve the system of equations\n",
        "\n",
        "$$\n",
        "\\hat{m}_k = m_k(\\theta), \\quad k = 1, 2, \\dots\n",
        "$$\n",
        "\n",
        "for the unknown parameter(s) $\\theta$. The solution gives the method of moments estimator $\\hat{\\theta}_{\\text{MoM}}$.  In general, for a model with $k$ parameters, we need to solve $k$ equations.\n",
        "\n",
        "MoM is intuitive and easy to compute. However, it may produce nonsensical values (e.g., negative estimates for parameters that must be positive) if the sample moments deviate strongly from theoretical constraints."
      ],
      "metadata": {
        "id": "J0ptx2-jpo9-"
      }
    },
    {
      "cell_type": "markdown",
      "source": [
        "\n",
        "### **Maximum Likelihood Estimation**\n",
        "\n",
        "Maximum likelihood estimation takes a different approach. Suppose the sample $x_1, \\dots, x_n$ are realisations from i.i.d. random variables with probability function $p(x \\mid \\theta)$. The **likelihood function** is\n",
        "\n",
        "$$\n",
        "L(\\theta) = \\prod_{i=1}^{n} p(x_i \\mid \\theta),\n",
        "$$\n",
        "\n",
        "which we can also write in log form as\n",
        "\n",
        "$$\n",
        "\\ell(\\theta) = \\log L(\\theta) = \\sum_{i=1}^{n} \\log p(x_i \\mid \\theta).\n",
        "$$\n",
        "\n",
        "\n",
        "Note that the likelihood function is a function of the model parameter $\\theta$, while the sample data $\\{x_1, \\dots, x_n\\}$ are fixed. It represents how plausible the observed data are for each possible value of $\\theta$.\n",
        "\n",
        "\n",
        "The maximum likelihood estimator $\\hat{\\theta}_{\\text{MLE}}$ is defined as the value of $\\theta$ that maximises the likelihood function:\n",
        "\n",
        "$$\n",
        "\\hat{\\theta}_{\\text{MLE}} = \\arg \\max_{\\theta} L(\\theta) = \\arg \\max_{\\theta} \\ell(\\theta).\n",
        "$$\n",
        "\n"
      ],
      "metadata": {
        "id": "6jQN-qgyrzXL"
      }
    },
    {
      "cell_type": "markdown",
      "source": [
        "\n",
        "In practice, we often optimise the log-likelihood function instead of the likelihood function, even though they are equivalent. This is because the log-likelihood is a sum rather than a product, making its derivatives easier to compute.\n",
        "\n",
        "MLE has many desirable properties in large samples (beyond the scope of this unit). In many scenarios, MLE and MoM result in the same estimator. However, unlike MoM, it always respects the constraints of the parameter space as we optimise for $\\theta$ over its parameter space. The main drawback is that computing $\\hat{\\theta}_{\\text{MLE}}$ can sometimes require solving nonlinear equations or numerical optimisation. Here, however, we will primarily focus on models for which the maximum likelihood estimator, $\\hat{\\theta}_{\\text{MLE}}$, can be derived analytically."
      ],
      "metadata": {
        "id": "DlwlZxXhGyEA"
      }
    },
    {
      "cell_type": "markdown",
      "source": [
        "### **\"All models are wrong, but some are more useful\"**\n",
        "\n",
        "- **True model class:** The actual distribution generating the data (usually unknown, could be complex).  \n",
        "- **Approximation model class:** The set of models you choose to fit (e.g., Gaussian, linear regression).  \n",
        "- **Estimation:** Finds the best-fitting model **within the approximation class** according to some criteria (e.g., MoM, MLE, ⋯), but if the class does not contain the true model, there is still some error (model mis-specification), which could be large or small.\n"
      ],
      "metadata": {
        "id": "I1eSA3qLNZlA"
      }
    },
    {
      "cell_type": "markdown",
      "source": [
        "### **Exercise**\n",
        "\n",
        "A factory produces light bulbs. Each bulb has a probability $p$ of being defective. A quality inspector takes a sample of 10 bulbs at random from the production line, and records the number of defective bulbs. The number of defective bulbs in $m=10$ such independent samples (each sample consisting of $n = 10$ bulbs) is recorded as follows:\n",
        "\n",
        "$$\n",
        "\\{2, 1, 0, 3, 1, 2, 1, 0, 2, 1\\}\n",
        "$$\n",
        "\n",
        "Assume that the number of defective bulbs in each sample follows `Binomial(n,p)`.  \n",
        "\n",
        "- Use the MoM and MLE to estimate the probability $p$ of a defective bulb.\n",
        "- Comment on the results"
      ],
      "metadata": {
        "id": "WmM8CSFA3ZpJ"
      }
    },
    {
      "cell_type": "code",
      "source": [
        "smpl_data = c(2,1,0,3,1,2,1,0,2,1)"
      ],
      "metadata": {
        "id": "hzu8zcE54my-"
      },
      "execution_count": 1,
      "outputs": []
    },
    {
      "cell_type": "markdown",
      "source": [
        "\n",
        "\n",
        "<details>\n",
        "<summary>▶️ Click to show the MoM solution</summary>\n",
        "\n",
        "**Method of Moments**.\n",
        "  \n",
        "For $X \\sim \\text{Binomial}(n=10, p)$, the first theoretical moment is :\n",
        "\n",
        "$$\n",
        "\\begin{align}\n",
        "m_1 = \\mathbb{E}[X] = np.\n",
        "\\end{align}\n",
        "$$\n",
        "\n",
        "From the sample $x_1, \\dots, x_{m}$, we compute the corresponding sample moment:\n",
        "\n",
        "$$\n",
        "\\begin{align}\n",
        "\\hat{m}_1 &= \\frac{\\sum_{i=1}^m x_i}{m}.\n",
        "\\end{align}\n",
        "$$\n",
        "\n",
        "Equating the first theoretical and sample moments gives us:\n",
        "\n",
        "$$\\hat{p} = \\frac{\\hat{m}_1}{n} = 0.13.$$\n",
        "\n",
        "\n",
        "```r\n",
        "smpl_data = c(2,1,0,3,1,2,1,0,2,1)\n",
        "mean(smpl_data)/10\n",
        "```\n",
        "\n",
        "</details>\n",
        "\n",
        "\n"
      ],
      "metadata": {
        "id": "1AqGoHq87LFr"
      }
    },
    {
      "cell_type": "markdown",
      "source": [
        "\n",
        "\n",
        "<details>\n",
        "<summary>▶️ Click to show the MLE solution</summary>\n",
        "**Maximum Likelihood Estimation**\n",
        "$$\n",
        "\\begin{align}\n",
        "L(p) &= \\prod_{i=1}^{m} \\binom{n}{x_i} p^{x_i}(1-p)^{n-x_i} \\\\\n",
        "&= \\prod_{i=1}^{m} \\binom{n}{x_i} \\prod_{i=1}^{m} p^{x_i}\\prod_{i=1}^{m} (1-p)^{n-x_i} \\\\\n",
        "&= \\binom{n}{x_i}^m p^{\\sum_{i=1}^{m}  x_i}(1-p)^{\\sum_{i=1}^{m} (n-x_i)} \\\\\n",
        "\\implies \\ell(p) &= m\\log\\binom{n}{x_i} + \\sum_{i=1}^m x_i\\log p + \\Big(nm - \\sum_{i=1}^m x_i\\Big)\\log(1-p). \\\\\n",
        "\\implies \\frac{d\\ell}{dp} &= \\frac{\\sum_{i=1}^m x_i}{p} - \\frac{nm - \\sum_{i=1}^m x_i}{1-p}.\n",
        "\\end{align}\n",
        "$$\n",
        "Setting the first derivative to 0:\n",
        "$$\n",
        "\\begin{align}\n",
        "\\frac{d\\ell}{dp} &= \\frac{\\sum_{i=1}^m x_i}{p} - \\frac{nm - \\sum_{i=1}^m x_i}{1-p} = 0 \\\\[6pt]\n",
        "\\implies \\frac{\\sum_{i=1}^m x_i}{p} &= \\frac{nm - \\sum_{i=1}^m x_i}{1-p} \\\\[6pt]\n",
        "\\implies (1-p) \\sum_{i=1}^m x_i &= p\\big(nm -  \\sum_{i=1}^m x_i\\big) \\\\[6pt]\n",
        "\\implies \\sum_{i=1}^m x_i - p\\sum_{i=1}^m x_i &= pnm - p \\sum_{i=1}^m x_i \\\\[6pt]\n",
        "\\implies  \\sum_{i=1}^m x_i &= pnm \\\\[6pt]\n",
        "\\implies \\hat p &= \\frac{\\sum_{i=1}^m x_i}{nm}.\n",
        "\\end{align}\n",
        "$$\n",
        "\n",
        "\n",
        "$$\n",
        "\\sum_{i=1}^m x_i = 13 \\;\\;\\implies\\;\\; \\hat{p} = \\frac{13}{100} = 0.13.\n",
        "$$\n",
        "\n",
        "Technically, after finding the MLE by setting the first derivative to zero, we should check the second derivative at the estimated value to ensure it is negative, which confirms that the solution is indeed a maximum (not a minimum or a saddle point).\n",
        "\n",
        "$$\n",
        "\\begin{align}\n",
        "\\frac{d^2 \\ell}{dp^2} &= -\\frac{\\sum_{i=1}^m x_i}{p^2} - \\frac{nm - \\sum_{i=1}^m x_i}{(1-p)^2}.\n",
        "\\end{align}\n",
        "$$\n",
        "\n",
        "Evaluated at $\\hat{p}$:\n",
        "$$\n",
        "\\left.\\frac{d^2\\ell}{dp^2}\\right|_{\\hat{p}} = -\\frac{\\sum_{i=1}^m x_i}{\\hat{p}^2} - \\frac{nm - \\sum_{i=1}^m x_i}{(1-\\hat{p})^2} \\approx -884.173 < 0,\n",
        "$$\n",
        "which confirms a maximum.\n",
        "\n",
        "```r\n",
        "smpl_data = c(2,1,0,3,1,2,1,0,2,1)\n",
        "n = 10  \n",
        "m = length(smpl_data)\n",
        "\n",
        "# MLE estimate of p\n",
        "p_hat <- sum(smpl_data) / (n * m)\n",
        "p_hat\n",
        "\n",
        "# Second derivative of log-likelihood at MLE\n",
        "second_derivative = -sum(smpl_data)/p_hat^2 - (n*m - sum(smpl_data))/(1 - p_hat)^2\n",
        "second_derivative #-884.173 < 0\n",
        "```\n",
        "\n",
        "</details>\n",
        "\n",
        "\n"
      ],
      "metadata": {
        "id": "TW8nli1grQdk"
      }
    },
    {
      "cell_type": "markdown",
      "source": [
        "## **Interval Estimation**"
      ],
      "metadata": {
        "id": "uRHV_m3s9X4R"
      }
    },
    {
      "cell_type": "markdown",
      "source": [
        "\n",
        "In many scenarios, we are interested in creating an interval that hopefully captures the parameter’s true value instead of obtaining a single point estimate:\n",
        "\n",
        "$$\\Big[T_1\\big(\\{x_1,...,x_n\\}\\big), T_2\\big(\\{x_1,...,x_n\\}\\big)\\Big].$$\n",
        "\n",
        "A common rule option $1−\\alpha$ confidence interval, which aims to find functions $T_1$ and $T_2$ such that:\n",
        "\n",
        "$$\\Pr\\Big(T_1\\big(\\{x_1,...,x_n\\}\\big) \\leq \\theta \\leq T_2\\big(\\{x_1,...,x_n\\}\\big)\\Big) = 1 - \\alpha.$$\n",
        "\n",
        "Conventionally, $\\alpha = 0.05$ (95% confidence interval). Other common options include $\\alpha = 0.01$ and $\\alpha = 0.1$.\n",
        "\n",
        "\n",
        "Note that, **pre-sample**, the upper and lower bounds of a confidence interval are random variables. This is why the previous equation is mathematically valid. The upper and lower bound estimates computed after observing the sample data are realisations of these random variables.\n",
        "\n",
        "Here, we mostly focus on confidence intervals for population mean and difference between two population means using asymptotic sampling distribution of the sample mean. Small-sample confidence interval (i.e., not relying on asymptotic properties) will be covered in the next workshops. Confidence intervals for more general estimators (like MLE) are beyond the scope of the unit."
      ],
      "metadata": {
        "id": "o41nwYQc9anw"
      }
    },
    {
      "cell_type": "markdown",
      "source": [
        "### **Asymptotic Confidence Interval for Population Mean**\n",
        "\n",
        "Recall that, for i.i.d. sample of size $n$ drawn from any probability distribution with mean $\\mu$ and variance $\\sigma^2$, if $n$ is large enough,\n",
        "$$\n",
        "\\begin{align}\n",
        "&\\quad\\quad\\;\\,\\,\\displaystyle \\bar{x} \\approx \\mathcal{N}\\Big(\\mu, \\frac{\\sigma^2}{n}\\Big);\\\\\n",
        "&\\implies  \\frac{\\bar{x} - \\mu}{\\sigma/\\sqrt{n}} \\approx \\mathcal{N}(0,1); \\\\\n",
        "&\\implies \\Pr\\Big(z_{\\alpha/2} \\leq \\frac{\\bar{x} - \\mu}{\\sigma/\\sqrt{n}} \\leq z_{1-\\alpha/2}\\Big) \\approx 1 - \\alpha;\\\\\n",
        "&\\implies \\Pr\\Big(\\bar{x} + z_{\\alpha/2}\\frac{\\sigma}{\\sqrt{n}} \\leq \\mu \\leq \\bar{x} + z_{1-\\alpha/2}\\frac{\\sigma}{\\sqrt{n}}\\Big) \\approx 1 - \\alpha\\\\\n",
        "&\\implies \\Pr\\Big(\\bar{x} - z_{1-\\alpha/2}\\frac{\\sigma}{\\sqrt{n}} \\leq \\mu \\leq \\bar{x} + z_{1-\\alpha/2}\\frac{\\sigma}{\\sqrt{n}}\\Big) \\approx 1 - \\alpha.\n",
        "\\end{align}\n",
        "$$  \n",
        "\n",
        "Here, $z_{\\alpha/2}$ and $z_{1-\\alpha/2}$ are $\\alpha/2$ and $1-\\alpha/2$ quantiles of the standard Gaussian distribution $\\mathcal{N}(0,1)$. As the standard Gaussian PDF is symmetric around 0, $z_{\\alpha/2} = -z_{1-\\alpha/2}$.\n",
        "\n",
        "\n",
        "\n"
      ],
      "metadata": {
        "id": "XvvKrqv0L_jj"
      }
    },
    {
      "cell_type": "markdown",
      "source": [
        "\n",
        "**Note that our notation is a bit different from the notation used in pre-lecture reading**. Here, $z_{1-\\alpha}$ is used to denote the $1-\\alpha$ quantile (lower-tail notation), while it is $z_{\\alpha}$ in the pre-lecture reading (upper-tail notation)."
      ],
      "metadata": {
        "id": "WGGaTHfCa8FS"
      }
    },
    {
      "cell_type": "code",
      "source": [
        "qnorm(0.025)\n",
        "qnorm(1 - 0.025)\n",
        "img = readPNG(\"figures/z_95int.png\")\n",
        "grid.newpage()\n",
        "vp = viewport()\n",
        "pushViewport(vp)\n",
        "grid.raster(img)\n",
        "popViewport()"
      ],
      "metadata": {
        "id": "Z2Af8mffSNTo",
        "outputId": "f3704e5c-70e5-4f21-9b45-b14d58caf41f",
        "colab": {
          "base_uri": "https://localhost:8080/",
          "height": 472
        }
      },
      "execution_count": 16,
      "outputs": [
        {
          "output_type": "display_data",
          "data": {
            "text/html": [
              "-1.95996398454005"
            ],
            "text/markdown": "-1.95996398454005",
            "text/latex": "-1.95996398454005",
            "text/plain": [
              "[1] -1.959964"
            ]
          },
          "metadata": {}
        },
        {
          "output_type": "display_data",
          "data": {
            "text/html": [
              "1.95996398454005"
            ],
            "text/markdown": "1.95996398454005",
            "text/latex": "1.95996398454005",
            "text/plain": [
              "[1] 1.959964"
            ]
          },
          "metadata": {}
        },
        {
          "output_type": "display_data",
          "data": {
            "text/plain": [
              "plot without title"
            ],
            "image/png": "[encoded data removed]"
          },
          "metadata": {
            "image/png": {
              "width": 420,
              "height": 420
            }
          }
        }
      ]
    },
    {
      "cell_type": "markdown",
      "source": [
        "An asymptotically valid confidence interval for population mean can be obtained by choosing:\n",
        "\n",
        "$$\n",
        "\\begin{align}\n",
        "T_1\\big(\\{x_1,...,x_n\\}\\big) &= \\bar{x} - z_{1-\\alpha/2}\\frac{\\sigma}{\\sqrt{n}};\\\\\n",
        "T_2\\big(\\{x_1,...,x_n\\}\\big) &= \\bar{x} + z_{1-\\alpha/2}\\frac{\\sigma}{\\sqrt{n}}.\n",
        "\\end{align}\n",
        "$$\n",
        "\n",
        "Confidence intervals constructed following this rule are symmetric around sample means.\n",
        "\n",
        "A $95\\%$ symmetric confidence interval can be constructed by choosing:\n",
        "\n",
        "$$\n",
        "\\begin{align}\n",
        "T_1\\big(\\{x_1,...,x_n\\}\\big) &= \\bar{x} - z_{0.975}\\frac{\\sigma}{\\sqrt{n}};\\\\\n",
        "T_2\\big(\\{x_1,...,x_n\\}\\big) &= \\bar{x} + z_{0.975}\\frac{\\sigma}{\\sqrt{n}}.\n",
        "\\end{align}\n",
        "$$\n",
        "\n",
        "Of course, one can construct an annoying asymmetrical confidence interval like this:\n",
        "\n",
        "$$\n",
        "\\begin{align}\n",
        "T_1\\big(\\{x_1,...,x_n\\}\\big) &= \\bar{x} + z_{0.01}\\frac{\\sigma}{\\sqrt{n}};\\\\\n",
        "T_2\\big(\\{x_1,...,x_n\\}\\big) &= \\bar{x} + z_{0.96}\\frac{\\sigma}{\\sqrt{n}};\n",
        "\\end{align}\n",
        "$$\n",
        "\n",
        "Or an annoying $61\\%$ symmetric confidence interval (we might be the first ones to use a $61\\%$ confidence interval):\n",
        "\n",
        "$$\n",
        "\\begin{align}\n",
        "T_1\\big(\\{x_1,...,x_n\\}\\big) &= \\bar{x} + z_{0.195}\\frac{\\sigma}{\\sqrt{n}};\\\\\n",
        "T_2\\big(\\{x_1,...,x_n\\}\\big) &= \\bar{x} + z_{0.805}\\frac{\\sigma}{\\sqrt{n}}\n",
        "\\end{align}\n",
        "$$\n",
        "\n",
        "If data are generated from i.i.d. Gaussians, these $1-\\alpha$ confidence intervals are **ALWAYS** valid regardless of the sample size (since the sample mean will be exactly normally distributed in this case).\n",
        "\n",
        "\n",
        "\n",
        "In practice, the standard deviation $\\sigma$ (or equivalently, the variance $\\sigma^2$) is usually unknown. However, we can replace $\\sigma$ by the sample standard deviation estimate $s$. This is a plug-in estimator.\n",
        "\n",
        "> A plug-in estimator is obtained by taking a formula that involves an unknown parameter and plugging in an estimate of that parameter (usually computed from data).\n",
        "\n",
        "Here, for instance, we can replace the unknown $\\sigma$ with $s = \\sqrt{s^2}$ (the unbiased/usual sample variance).\n",
        "\n",
        "$$\n",
        "\\begin{align}\n",
        "T_1\\big(\\{x_1,...,x_n\\}\\big) &= \\bar{x} - z_{1-\\alpha/2}\\frac{s}{\\sqrt{n}};\\\\\n",
        "T_2\\big(\\{x_1,...,x_n\\}\\big) &= \\bar{x} + z_{1-\\alpha/2}\\frac{s}{\\sqrt{n}}.\n",
        "\\end{align}\n",
        "$$"
      ],
      "metadata": {
        "id": "Ube_8GClWRWY"
      }
    },
    {
      "cell_type": "markdown",
      "source": [
        "#### **Asymptotic Confidence Interval for Population Proportion**\n",
        "\n",
        "If $n$ is sufficiently large,\n",
        "\n",
        "$$\n",
        "\\displaystyle \\hat{p} \\approx \\mathcal{N}\\Big(p, \\frac{p(1-p)}{n}\\Big).\n",
        "$$  \n",
        "\n",
        "Therefore, we can obtain a similar asymptotic symmetric $(1-\\alpha)$ confidence interval for population proportion $p$ by choosing:\n",
        "\n",
        "$$\n",
        "\\begin{align}\n",
        "T_1\\big(\\{x_1,...,x_n\\}\\big) &= \\hat{p} - z_{1-\\alpha/2}\\sqrt{\\frac{p(1-p)}{n}};\\\\\n",
        "T_2\\big(\\{x_1,...,x_n\\}\\big) &= \\hat{p} + z_{1-\\alpha/2}\\sqrt{\\frac{p(1-p)}{n}}.\n",
        "\\end{align}\n",
        "$$\n",
        "\n",
        "\n",
        "\n"
      ],
      "metadata": {
        "id": "Z1AfZCBNAPuu"
      }
    },
    {
      "cell_type": "markdown",
      "source": [
        "In practice, $p$ is unknown. However, we can replace $p$ with its estimator $\\hat{p}$:\n",
        "\n",
        "$$\n",
        "\\begin{align}\n",
        "T_1\\big(\\{x_1,...,x_n\\}\\big) &= \\hat{p} - z_{1-\\alpha/2}\\sqrt{\\frac{\\hat{p}(1-\\hat{p})}{n}};\\\\\n",
        "T_2\\big(\\{x_1,...,x_n\\}\\big) &= \\hat{p} + z_{1-\\alpha/2}\\sqrt{\\frac{\\hat{p}(1-\\hat{p})}{n}}.\n",
        "\\end{align}\n",
        "$$"
      ],
      "metadata": {
        "id": "P3d3jwBACGpG"
      }
    },
    {
      "cell_type": "markdown",
      "source": [
        "#### **Finding Quantiles**\n",
        "\n",
        "You can find quantiles of the standard Gaussian distribution in a $Z$ statistical table."
      ],
      "metadata": {
        "id": "2NPiduMMaOkN"
      }
    },
    {
      "cell_type": "code",
      "source": [
        "generateZTable()"
      ],
      "metadata": {
        "id": "_6lAJGxtaS16",
        "outputId": "8f5ef3e0-f9ec-4160-8fac-a70f143fedfe",
        "colab": {
          "base_uri": "https://localhost:8080/",
          "height": 1000
        }
      },
      "execution_count": 17,
      "outputs": [
        {
          "output_type": "display_data",
          "data": {
            "text/plain": [
              "\n",
              "\n",
              "|     |   0.00|   0.01|   0.02|   0.03|   0.04|   0.05|   0.06|   0.07|   0.08|   0.09|\n",
              "|:----|------:|------:|------:|------:|------:|------:|------:|------:|------:|------:|\n",
              "|-3.4 | 0.0003| 0.0003| 0.0004| 0.0004| 0.0004| 0.0004| 0.0004| 0.0004| 0.0005| 0.0005|\n",
              "|-3.3 | 0.0005| 0.0005| 0.0005| 0.0005| 0.0006| 0.0006| 0.0006| 0.0006| 0.0006| 0.0007|\n",
              "|-3.2 | 0.0007| 0.0007| 0.0007| 0.0008| 0.0008| 0.0008| 0.0008| 0.0009| 0.0009| 0.0009|\n",
              "|-3.1 | 0.0010| 0.0010| 0.0010| 0.0011| 0.0011| 0.0011| 0.0012| 0.0012| 0.0013| 0.0013|\n",
              "|-3.0 | 0.0013| 0.0014| 0.0014| 0.0015| 0.0015| 0.0016| 0.0016| 0.0017| 0.0018| 0.0018|\n",
              "|-2.9 | 0.0019| 0.0019| 0.0020| 0.0021| 0.0021| 0.0022| 0.0023| 0.0023| 0.0024| 0.0025|\n",
              "|-2.8 | 0.0026| 0.0026| 0.0027| 0.0028| 0.0029| 0.0030| 0.0031| 0.0032| 0.0033| 0.0034|\n",
              "|-2.7 | 0.0035| 0.0036| 0.0037| 0.0038| 0.0039| 0.0040| 0.0041| 0.0043| 0.0044| 0.0045|\n",
              "|-2.6 | 0.0047| 0.0048| 0.0049| 0.0051| 0.0052| 0.0054| 0.0055| 0.0057| 0.0059| 0.0060|\n",
              "|-2.5 | 0.0062| 0.0064| 0.0066| 0.0068| 0.0069| 0.0071| 0.0073| 0.0075| 0.0078| 0.0080|\n",
              "|-2.4 | 0.0082| 0.0084| 0.0087| 0.0089| 0.0091| 0.0094| 0.0096| 0.0099| 0.0102| 0.0104|\n",
              "|-2.3 | 0.0107| 0.0110| 0.0113| 0.0116| 0.0119| 0.0122| 0.0125| 0.0129| 0.0132| 0.0136|\n",
              "|-2.2 | 0.0139| 0.0143| 0.0146| 0.0150| 0.0154| 0.0158| 0.0162| 0.0166| 0.0170| 0.0174|\n",
              "|-2.1 | 0.0179| 0.0183| 0.0188| 0.0192| 0.0197| 0.0202| 0.0207| 0.0212| 0.0217| 0.0222|\n",
              "|-2.0 | 0.0228| 0.0233| 0.0239| 0.0244| 0.0250| 0.0256| 0.0262| 0.0268| 0.0274| 0.0281|\n",
              "|-1.9 | 0.0287| 0.0294| 0.0301| 0.0307| 0.0314| 0.0322| 0.0329| 0.0336| 0.0344| 0.0351|\n",
              "|-1.8 | 0.0359| 0.0367| 0.0375| 0.0384| 0.0392| 0.0401| 0.0409| 0.0418| 0.0427| 0.0436|\n",
              "|-1.7 | 0.0446| 0.0455| 0.0465| 0.0475| 0.0485| 0.0495| 0.0505| 0.0516| 0.0526| 0.0537|\n",
              "|-1.6 | 0.0548| 0.0559| 0.0571| 0.0582| 0.0594| 0.0606| 0.0618| 0.0630| 0.0643| 0.0655|\n",
              "|-1.5 | 0.0668| 0.0681| 0.0694| 0.0708| 0.0721| 0.0735| 0.0749| 0.0764| 0.0778| 0.0793|\n",
              "|-1.4 | 0.0808| 0.0823| 0.0838| 0.0853| 0.0869| 0.0885| 0.0901| 0.0918| 0.0934| 0.0951|\n",
              "|-1.3 | 0.0968| 0.0985| 0.1003| 0.1020| 0.1038| 0.1056| 0.1075| 0.1093| 0.1112| 0.1131|\n",
              "|-1.2 | 0.1151| 0.1170| 0.1190| 0.1210| 0.1230| 0.1251| 0.1271| 0.1292| 0.1314| 0.1335|\n",
              "|-1.1 | 0.1357| 0.1379| 0.1401| 0.1423| 0.1446| 0.1469| 0.1492| 0.1515| 0.1539| 0.1562|\n",
              "|-1.0 | 0.1587| 0.1611| 0.1635| 0.1660| 0.1685| 0.1711| 0.1736| 0.1762| 0.1788| 0.1814|\n",
              "|-0.9 | 0.1841| 0.1867| 0.1894| 0.1922| 0.1949| 0.1977| 0.2005| 0.2033| 0.2061| 0.2090|\n",
              "|-0.8 | 0.2119| 0.2148| 0.2177| 0.2206| 0.2236| 0.2266| 0.2296| 0.2327| 0.2358| 0.2389|\n",
              "|-0.7 | 0.2420| 0.2451| 0.2483| 0.2514| 0.2546| 0.2578| 0.2611| 0.2643| 0.2676| 0.2709|\n",
              "|-0.6 | 0.2743| 0.2776| 0.2810| 0.2843| 0.2877| 0.2912| 0.2946| 0.2981| 0.3015| 0.3050|\n",
              "|-0.5 | 0.3085| 0.3121| 0.3156| 0.3192| 0.3228| 0.3264| 0.3300| 0.3336| 0.3372| 0.3409|\n",
              "|-0.4 | 0.3446| 0.3483| 0.3520| 0.3557| 0.3594| 0.3632| 0.3669| 0.3707| 0.3745| 0.3783|\n",
              "|-0.3 | 0.3821| 0.3859| 0.3897| 0.3936| 0.3974| 0.4013| 0.4052| 0.4090| 0.4129| 0.4168|\n",
              "|-0.2 | 0.4207| 0.4247| 0.4286| 0.4325| 0.4364| 0.4404| 0.4443| 0.4483| 0.4522| 0.4562|\n",
              "|-0.1 | 0.4602| 0.4641| 0.4681| 0.4721| 0.4761| 0.4801| 0.4840| 0.4880| 0.4920| 0.4960|\n",
              "|0.0  | 0.5000| 0.5040| 0.5080| 0.5120| 0.5160| 0.5199| 0.5239| 0.5279| 0.5319| 0.5359|\n",
              "|0.1  | 0.5398| 0.5438| 0.5478| 0.5517| 0.5557| 0.5596| 0.5636| 0.5675| 0.5714| 0.5753|\n",
              "|0.2  | 0.5793| 0.5832| 0.5871| 0.5910| 0.5948| 0.5987| 0.6026| 0.6064| 0.6103| 0.6141|\n",
              "|0.3  | 0.6179| 0.6217| 0.6255| 0.6293| 0.6331| 0.6368| 0.6406| 0.6443| 0.6480| 0.6517|\n",
              "|0.4  | 0.6554| 0.6591| 0.6628| 0.6664| 0.6700| 0.6736| 0.6772| 0.6808| 0.6844| 0.6879|\n",
              "|0.5  | 0.6915| 0.6950| 0.6985| 0.7019| 0.7054| 0.7088| 0.7123| 0.7157| 0.7190| 0.7224|\n",
              "|0.6  | 0.7257| 0.7291| 0.7324| 0.7357| 0.7389| 0.7422| 0.7454| 0.7486| 0.7517| 0.7549|\n",
              "|0.7  | 0.7580| 0.7611| 0.7642| 0.7673| 0.7704| 0.7734| 0.7764| 0.7794| 0.7823| 0.7852|\n",
              "|0.8  | 0.7881| 0.7910| 0.7939| 0.7967| 0.7995| 0.8023| 0.8051| 0.8078| 0.8106| 0.8133|\n",
              "|0.9  | 0.8159| 0.8186| 0.8212| 0.8238| 0.8264| 0.8289| 0.8315| 0.8340| 0.8365| 0.8389|\n",
              "|1.0  | 0.8413| 0.8438| 0.8461| 0.8485| 0.8508| 0.8531| 0.8554| 0.8577| 0.8599| 0.8621|\n",
              "|1.1  | 0.8643| 0.8665| 0.8686| 0.8708| 0.8729| 0.8749| 0.8770| 0.8790| 0.8810| 0.8830|\n",
              "|1.2  | 0.8849| 0.8869| 0.8888| 0.8907| 0.8925| 0.8944| 0.8962| 0.8980| 0.8997| 0.9015|\n",
              "|1.3  | 0.9032| 0.9049| 0.9066| 0.9082| 0.9099| 0.9115| 0.9131| 0.9147| 0.9162| 0.9177|\n",
              "|1.4  | 0.9192| 0.9207| 0.9222| 0.9236| 0.9251| 0.9265| 0.9279| 0.9292| 0.9306| 0.9319|\n",
              "|1.5  | 0.9332| 0.9345| 0.9357| 0.9370| 0.9382| 0.9394| 0.9406| 0.9418| 0.9429| 0.9441|\n",
              "|1.6  | 0.9452| 0.9463| 0.9474| 0.9484| 0.9495| 0.9505| 0.9515| 0.9525| 0.9535| 0.9545|\n",
              "|1.7  | 0.9554| 0.9564| 0.9573| 0.9582| 0.9591| 0.9599| 0.9608| 0.9616| 0.9625| 0.9633|\n",
              "|1.8  | 0.9641| 0.9649| 0.9656| 0.9664| 0.9671| 0.9678| 0.9686| 0.9693| 0.9699| 0.9706|\n",
              "|1.9  | 0.9713| 0.9719| 0.9726| 0.9732| 0.9738| 0.9744| 0.9750| 0.9756| 0.9761| 0.9767|\n",
              "|2.0  | 0.9772| 0.9778| 0.9783| 0.9788| 0.9793| 0.9798| 0.9803| 0.9808| 0.9812| 0.9817|\n",
              "|2.1  | 0.9821| 0.9826| 0.9830| 0.9834| 0.9838| 0.9842| 0.9846| 0.9850| 0.9854| 0.9857|\n",
              "|2.2  | 0.9861| 0.9864| 0.9868| 0.9871| 0.9875| 0.9878| 0.9881| 0.9884| 0.9887| 0.9890|\n",
              "|2.3  | 0.9893| 0.9896| 0.9898| 0.9901| 0.9904| 0.9906| 0.9909| 0.9911| 0.9913| 0.9916|\n",
              "|2.4  | 0.9918| 0.9920| 0.9922| 0.9925| 0.9927| 0.9929| 0.9931| 0.9932| 0.9934| 0.9936|\n",
              "|2.5  | 0.9938| 0.9940| 0.9941| 0.9943| 0.9945| 0.9946| 0.9948| 0.9949| 0.9951| 0.9952|\n",
              "|2.6  | 0.9953| 0.9955| 0.9956| 0.9957| 0.9959| 0.9960| 0.9961| 0.9962| 0.9963| 0.9964|\n",
              "|2.7  | 0.9965| 0.9966| 0.9967| 0.9968| 0.9969| 0.9970| 0.9971| 0.9972| 0.9973| 0.9974|\n",
              "|2.8  | 0.9974| 0.9975| 0.9976| 0.9977| 0.9977| 0.9978| 0.9979| 0.9979| 0.9980| 0.9981|\n",
              "|2.9  | 0.9981| 0.9982| 0.9982| 0.9983| 0.9984| 0.9984| 0.9985| 0.9985| 0.9986| 0.9986|\n",
              "|3.0  | 0.9987| 0.9987| 0.9987| 0.9988| 0.9988| 0.9989| 0.9989| 0.9989| 0.9990| 0.9990|\n",
              "|3.1  | 0.9990| 0.9991| 0.9991| 0.9991| 0.9992| 0.9992| 0.9992| 0.9992| 0.9993| 0.9993|\n",
              "|3.2  | 0.9993| 0.9993| 0.9994| 0.9994| 0.9994| 0.9994| 0.9994| 0.9995| 0.9995| 0.9995|\n",
              "|3.3  | 0.9995| 0.9995| 0.9995| 0.9996| 0.9996| 0.9996| 0.9996| 0.9996| 0.9996| 0.9997|\n",
              "|3.4  | 0.9997| 0.9997| 0.9997| 0.9997| 0.9997| 0.9997| 0.9997| 0.9997| 0.9997| 0.9998|"
            ]
          },
          "metadata": {}
        }
      ]
    },
    {
      "cell_type": "markdown",
      "source": [
        "#### **Examples**\n",
        "\n"
      ],
      "metadata": {
        "id": "ndOGR1X9TLzq"
      }
    },
    {
      "cell_type": "markdown",
      "source": [
        "##### **Example 1**\n",
        "\n",
        "The following sample are generated from i.i.d. random variables with unknown mean $\\mu$ and variance $\\sigma^2 = 1$.\n",
        "\n",
        "$$\\{0.13, 0.68, 0.26, 0.97, 1.2, 0.74, 0.42, 0.2, 2.13, 0.06, 1.18, 0.25, 3.12, 4.16, 2.05, 0.21, 2.14,2,0.85,0.07,0.04,0.77,0.3,0.53,0.3,0.82,0.53,0.08,0.22,0.14,0.17,0.81,0.29,0.57,0.08,0.2,1.94,3.34,2.09,0.95,0.44\\}$$\n",
        "\n",
        "Compute a $90\\%$ symmetric confidence interval estimate for $\\mu$ using the asymptotic distribution of $\\bar{x}$ using\n",
        "- The true variance\n",
        "- The estimated variance\n",
        "\n",
        "Comment on the results."
      ],
      "metadata": {
        "id": "XL3qVbDcVUxw"
      }
    },
    {
      "cell_type": "code",
      "source": [
        "smpl_data = c(0.13, 0.68, 0.26, 0.97, 1.2, 0.74, 0.42, 0.2, 2.13, 0.06, 1.18, 0.25, 3.12, 4.16, 2.05, 0.21, 2.14,2,0.85,0.07,0.04,0.77,0.3,0.53,0.3,0.82,0.53,0.08,0.22,0.14,0.17,0.81,0.29,0.57,0.08,0.2,1.94,3.34,2.09,0.95,0.44)\n",
        "\n",
        "x_bar = mean(smpl_data)\n",
        "print(\"x_bar\")\n",
        "x_bar\n",
        "\n",
        "z_95 = qnorm(0.95)\n",
        "print(\"z_95\")\n",
        "z_95\n",
        "\n",
        "sigma = 1\n",
        "\n",
        "s = sd(smpl_data)\n",
        "print(\"s\")\n",
        "s\n",
        "\n",
        "print(\"n\")\n",
        "n = length(smpl_data)\n",
        "n\n",
        "\n",
        "#Known sigma\n",
        "print(\"Known sigma\")\n",
        "lower = x_bar - z_95*sigma/sqrt(n)\n",
        "upper = x_bar + z_95*sigma/sqrt(n)\n",
        "lower; upper\n",
        "\n",
        "#Plug-in\n",
        "print(\"Plug-in\")\n",
        "lower = x_bar - z_95*s/sqrt(n)\n",
        "upper = x_bar + z_95*s/sqrt(n)\n",
        "lower; upper\n"
      ],
      "metadata": {
        "id": "H37cWKTbUZf_",
        "outputId": "33d6cd12-2817-48aa-8fcf-0b781fce784b",
        "colab": {
          "base_uri": "https://localhost:8080/",
          "height": 260
        }
      },
      "execution_count": 18,
      "outputs": [
        {
          "output_type": "stream",
          "name": "stdout",
          "text": [
            "[1] \"x_bar\"\n"
          ]
        },
        {
          "output_type": "display_data",
          "data": {
            "text/html": [
              "0.912926829268293"
            ],
            "text/markdown": "0.912926829268293",
            "text/latex": "0.912926829268293",
            "text/plain": [
              "[1] 0.9129268"
            ]
          },
          "metadata": {}
        },
        {
          "output_type": "stream",
          "name": "stdout",
          "text": [
            "[1] \"z_95\"\n"
          ]
        },
        {
          "output_type": "display_data",
          "data": {
            "text/html": [
              "1.64485362695147"
            ],
            "text/markdown": "1.64485362695147",
            "text/latex": "1.64485362695147",
            "text/plain": [
              "[1] 1.644854"
            ]
          },
          "metadata": {}
        },
        {
          "output_type": "stream",
          "name": "stdout",
          "text": [
            "[1] \"s\"\n"
          ]
        },
        {
          "output_type": "display_data",
          "data": {
            "text/html": [
              "0.996454323846405"
            ],
            "text/markdown": "0.996454323846405",
            "text/latex": "0.996454323846405",
            "text/plain": [
              "[1] 0.9964543"
            ]
          },
          "metadata": {}
        },
        {
          "output_type": "stream",
          "name": "stdout",
          "text": [
            "[1] \"n\"\n"
          ]
        },
        {
          "output_type": "display_data",
          "data": {
            "text/html": [
              "41"
            ],
            "text/markdown": "41",
            "text/latex": "41",
            "text/plain": [
              "[1] 41"
            ]
          },
          "metadata": {}
        },
        {
          "output_type": "stream",
          "name": "stdout",
          "text": [
            "[1] \"Known sigma\"\n"
          ]
        },
        {
          "output_type": "display_data",
          "data": {
            "text/html": [
              "0.656043850591164"
            ],
            "text/markdown": "0.656043850591164",
            "text/latex": "0.656043850591164",
            "text/plain": [
              "[1] 0.6560439"
            ]
          },
          "metadata": {}
        },
        {
          "output_type": "display_data",
          "data": {
            "text/html": [
              "1.16980980794542"
            ],
            "text/markdown": "1.16980980794542",
            "text/latex": "1.16980980794542",
            "text/plain": [
              "[1] 1.16981"
            ]
          },
          "metadata": {}
        },
        {
          "output_type": "stream",
          "name": "stdout",
          "text": [
            "[1] \"Plug-in\"\n"
          ]
        },
        {
          "output_type": "display_data",
          "data": {
            "text/html": [
              "0.656954674442924"
            ],
            "text/markdown": "0.656954674442924",
            "text/latex": "0.656954674442924",
            "text/plain": [
              "[1] 0.6569547"
            ]
          },
          "metadata": {}
        },
        {
          "output_type": "display_data",
          "data": {
            "text/html": [
              "1.16889898409366"
            ],
            "text/markdown": "1.16889898409366",
            "text/latex": "1.16889898409366",
            "text/plain": [
              "[1] 1.168899"
            ]
          },
          "metadata": {}
        }
      ]
    },
    {
      "cell_type": "markdown",
      "source": [
        "A confidence interval for population mean can be obtained by choosing:\n",
        "\n",
        "$$\n",
        "\\begin{align}\n",
        "T_1\\big(\\{x_1,...,x_n\\}\\big) &= \\bar{x} - z_{1-\\alpha/2}\\frac{\\sigma}{\\sqrt{n}};\\\\\n",
        "T_2\\big(\\{x_1,...,x_n\\}\\big) &= \\bar{x} + z_{1-\\alpha/2}\\frac{\\sigma}{\\sqrt{n}}.\n",
        "\\end{align}\n",
        "$$\n",
        "\n",
        "Here,\n",
        "\n",
        "$$\n",
        "\\begin{align}\n",
        "\\bar{x} &\\approx 0.9129;\\\\\n",
        "s &= 0.9965;\\\\\n",
        "\\sigma &= 1.0000;\\\\\n",
        "n &= 41;\\\\\n",
        "z_{0.95} &\\approx 1.6449.\\\\\n",
        "\\end{align}\n",
        "$$\n",
        "\n",
        "Given known $\\sigma^2$, at the 95% confidence level, a plausible range for $\\mu$ is:\n",
        "\n",
        "$$[0.6560, 1.1698].$$\n",
        "\n",
        "\n",
        "We could also replace $\\sigma$ with its estimator $s$:\n",
        "$$\n",
        "\\begin{align}\n",
        "T_1\\big(\\{x_1,...,x_n\\}\\big) &= \\bar{x} - z_{1-\\alpha/2}\\frac{s}{\\sqrt{n}};\\\\\n",
        "T_2\\big(\\{x_1,...,x_n\\}\\big) &= \\bar{x} + z_{1-\\alpha/2}\\frac{s}{\\sqrt{n}}.\n",
        "\\end{align}\n",
        "$$\n",
        "\n",
        "\n",
        "Given unknown $\\sigma^2$, at the 95% confidence level, a plausible range for $\\mu$ is:\n",
        "\n",
        "$$[0.6570,1.1689].$$\n",
        "\n",
        "These confidence interval estimates are quite similar.\n",
        "\n"
      ],
      "metadata": {
        "id": "zNy9vz4XNEtK"
      }
    },
    {
      "cell_type": "markdown",
      "source": [
        "##### **Example 2**\n",
        "\n",
        "A survey was conducted among 200 university students to see how many of them regularly drink coffee before lectures. Out of the 200 students, 128 said \"yes\".\n",
        "\n",
        "Assuming a suitable statistical model, construct a symmetric 95% confidence interval for the true population proportion $p$ using the asymptotic normal approximation."
      ],
      "metadata": {
        "id": "ozyDHMHpDZ71"
      }
    },
    {
      "cell_type": "code",
      "source": [
        "print(\"p_hat\")\n",
        "p_hat = 128/200\n",
        "p_hat\n",
        "\n",
        "z_975 = qnorm(0.975)\n",
        "print(\"z_975\")\n",
        "z_975\n",
        "\n",
        "n = 200\n",
        "\n",
        "print(\"Plug-in CI\")\n",
        "lower = p_hat - z_975*sqrt(p_hat*(1-p_hat)/n)\n",
        "upper = p_hat + z_975*sqrt(p_hat*(1-p_hat)/n)\n",
        "lower;upper\n"
      ],
      "metadata": {
        "id": "qaI0aPKGDbhq",
        "outputId": "56cea03c-4516-4766-8cd6-0d730a4b4ce4",
        "colab": {
          "base_uri": "https://localhost:8080/",
          "height": 138
        }
      },
      "execution_count": 3,
      "outputs": [
        {
          "output_type": "stream",
          "name": "stdout",
          "text": [
            "[1] \"p_hat\"\n"
          ]
        },
        {
          "output_type": "display_data",
          "data": {
            "text/html": [
              "0.64"
            ],
            "text/markdown": "0.64",
            "text/latex": "0.64",
            "text/plain": [
              "[1] 0.64"
            ]
          },
          "metadata": {}
        },
        {
          "output_type": "stream",
          "name": "stdout",
          "text": [
            "[1] \"z_975\"\n"
          ]
        },
        {
          "output_type": "display_data",
          "data": {
            "text/html": [
              "1.95996398454005"
            ],
            "text/markdown": "1.95996398454005",
            "text/latex": "1.95996398454005",
            "text/plain": [
              "[1] 1.959964"
            ]
          },
          "metadata": {}
        },
        {
          "output_type": "stream",
          "name": "stdout",
          "text": [
            "[1] \"Plug-in CI\"\n"
          ]
        },
        {
          "output_type": "display_data",
          "data": {
            "text/html": [
              "0.573476616431216"
            ],
            "text/markdown": "0.573476616431216",
            "text/latex": "0.573476616431216",
            "text/plain": [
              "[1] 0.5734766"
            ]
          },
          "metadata": {}
        },
        {
          "output_type": "display_data",
          "data": {
            "text/html": [
              "0.706523383568785"
            ],
            "text/markdown": "0.706523383568785",
            "text/latex": "0.706523383568785",
            "text/plain": [
              "[1] 0.7065234"
            ]
          },
          "metadata": {}
        }
      ]
    },
    {
      "cell_type": "markdown",
      "source": [
        "Assume that the responses of the 200 students, $x_1, \\dots, x_{200}$, take values 1 (\"yes\") or 0 (\"no\") and are i.i.d. `Bernoulli(p)` (Equivalently, the total number of \"yes\" responses follows a `Binomial(200, p)` distribution).\n",
        "\n",
        "A plug-in confidence interval for $p$ can be constructed by choosing:\n",
        "\n",
        "$$\n",
        "\\begin{align}\n",
        "T_1\\big(\\{x_1,...,x_n\\}\\big) &= \\hat{p} - z_{1-\\alpha/2}\\sqrt{\\frac{\\hat{p}(1-\\hat{p})}{n}};\\\\\n",
        "T_2\\big(\\{x_1,...,x_n\\}\\big) &= \\hat{p} + z_{1-\\alpha/2}\\sqrt{\\frac{\\hat{p}(1-\\hat{p})}{n}}.\n",
        "\\end{align}\n",
        "$$\n",
        "\n",
        "Here,\n",
        "\n",
        "$$\n",
        "\\begin{align}\n",
        "\\hat{p} &\\approx 0.64;\\\\\n",
        "n &= 200;\\\\\n",
        "z_{0.975} &\\approx 1.9600.\n",
        "\\end{align}\n",
        "$$\n",
        "\n",
        "At the 95% confidence level, a plausible range for $p$ is:\n",
        "\n",
        "$$[0.5734; 0.7065]$$\n",
        "\n"
      ],
      "metadata": {
        "id": "F29YRHqeRPFt"
      }
    },
    {
      "cell_type": "markdown",
      "source": [
        "### **Confidence Interval for The Difference Between Two Population Means**\n",
        "\n",
        "In addition to estimating population means, often we are interested in the difference between the population means $\\mu_1$ and $\\mu_2$ of two **independent** populations $f_1(x)$ and $f_2(x)$.\n",
        "\n",
        "It is reasonable (and correct) to assume that the best estimate of the difference between population means $\\mu_1 - \\mu_2$ is the difference between the sample means $\\bar{x}_1 - \\bar{x}_2$. The question is then, what is the sampling distribution of $\\bar{x}_1 - \\bar{x}_2$?\n",
        "\n",
        "Given $\\{x_{11},...,x_{1n_1}\\}$ and $\\{x_{21},...,x_{2n_2}\\}$ generated from i.i.d. probability distributions $f_1(x)$ and $f_2(x)$ with mean $\\mu_1$ and $\\mu_2$ and variance $\\sigma^2_1$ and $\\sigma^2_2$, respectively. If $n_1$ and $n_2$ are sufficiently large:\n",
        "\n",
        "$$\\bar{x}_1 - \\bar{x}_2 \\approx \\mathcal{N}\\Bigg(\\mu_1 - \\mu_2, \\frac{\\sigma_1^2}{n_1} + \\frac{\\sigma_2^2}{n_2}\\Bigg)$$\n",
        "\n",
        "\n",
        "If $f_1(x)$ and $f_2(x)$ are Gaussians, this is the exact sampling distribution of $\\bar{x}_1 - \\bar{x}_2$ regardless of the sample size."
      ],
      "metadata": {
        "id": "BMdNcUuqC4O0"
      }
    },
    {
      "cell_type": "markdown",
      "source": [
        "A symmetric confidence interval for $\\mu_1 - \\mu_2$ can be obtained by choosing:\n",
        "\n",
        "$$\n",
        "\\begin{align}\n",
        "T_1\\big(\\{x_{11},...,x_{1n_1}, x_{21},...,x_{2n_1}\\}\\big) &= (\\bar{x}_1 - \\bar{x}_2) - z_{1-\\alpha/2}\\sqrt{\\frac{\\sigma_1^2}{n_1} + \\frac{\\sigma_2^2}{n_2}};\\\\\n",
        "T_2\\big(\\{x_{11},...,x_{1n_1}, x_{21},...,x_{2n_1}\\}\\big) &= (\\bar{x}_1 - \\bar{x}_2) + z_{1-\\alpha/2}\\sqrt{\\frac{\\sigma_1^2}{n_1} + \\frac{\\sigma_2^2}{n_2}}.\n",
        "\\end{align}\n",
        "$$\n",
        "\n",
        "\n",
        "A plug-in symmetric confidence interval for $\\mu_1 - \\mu_2$ can be obtained by choosing:\n",
        "\n",
        "\n",
        "$$\n",
        "\\begin{align}\n",
        "T_1\\big(\\{x_{11},...,x_{1n_1}, x_{21},...,x_{2n_1}\\}\\big) &= (\\bar{x}_1 - \\bar{x}_2) - z_{1-\\alpha/2}\\sqrt{\\frac{s_1^2}{n_1} + \\frac{s_2^2}{n_2}};\\\\\n",
        "T_2\\big(\\{x_{11},...,x_{1n_1}, x_{21},...,x_{2n_1}\\}\\big) &= (\\bar{x}_1 - \\bar{x}_2) + z_{1-\\alpha/2}\\sqrt{\\frac{s_1^2}{n_1} + \\frac{s_2^2}{n_2}},\n",
        "\\end{align}\n",
        "$$\n",
        "\n",
        "where $s_1^2$ and $s_2^2$ are sample variances of samples 1 and 2, respectively.\n",
        "\n",
        "\n"
      ],
      "metadata": {
        "id": "uqeaZGOYDHk2"
      }
    },
    {
      "cell_type": "markdown",
      "source": [
        "#### **Confidence Interval for The Difference Between Two Population Proportions**\n",
        "\n",
        "Given $\\{x_{11},...,x_{1n_1}\\}$ and $\\{x_{21},...,x_{2n_2}\\}$ generated from i.i.d. `Bernoulli(p1)` and `Bernoulli(p2)`, respectively. If $n_1$ and $n_2$ are sufficiently large:\n",
        "\n",
        "$$\\hat{p}_1 - \\hat{p}_2 \\approx \\mathcal{N}\\Bigg(p_1 - p_2, \\frac{p_1(1-p_1)}{n_1} + \\frac{p_2(1-p_2)}{n_2}\\Bigg)$$\n",
        "\n",
        "A symmetric confidence interval for $p_1 - p_2$ can be obtained by choosing:\n",
        "\n",
        "$$\n",
        "\\begin{align}\n",
        "T_1\\big(\\{x_{11},...,x_{1n_1}, x_{21},...,x_{2n_1}\\}\\big) &= (\\hat{p}_1 - \\hat{p}_2) - z_{1-\\alpha/2}\\sqrt{\\frac{p_1(1-p_1)}{n_1} + \\frac{p_2(1-p_2)}{n_2}};\\\\\n",
        "T_2\\big(\\{x_{11},...,x_{1n_1}, x_{21},...,x_{2n_1}\\}\\big) &= (\\hat{p}_1 - \\hat{p}_2) + z_{1-\\alpha/2}\\sqrt{\\frac{p_1(1-p_1)}{n_1} + \\frac{p_2(1-p_2)}{n_2}}.\n",
        "\\end{align}\n",
        "$$\n",
        "\n",
        "A plug-in symmetric confidence interval for $p_1 - p_2$ can be obtained by choosing:\n",
        "\n",
        "$$\n",
        "\\begin{align}\n",
        "T_1\\big(\\{x_{11},...,x_{1n_1}, x_{21},...,x_{2n_1}\\}\\big) &= (\\hat{p}_1 - \\hat{p}_2) - z_{1-\\alpha/2}\\sqrt{\\frac{\\hat{p}_1(1-\\hat{p}_1)}{n_1} + \\frac{\\hat{p}_2(1-\\hat{p}_2)}{n_2}};\\\\\n",
        "T_2\\big(\\{x_{11},...,x_{1n_1}, x_{21},...,x_{2n_1}\\}\\big) &= (\\hat{p}_1 - \\hat{p}_2) + z_{1-\\alpha/2}\\sqrt{\\frac{\\hat{p}_1(1-\\hat{p}_1)}{n_1} + \\frac{\\hat{p}_2(1-\\hat{p}_2)}{n_2}}.\n",
        "\\end{align}\n",
        "$$\n",
        "\n",
        "\n",
        "\n",
        "\n",
        "\n"
      ],
      "metadata": {
        "id": "26j6qQ6ADKCJ"
      }
    },
    {
      "cell_type": "markdown",
      "source": [
        "#### **Example**\n",
        "\n",
        "A coffee shop wants to compare customer preferences between two types of coffee (A and B) when used in cappuccinos. To test this, they randomly assign customers to try cappuccinos made with either coffee A or coffee B.\n",
        "A total of 200 customers participate: 80 in group A and 120 in group B.\n",
        "- In group A, 61 customers say they like the cappuccino.\n",
        "- In group B, 97 customers say they like the cappuccino.\n",
        "\n",
        "\n",
        "Using a suitable statistical model, construct a 90% symmetric confidence interval for the difference in population proportions of customers who like coffee A versus coffee B based on the asymptotic normal approximation."
      ],
      "metadata": {
        "id": "k7QNBdhKDNa2"
      }
    },
    {
      "cell_type": "code",
      "source": [
        "nA = 80\n",
        "nB = 120\n",
        "pA_hat = 61/nA\n",
        "pB_hat = 97/nB\n",
        "print(\"pA_hat; pB_hat\")\n",
        "pA_hat; pB_hat\n",
        "\n",
        "z_95 = qnorm(0.95)\n",
        "print(\"z_95\")\n",
        "z_95\n",
        "\n",
        "print(\"Plug-in CI\")\n",
        "p_diff = pA_hat - pB_hat\n",
        "lower = p_diff - z_95*sqrt( pA_hat*(1-pA_hat)/nA  + pB_hat*(1-pB_hat)/nB)\n",
        "upper = p_diff + z_95*sqrt( pA_hat*(1-pA_hat)/nA  + pB_hat*(1-pB_hat)/nB)\n",
        "lower; upper"
      ],
      "metadata": {
        "id": "_M5bldiiDftI",
        "outputId": "195264d6-7dff-481e-c42c-06639b3700b4",
        "colab": {
          "base_uri": "https://localhost:8080/",
          "height": 156
        }
      },
      "execution_count": 4,
      "outputs": [
        {
          "output_type": "stream",
          "name": "stdout",
          "text": [
            "[1] \"pA_hat; pB_hat\"\n"
          ]
        },
        {
          "output_type": "display_data",
          "data": {
            "text/html": [
              "0.7625"
            ],
            "text/markdown": "0.7625",
            "text/latex": "0.7625",
            "text/plain": [
              "[1] 0.7625"
            ]
          },
          "metadata": {}
        },
        {
          "output_type": "display_data",
          "data": {
            "text/html": [
              "0.808333333333333"
            ],
            "text/markdown": "0.808333333333333",
            "text/latex": "0.808333333333333",
            "text/plain": [
              "[1] 0.8083333"
            ]
          },
          "metadata": {}
        },
        {
          "output_type": "stream",
          "name": "stdout",
          "text": [
            "[1] \"z_95\"\n"
          ]
        },
        {
          "output_type": "display_data",
          "data": {
            "text/html": [
              "1.64485362695147"
            ],
            "text/markdown": "1.64485362695147",
            "text/latex": "1.64485362695147",
            "text/plain": [
              "[1] 1.644854"
            ]
          },
          "metadata": {}
        },
        {
          "output_type": "stream",
          "name": "stdout",
          "text": [
            "[1] \"Plug-in CI\"\n"
          ]
        },
        {
          "output_type": "display_data",
          "data": {
            "text/html": [
              "-0.143902478381518"
            ],
            "text/markdown": "-0.143902478381518",
            "text/latex": "-0.143902478381518",
            "text/plain": [
              "[1] -0.1439025"
            ]
          },
          "metadata": {}
        },
        {
          "output_type": "display_data",
          "data": {
            "text/html": [
              "0.0522358117148516"
            ],
            "text/markdown": "0.0522358117148516",
            "text/latex": "0.0522358117148516",
            "text/plain": [
              "[1] 0.05223581"
            ]
          },
          "metadata": {}
        }
      ]
    },
    {
      "cell_type": "markdown",
      "source": [
        "A plug-in symmetric confidence interval for $p_1 - p_2$ can be obtained by choosing:\n",
        "$$\n",
        "\\begin{aligned}\n",
        "T_1 &= (\\hat{p}_1 - \\hat{p}_2) - z_{1-\\alpha/2}\\sqrt{\\frac{\\hat p_1(1-\\hat p_1)}{n_1} + \\frac{\\hat p_2(1-\\hat p_2)}{n_2}},\\\\\n",
        "T_2 &= (\\hat{p}_1 - \\hat{p}_2) + z_{1-\\alpha/2}\\sqrt{\\frac{\\hat p_1(1-\\hat p_1)}{n_1} + \\frac{\\hat p_2(1-\\hat p_2)}{n_2}}.\n",
        "\\end{aligned}\n",
        "$$\n"
      ],
      "metadata": {
        "id": "11WEQFGJf-3z"
      }
    },
    {
      "cell_type": "markdown",
      "source": [
        "Here,\n",
        "\n",
        "$$\n",
        "\\begin{align}\n",
        "\\hat{p}_A &= 0.7625;\\\\\n",
        "\\hat{p}_B &\\approx 0.8083;\\\\\n",
        "n_A &= 80;\\\\\n",
        "n_B &= 120;\\\\\n",
        "z_{0.95} &\\approx 1.6449.\\\\\n",
        "\\end{align}\n",
        "$$\n",
        "\n",
        "At the 95% confidence level, a plausible range for $p$ is:\n",
        "\n",
        "$$[-0.1439, 0.0522]$$"
      ],
      "metadata": {
        "id": "XEX7VUmpgTWN"
      }
    },
    {
      "cell_type": "markdown",
      "source": [
        "### **Making Sense of Confidence Intervals**\n",
        "\n",
        "Confidence intervals are often misunderstood. Let’s take a simple example:\n",
        "\n",
        "Suppose human heights are generated from a distribution with mean $\\mu$ and variance $\\sigma^2$. Given a sufficiently large sample, we can use the asymptotic approximation for the sampling distribution of the sample mean. Suppose we compute a 95% confidence interval for $\\mu$ to be [170, 190]. How should we interpret this?\n",
        "\n",
        "- **Incorrect interpretation #1**\n",
        "\n",
        "> The probability that the true mean $\\mu$ lies in [170, 190] is 95%.\n",
        "\n",
        "\n",
        "This is wrong because $\\mu$ is a fixed (but unknown) parameter, not a random variable. It is either in the interval or not, so its probability of lying inside the interval is 0 or 1.\n",
        "\n",
        "- **Incorrect interpretation #2**\n",
        "\n",
        "> We are 95% confident that [170, 190] contains the true mean $\\mu$.\n",
        "\n",
        "This is misleading because “95% confident” has no formal mathematical meaning. It suggests subjectivity rather than a precise probability statement.\n",
        "\n",
        "- **Correct interpretation**\n",
        "\n",
        "Before observing the data, the probability that the confidence interval contains $\\mu$ is 0.95. In other words, if we were to repeat the sampling process many times and construct a confidence interval from each sample, about 95% of those intervals would contain the true mean.\n",
        "\n",
        "A confidence interval estimate such as $[170,190]$ has no probabilistic interpretation once observed; however, it is still useful because it is constructed from a procedure that, with high probability (e.g., 95%), produces intervals covering the true parameter."
      ],
      "metadata": {
        "id": "J_9MT9Nva5Z6"
      }
    },
    {
      "cell_type": "markdown",
      "source": [
        "As an example, suppose we draw samples of size 10 from an i.i.d. distribution $\\mathcal{N}(2, 1.5^2)$. In this setting, the true variance $\\sigma^2 = 1.5^2$ is known, but the true mean $\\mu = 2$ is unknown to us. In each iteration, we take a sample of 10 observations from $\\mathcal{N}(2, 1.5^2)$, construct a 95% symmetric confidence interval for $\\mu$, and then check whether the interval contains the true value."
      ],
      "metadata": {
        "id": "t7yNDmc_-E37"
      }
    },
    {
      "cell_type": "code",
      "source": [
        "# Run this a few times\n",
        "CI_visualiser()"
      ],
      "metadata": {
        "id": "fNExe_56caG_",
        "outputId": "f41fa17d-0cc5-4202-e814-a77feb12d324",
        "colab": {
          "base_uri": "https://localhost:8080/",
          "height": 437
        }
      },
      "execution_count": 5,
      "outputs": [
        {
          "output_type": "display_data",
          "data": {
            "text/plain": [
              "Plot with title “95% CI Coverage = 0.95 (95/100)”"
            ],
            "image/png": "[encoded data removed]"
          },
          "metadata": {
            "image/png": {
              "width": 420,
              "height": 420
            }
          }
        }
      ]
    },
    {
      "cell_type": "markdown",
      "source": [
        "### **Workshop Questions**"
      ],
      "metadata": {
        "id": "-ggmrlzzRESL"
      }
    },
    {
      "cell_type": "markdown",
      "source": [
        "#### **Question 1**\n",
        "\n",
        "The following code cell loads daily returns of `S&P 500` index from `03/01/2000` to `18/07/2025` from `s&p500.csv`, queried from Yahoo Finance."
      ],
      "metadata": {
        "id": "NaRivLj8Oi-I"
      }
    },
    {
      "cell_type": "code",
      "source": [
        "sp500_daily.returns = read.csv(\"datasets/s&p500.csv\")\n",
        "sp500_daily.returns %>% str()"
      ],
      "metadata": {
        "id": "ODvXUybwQBJJ",
        "outputId": "0ad0d056-4dbc-41ab-e40d-51d46a3e0d29",
        "colab": {
          "base_uri": "https://localhost:8080/"
        }
      },
      "execution_count": 6,
      "outputs": [
        {
          "output_type": "stream",
          "name": "stdout",
          "text": [
            "'data.frame':\t6424 obs. of  1 variable:\n",
            " $ daily.returns: num  0 -0.038345 0.001922 0.000956 0.02709 ...\n"
          ]
        }
      ]
    },
    {
      "cell_type": "markdown",
      "source": [
        "##### **Question 1.1**\n",
        "\n",
        "Assuming that daily returns $x_1,...,x_{6424}$ were generated from i.i.d. $\\mathcal{N}(\\mu, \\sigma^2)$, derive the MoM estimators for $\\mu$ and $\\sigma^2$. Comment on the results."
      ],
      "metadata": {
        "id": "sKjGXw94QBfw"
      }
    },
    {
      "cell_type": "markdown",
      "source": [
        "Given a sample of $x_1,...,x_{6424}$ from a population of i.i.d. $\\mathcal{N}(\\mu, \\sigma^2)$, we know the E[x] = $\\mu$ and the Var[x] = $\\sigma^2$\n",
        "The method of moments describe one moment $m_1 = \\frac{\\sum_{i=1}^{n}x_i}{n}$\n",
        "\n",
        "Mean descibed in method of moments\n",
        "\n",
        "E[X] = $m_1$\n",
        "\n",
        "$\\frac{\\sum_{i=1}^{n}x_i}{n}$ = $\\mu$\n",
        "\n",
        "Variance described in method of moments\n",
        "\n",
        "Var[X] = $E[X^2] - E[X]^2$\n",
        "Var[X] = $m_2 - m_1^2$\n",
        "\n",
        "$m_2 - m_1^2$ = $\\sigma^2$\n",
        "\n",
        "$\\frac{\\sum_{i=1}^{n}x_i^2}{n} - (\\frac{\\sum_{i=1}^{n}x_i}{n})^2$ = $\\sigma^2$"
      ],
      "metadata": {
        "id": "upblrYqpzaOh"
      }
    },
    {
      "cell_type": "markdown",
      "source": [
        "\n",
        "<details>\n",
        "<summary>▶️ Click to show the solution</summary>\n",
        "\n",
        "Solution will be released at the end of the week!\n",
        "</details>"
      ],
      "metadata": {
        "id": "rzTTKV6VQOIf"
      }
    },
    {
      "cell_type": "markdown",
      "source": [
        "##### **Question 1.2**\n",
        "\n",
        "Use R to compute the MoM estimates of $\\mu$ and $\\sigma^2$."
      ],
      "metadata": {
        "id": "YhoCw_JEQUSW"
      }
    },
    {
      "cell_type": "code",
      "source": [
        "moment1 = mean(sp500_daily.returns$daily.returns)\n",
        "moment2 = mean((sp500_daily.returns$daily.returns^2))\n",
        "\n",
        "meanEstimate = moment1\n",
        "varEstimate = moment2 - moment1^2\n",
        "\n",
        "print(\"Mean Estimate\")\n",
        "meanEstimate\n",
        "\n",
        "print(\"VarianceEstimate\")\n",
        "varEstimate"
      ],
      "metadata": {
        "id": "5VtLGK_SQYZ_",
        "outputId": "abdfe55e-d705-4673-edbf-a26267a331b1",
        "colab": {
          "base_uri": "https://localhost:8080/",
          "height": 86
        }
      },
      "execution_count": 37,
      "outputs": [
        {
          "output_type": "stream",
          "name": "stdout",
          "text": [
            "[1] \"Mean Estimate\"\n"
          ]
        },
        {
          "output_type": "display_data",
          "data": {
            "text/html": [
              "0.000303455725781495"
            ],
            "text/markdown": "0.000303455725781495",
            "text/latex": "0.000303455725781495",
            "text/plain": [
              "[1] 0.0003034557"
            ]
          },
          "metadata": {}
        },
        {
          "output_type": "stream",
          "name": "stdout",
          "text": [
            "[1] \"VarianceEstimate\"\n"
          ]
        },
        {
          "output_type": "display_data",
          "data": {
            "text/html": [
              "0.000150549055366151"
            ],
            "text/markdown": "0.000150549055366151",
            "text/latex": "0.000150549055366151",
            "text/plain": [
              "[1] 0.0001505491"
            ]
          },
          "metadata": {}
        }
      ]
    },
    {
      "cell_type": "markdown",
      "source": [
        "\n",
        "<details>\n",
        "<summary>▶️ Click to show the solution</summary>\n",
        "\n",
        "Solution will be released at the end of the week!\n",
        "</details>"
      ],
      "metadata": {
        "id": "A_ui-ApEQYoe"
      }
    },
    {
      "cell_type": "markdown",
      "source": [
        "##### **Question 1.3**\n",
        "What are the 0.0005 and 0.9995 empirical quantiles of daily returns, and what is the probability of observing a return at least as extreme as these quantile values under the MoM fitted distribution. Comment on the results."
      ],
      "metadata": {
        "id": "QNTr6WELQcGV"
      }
    },
    {
      "cell_type": "code",
      "source": [
        "# Using quantile to find empirical quantile from dataset\n",
        "q9995 = quantile(sp500_daily.returns$daily.returns, probs = 0.9995)\n",
        "q0005 = quantile(sp500_daily.returns$daily.returns, probs = 0.0005)\n",
        "\n",
        "Pr_largerthanq9995 = pnorm(q = q9995, mean = meanEstimate, sd = sqrt(varEstimate), lower.tail = FALSE)\n",
        "Pr_smallerthanq0005 = pnorm(q = q0005, mean = meanEstimate, sd = sqrt(varEstimate), lower.tail = TRUE)\n",
        "\n",
        "q0005\n",
        "q9995\n",
        "Pr_largerthanq9995\n",
        "Pr_smallerthanq0005"
      ],
      "metadata": {
        "id": "MntaYORiQfCN",
        "colab": {
          "base_uri": "https://localhost:8080/",
          "height": 86
        },
        "outputId": "0c0bc7df-1e3b-4045-d7ae-069451f59624"
      },
      "execution_count": 40,
      "outputs": [
        {
          "output_type": "display_data",
          "data": {
            "text/html": [
              "<strong>0.05%:</strong> -0.0890356312961578"
            ],
            "text/markdown": "**0.05%:** -0.0890356312961578",
            "text/latex": "\\textbf{0.05\\textbackslash{}\\%:} -0.0890356312961578",
            "text/plain": [
              "      0.05% \n",
              "-0.08903563 "
            ]
          },
          "metadata": {}
        },
        {
          "output_type": "display_data",
          "data": {
            "text/html": [
              "<strong>99.95%:</strong> 0.0936254421203902"
            ],
            "text/markdown": "**99.95%:** 0.0936254421203902",
            "text/latex": "\\textbf{99.95\\textbackslash{}\\%:} 0.0936254421203902",
            "text/plain": [
              "    99.95% \n",
              "0.09362544 "
            ]
          },
          "metadata": {}
        },
        {
          "output_type": "display_data",
          "data": {
            "text/html": [
              "<strong>99.95%:</strong> 1.41572367847819e-14"
            ],
            "text/markdown": "**99.95%:** 1.41572367847819e-14",
            "text/latex": "\\textbf{99.95\\textbackslash{}\\%:} 1.41572367847819e-14",
            "text/plain": [
              "      99.95% \n",
              "1.415724e-14 "
            ]
          },
          "metadata": {}
        },
        {
          "output_type": "display_data",
          "data": {
            "text/html": [
              "<strong>0.05%:</strong> 1.65441487794824e-13"
            ],
            "text/markdown": "**0.05%:** 1.65441487794824e-13",
            "text/latex": "\\textbf{0.05\\textbackslash{}\\%:} 1.65441487794824e-13",
            "text/plain": [
              "       0.05% \n",
              "1.654415e-13 "
            ]
          },
          "metadata": {}
        }
      ]
    },
    {
      "cell_type": "markdown",
      "source": [
        "\n",
        "<details>\n",
        "<summary>▶️ Click to show the solution</summary>\n",
        "\n",
        "Solution will be released at the end of the week!\n",
        "</details>"
      ],
      "metadata": {
        "id": "e1CZDXCvQg0a"
      }
    },
    {
      "cell_type": "markdown",
      "source": [
        "##### **Question 1.4**\n",
        "Use qqplots to verify whether or not the Gaussian assumption is adequate."
      ],
      "metadata": {
        "id": "FbMNZlD7QhLm"
      }
    },
    {
      "cell_type": "code",
      "source": [
        "qqnorm(sp500_daily.returns$daily.returns)\n",
        "qqline(sp500_daily.returns$daily.returns)"
      ],
      "metadata": {
        "id": "lwlEpiddQkaK",
        "outputId": "4393930d-ba1e-4c39-d35d-0f3824e52584",
        "colab": {
          "base_uri": "https://localhost:8080/",
          "height": 437
        }
      },
      "execution_count": 44,
      "outputs": [
        {
          "output_type": "display_data",
          "data": {
            "text/plain": [
              "Plot with title “Normal Q-Q Plot”"
            ],
            "image/png": "[encoded data removed]"
          },
          "metadata": {
            "image/png": {
              "width": 420,
              "height": 420
            }
          }
        }
      ]
    },
    {
      "cell_type": "markdown",
      "source": [
        "\n",
        "<details>\n",
        "<summary>▶️ Click to show the solution</summary>\n",
        "\n",
        "Solution will be released at the end of the week!\n",
        "</details>"
      ],
      "metadata": {
        "id": "ve2BxUC1Qkww"
      }
    },
    {
      "cell_type": "markdown",
      "source": [
        "##### **Question 1.5**\n",
        "\n",
        "Modify the following code cell to overlay the density of the MoM-fitted Gaussian distribution on the (normalised) histogram of daily returns. Comment on the results."
      ],
      "metadata": {
        "id": "uFrGmfg6QmDM"
      }
    },
    {
      "cell_type": "code",
      "source": [
        "\n",
        "set.seed(1)\n",
        "df =  data.frame(x = sp500_daily.returns$daily.returns)\n",
        "n = nrow(df)\n",
        "mean_est = mean(df$x)\n",
        "var_est = var(df$x)*(n-1)/n\n",
        "\n",
        "df %>%\n",
        "  ggplot(aes(x = x)) +\n",
        "  geom_histogram(aes(y = after_stat(density)), bins = 50,\n",
        "                 fill = \"lightgray\", color = \"white\") +\n",
        "  stat_function(fun = dnorm, #This evaluates pdf of Gaussian with the specified mean and sd and overlays a line curve on top of the existing one\n",
        "                args = list(mean = mean_est, sd = sqrt(var_est)),\n",
        "                color = \"red\", size = 1) +\n",
        "  labs(title = \"Standard Gaussian Data vs. Empirical MoM Fit\",\n",
        "       x = \"x\", y = \"Density\") +\n",
        "  geom_rug()+  #What is geom_rug()?\n",
        "  theme_minimal()\n"
      ],
      "metadata": {
        "id": "iL64vjw6QqVh",
        "outputId": "fbd0f89c-8283-433c-9e3a-a5848a5a358e",
        "colab": {
          "base_uri": "https://localhost:8080/",
          "height": 437
        }
      },
      "execution_count": 48,
      "outputs": [
        {
          "output_type": "display_data",
          "data": {
            "text/plain": [
              "plot without title"
            ],
            "image/png": "[encoded data removed]"
          },
          "metadata": {
            "image/png": {
              "width": 420,
              "height": 420
            }
          }
        }
      ]
    },
    {
      "cell_type": "markdown",
      "source": [
        "\n",
        "<details>\n",
        "<summary>▶️ Click to show the solution</summary>\n",
        "\n",
        "Solution will be released at the end of the week!\n",
        "</details>"
      ],
      "metadata": {
        "id": "m-THE9cFQqAD"
      }
    },
    {
      "cell_type": "markdown",
      "source": [
        "#### **Question 2**\n",
        "\n",
        "The following questions are based on the `episodes` dataset. While you are expected to use R to compute the answers, the underlying concepts are identical to those in pen-and-paper confidence interval calculations."
      ],
      "metadata": {
        "id": "JQbU2uwUDlPV"
      }
    },
    {
      "cell_type": "code",
      "source": [
        "episodes = read.csv(\"./datasets/episodes.csv\")\n",
        "episodes %>% str()"
      ],
      "metadata": {
        "id": "DtDU8gejiYRh",
        "outputId": "4dce6b6f-7691-457e-b8d4-0c065d729917",
        "colab": {
          "base_uri": "https://localhost:8080/"
        }
      },
      "execution_count": 4,
      "outputs": [
        {
          "output_type": "stream",
          "name": "stdout",
          "text": [
            "'data.frame':\t704 obs. of  57 variables:\n",
            " $ Series                        : chr  \"TOS\" \"TOS\" \"TOS\" \"TOS\" ...\n",
            " $ Series.Name                   : chr  \"The Original Series\" \"The Original Series\" \"The Original Series\" \"The Original Series\" ...\n",
            " $ Season                        : int  1 1 1 1 1 1 1 1 1 1 ...\n",
            " $ Episode                       : int  1 2 3 4 5 6 7 8 9 10 ...\n",
            " $ IMDB.Ranking                  : num  7.3 7.2 7.8 8 7.8 6.9 7.6 7.1 7.5 8.2 ...\n",
            " $ Title                         : chr  \"The Man Trap\" \"Charlie X\" \"Where No Man Has Gone Before\" \"The Naked Time\" ...\n",
            " $ Star.date                     : chr  \"1513.1\" \"1533.6\" \"1312.4\" \"1704.2\" ...\n",
            " $ Air.date                      : chr  \"8/9/66\" \"15/9/66\" \"22/9/66\" \"29/9/66\" ...\n",
            " $ Bechdel.Wallace.Test          : logi  FALSE FALSE FALSE FALSE FALSE FALSE ...\n",
            " $ Director                      : chr  \"Marc Daniels\" \"Lawrence Dobkin\" \"James Goldstone\" \"Marc Daniels\" ...\n",
            " $ Writer.1                      : chr  \"George Clayton Johnson\" \"Gene Rodenberry\" \"Samuel A Peeples\" \"John D. F. Black\" ...\n",
            " $ Writer.2                      : chr  NA \"D. C. Fontana\" NA NA ...\n",
            " $ Writer.3                      : chr  NA NA NA NA ...\n",
            " $ Writer.4                      : chr  NA NA NA NA ...\n",
            " $ Writer.5                      : chr  NA NA NA NA ...\n",
            " $ Writer.6                      : chr  NA NA NA NA ...\n",
            " $ Female.Director               : logi  FALSE FALSE FALSE FALSE FALSE FALSE ...\n",
            " $ Female.Writer.1               : logi  FALSE FALSE FALSE FALSE FALSE FALSE ...\n",
            " $ Female.Writer.2               : logi  FALSE TRUE FALSE FALSE FALSE FALSE ...\n",
            " $ Female.Writer.3               : logi  FALSE FALSE FALSE FALSE FALSE FALSE ...\n",
            " $ Female.Writer.4               : logi  FALSE FALSE FALSE FALSE FALSE FALSE ...\n",
            " $ Female.Writer.5               : logi  FALSE FALSE FALSE FALSE FALSE FALSE ...\n",
            " $ Female.Writer.6               : logi  FALSE FALSE FALSE FALSE FALSE FALSE ...\n",
            " $ Executive.Producer.1          : chr  NA NA NA NA ...\n",
            " $ Executive.Producer.2          : chr  NA NA NA NA ...\n",
            " $ Executive.Producer.3          : chr  NA NA NA NA ...\n",
            " $ Co.Executive.Producer.1       : chr  NA NA NA NA ...\n",
            " $ Co.Executive.Producer.2       : chr  NA NA NA NA ...\n",
            " $ Co.Executive.Producer.3       : chr  NA NA NA NA ...\n",
            " $ Producer.1                    : chr  \"Gene Rodenberry\" \"Gene Rodenberry\" \"Gene Rodenberry\" \"Gene Rodenberry\" ...\n",
            " $ Producer.2                    : chr  NA NA NA NA ...\n",
            " $ Producer.3                    : chr  NA NA NA NA ...\n",
            " $ Producer.4                    : chr  NA NA NA NA ...\n",
            " $ Co.Producer.1                 : chr  NA NA NA NA ...\n",
            " $ Co.Producer.2                 : chr  NA NA NA NA ...\n",
            " $ Co.Producer.3                 : chr  NA NA NA NA ...\n",
            " $ Co.Producer.4                 : chr  NA NA NA NA ...\n",
            " $ Co.Producer.5                 : chr  NA NA NA NA ...\n",
            " $ Associate.Producer.1          : chr  \"John D. F. Black\" \"John D. F. Black\" \"Robert H. Justman\" \"John D. F. Black\" ...\n",
            " $ Associate.Producer.2          : chr  \"Robert H. Justman\" \"Robert H. Justman\" NA \"Robert H. Justman\" ...\n",
            " $ Supervising.Producer.1        : chr  NA NA NA NA ...\n",
            " $ Supervising.Producer.2        : chr  NA NA NA NA ...\n",
            " $ Supervising.Producer.3        : chr  NA NA NA NA ...\n",
            " $ Co.Supervising.Producer.1     : chr  NA NA NA NA ...\n",
            " $ Co.Supervising.Producer.2     : chr  NA NA NA NA ...\n",
            " $ Line.Producer                 : chr  NA NA NA NA ...\n",
            " $ Coordinating.Producer         : chr  NA NA NA NA ...\n",
            " $ Consulting.Producer.1         : chr  NA NA NA NA ...\n",
            " $ Consulting.Producer.2         : chr  NA NA NA NA ...\n",
            " $ Female.Executive.Producer     : logi  FALSE FALSE FALSE FALSE FALSE FALSE ...\n",
            " $ Female.Co.Executive.Producer  : logi  FALSE FALSE FALSE FALSE FALSE FALSE ...\n",
            " $ Female.Producer               : logi  FALSE FALSE FALSE FALSE FALSE FALSE ...\n",
            " $ Female.Co.Producer            : logi  FALSE FALSE FALSE FALSE FALSE FALSE ...\n",
            " $ Female.Associate.Producer     : logi  FALSE FALSE FALSE FALSE FALSE FALSE ...\n",
            " $ Female.Supervising.Producer   : logi  FALSE FALSE FALSE FALSE FALSE FALSE ...\n",
            " $ Female.Co.Supervising.Producer: logi  FALSE FALSE FALSE FALSE FALSE FALSE ...\n",
            " $ Female.Line.Producer          : logi  FALSE FALSE FALSE FALSE FALSE FALSE ...\n"
          ]
        }
      ]
    },
    {
      "cell_type": "markdown",
      "source": [
        "\n",
        "\n",
        "**Note**: While these series have ended and you technically have the full “population” of some values (e.g., results of the Bechdel-Wallace test), we still ask you to compute a confidence interval for the unknown $p$. This may seem counter-intuitive, but you can think of it as follows:\n",
        "\n",
        "- The episode test results are treated as realisations from an unknown probability distribution $f$ (here, Bernoulli(p)).\n",
        "- Although the episodes are released, we are interested in the underlying process that generates these values. This includes not-yet-released episodes or hypothetical similar episodes — the confidence interval captures uncertainty about $p$ in this larger “generative model.”\n",
        "\n",
        "This provides a foundation for future techniques, such as hypothesis testing, where we may want to assess whether the difference between two proportions is statistically significant or simply due to random variation. Simply comparing the “complete” populations of Bechdel test results for two series is not sufficient; instead, we rely on a statistical model to quantify uncertainty."
      ],
      "metadata": {
        "id": "3HYUgu2Pm2na"
      }
    },
    {
      "cell_type": "markdown",
      "source": [
        "**Hint**: After using `summarise()`, use `pull()` to extract each summary statistic. Below is a toy example."
      ],
      "metadata": {
        "id": "WA1svPQ63a8d"
      }
    },
    {
      "cell_type": "code",
      "source": [
        "set.seed(1)\n",
        "df = data.frame(X = rnorm(10^4))\n",
        "\n",
        "df %>%\n",
        "  summarise(meanX = mean(X),\n",
        "            varX = var(X)) -> summary_stats\n",
        "\n",
        "summary_stats %>% pull(meanX) -> meanX #Extracting `meanX`, which can be assigned to another variable\n",
        "meanX\n",
        "summary_stats %>% pull(varX)"
      ],
      "metadata": {
        "id": "VHgo3wPr3blF"
      },
      "execution_count": null,
      "outputs": []
    },
    {
      "cell_type": "markdown",
      "source": [
        "\n",
        "##### **Question 2.1**\n",
        "\n",
        "Write R code to find the 90% confidence interval for the mean of the `IMDB.Ranking` for Star Trek (The Original Series). Interpret the results for a non-statistician stakeholder."
      ],
      "metadata": {
        "id": "fYK_YPHHDvew"
      }
    },
    {
      "cell_type": "code",
      "source": [
        "# a = 1 - 0.9 = 0.1\n",
        "# Confidence Interval - xbar +- Z_a/2 * SE\n",
        "episodes %>%\n",
        "  filter(Series == \"TOS\") %>%\n",
        "  summarise(xbar = mean(IMDB.Ranking), SE = sd(IMDB.Ranking)/sqrt(n())) -> statistics\n",
        "\n",
        "xbar = pull(statistics, xbar)\n",
        "Zscore = qnorm(0.05)\n",
        "SE = pull(statistics, SE)\n",
        "\n",
        "interval1 = xbar + (Zscore*SE)\n",
        "interval2 = xbar - (Zscore*SE)\n",
        "\n",
        "interval1\n",
        "interval2"
      ],
      "metadata": {
        "id": "cHiqx48Fi7Xo",
        "colab": {
          "base_uri": "https://localhost:8080/",
          "height": 52
        },
        "outputId": "3062de29-491b-465e-c426-3838929414e8"
      },
      "execution_count": 5,
      "outputs": [
        {
          "output_type": "display_data",
          "data": {
            "text/html": [
              "7.38842605438974"
            ],
            "text/markdown": "7.38842605438974",
            "text/latex": "7.38842605438974",
            "text/plain": [
              "[1] 7.388426"
            ]
          },
          "metadata": {}
        },
        {
          "output_type": "display_data",
          "data": {
            "text/html": [
              "7.68407394561026"
            ],
            "text/markdown": "7.68407394561026",
            "text/latex": "7.68407394561026",
            "text/plain": [
              "[1] 7.684074"
            ]
          },
          "metadata": {}
        }
      ]
    },
    {
      "cell_type": "markdown",
      "source": [
        "\n",
        "\n",
        "<details>\n",
        "<summary>▶️ Click to show the solution</summary>\n",
        "\n",
        "Solution will be released at the end of the week!\n",
        "</details>\n",
        "\n",
        "\n"
      ],
      "metadata": {
        "id": "HXEOmILsi7p4"
      }
    },
    {
      "cell_type": "markdown",
      "source": [
        "\n",
        "\n",
        "##### **Question 2.2**\n",
        "\n",
        "Write R code to find the 95% confidence interval for the difference of the mean `IMDB.Ranking` for Star Trek (The Original Series) and Star Trek: The Next Generation. Interpret the results for a non-statistician stakeholder."
      ],
      "metadata": {
        "id": "hOCGRZywDwNG"
      }
    },
    {
      "cell_type": "code",
      "source": [
        "# a = 1 - 0.95 = 0.05, a/2 = 0.025\n",
        "# confidence interval - xbar +- Zscore * SE\n",
        "\n",
        "episodes %>%\n",
        "  filter(Series == \"TOS\") %>%\n",
        "  summarise(xbar = mean(IMDB.Ranking), std_dev = sd(IMDB.Ranking), n = n()) -> TOSsummary\n",
        "\n",
        "episodes %>%\n",
        "  filter(Series == \"TNG\") %>%\n",
        "  summarise(xbar = mean(IMDB.Ranking), std_dev = sd(IMDB.Ranking), n = n()) -> TNGsummary\n",
        "\n",
        "Zscore = qnorm(0.025)\n",
        "SE = sqrt((TOSsummary$std_dev^2 / TOSsummary$n) + (TNGsummary$std_dev^2 / TNGsummary$n))\n",
        "\n",
        "(TOSsummary$xbar - TNGsummary$xbar) + (Zscore * SE)\n",
        "(TOSsummary$xbar - TNGsummary$xbar) - (Zscore * SE)\n"
      ],
      "metadata": {
        "id": "7A4O59YBi8bW",
        "outputId": "5fa9a2a3-748d-413d-e020-52a20c4e9f35",
        "colab": {
          "base_uri": "https://localhost:8080/",
          "height": 52
        }
      },
      "execution_count": 13,
      "outputs": [
        {
          "output_type": "display_data",
          "data": {
            "text/html": [
              "-0.132463165184817"
            ],
            "text/markdown": "-0.132463165184817",
            "text/latex": "-0.132463165184817",
            "text/plain": [
              "[1] -0.1324632"
            ]
          },
          "metadata": {}
        },
        {
          "output_type": "display_data",
          "data": {
            "text/html": [
              "0.309457547207288"
            ],
            "text/markdown": "0.309457547207288",
            "text/latex": "0.309457547207288",
            "text/plain": [
              "[1] 0.3094575"
            ]
          },
          "metadata": {}
        }
      ]
    },
    {
      "cell_type": "markdown",
      "source": [
        "\n",
        "\n",
        "<details>\n",
        "<summary>▶️ Click to show the solution</summary>\n",
        "\n",
        "Solution will be released at the end of the week!\n",
        "\n",
        "\n",
        "</details>\n",
        "\n",
        "\n"
      ],
      "metadata": {
        "id": "RSaS1GspkO-t"
      }
    },
    {
      "cell_type": "markdown",
      "source": [
        "\n",
        "\n",
        "##### **Question 2.3**\n",
        "\n",
        "Write R code to find the 99% confidence interval for the proportion of Star Trek: The Next Generation episodes that pass the Bechdel-Wallace Test. Interpret the results for a non-statistician stakeholder.\n",
        "\n",
        "**Note that this is not a statistical test!**\n",
        "\n",
        "> The Bechdel-Wallace Test assesses female representation in fiction by checking if a work features at least two named women who have a conversation about something other than a man.\n",
        "\n",
        "Source: [Bechdel test - Wikipedia](https://en.wikipedia.org/wiki/Bechdel_test)."
      ],
      "metadata": {
        "id": "aK4Tc5wSDzX2"
      }
    },
    {
      "cell_type": "code",
      "source": [
        "episodes %>%\n",
        "  filter(Series == \"TNG\") %>%\n",
        "  summarise(phat = mean(Bechdel.Wallace.Test), n = n()) -> statistics\n",
        "\n",
        "phat = pull(statistics, phat)\n",
        "n = pull(statistics, n)\n",
        "Zscore = qnorm(0.005)\n",
        "SE = sqrt(phat*(1-phat)/n)\n",
        "\n",
        "phat + Zscore * SE\n",
        "phat - Zscore * SE"
      ],
      "metadata": {
        "id": "C_fAi6p4jc7S",
        "outputId": "84ab24be-a3c4-4c62-c3dc-0bfc25471f55",
        "colab": {
          "base_uri": "https://localhost:8080/",
          "height": 52
        }
      },
      "execution_count": 18,
      "outputs": [
        {
          "output_type": "display_data",
          "data": {
            "text/html": [
              "0.342409114195223"
            ],
            "text/markdown": "0.342409114195223",
            "text/latex": "0.342409114195223",
            "text/plain": [
              "[1] 0.3424091"
            ]
          },
          "metadata": {}
        },
        {
          "output_type": "display_data",
          "data": {
            "text/html": [
              "0.533995380186799"
            ],
            "text/markdown": "0.533995380186799",
            "text/latex": "0.533995380186799",
            "text/plain": [
              "[1] 0.5339954"
            ]
          },
          "metadata": {}
        }
      ]
    },
    {
      "cell_type": "markdown",
      "source": [
        "\n",
        "\n",
        "<details>\n",
        "<summary>▶️ Click to show the solution</summary>\n",
        "\n",
        "Solution will be released at the end of the week!\n",
        "\n",
        "\n",
        "</details>\n",
        "\n",
        "\n"
      ],
      "metadata": {
        "id": "V6UaFpF2jdPm"
      }
    },
    {
      "cell_type": "markdown",
      "source": [
        "\n",
        "\n",
        "##### **Question 2.4**\n",
        "\n",
        "Write R code to find the 95% confidence interval for the difference in proportions of episodes that pass the Bechdel-Wallace test between Star Trek: The Next Generation and Star Trek: Voyager. Interpret the results for a non-statistician stakeholder."
      ],
      "metadata": {
        "id": "rMH3qOx2D1KC"
      }
    },
    {
      "cell_type": "code",
      "source": [
        "\n",
        "episodes %>%\n",
        "  filter(Series == \"TNG\") %>%\n",
        "  summarise(phat = mean(Bechdel.Wallace.Test), n = n()) -> TNGsummary\n",
        "\n",
        "episodes %>%\n",
        "  filter(Series == \"VOY\") %>%\n",
        "  summarise(phat = mean(Bechdel.Wallace.Test), n = n()) -> VOYsummary\n",
        "\n",
        "SE = sqrt((TNGsummary$phat*(1-TNGsummary$phat)/TNGsummary$n) + (VOYsummary$phat*(1-VOYsummary$phat)/VOYsummary$n))\n",
        "Zscore = qnorm(0.025)\n",
        "\n",
        "(TNGsummary$phat - VOYsummary$phat) + Zscore * SE\n",
        "(TNGsummary$phat - VOYsummary$phat) - Zscore * SE"
      ],
      "metadata": {
        "id": "FOdWqV2Yjo9H",
        "outputId": "445519a4-4bb4-4f64-f33a-3b3c1cbe7d0a",
        "colab": {
          "base_uri": "https://localhost:8080/",
          "height": 52
        }
      },
      "execution_count": 22,
      "outputs": [
        {
          "output_type": "display_data",
          "data": {
            "text/html": [
              "-0.495752129117038"
            ],
            "text/markdown": "-0.495752129117038",
            "text/latex": "-0.495752129117038",
            "text/plain": [
              "[1] -0.4957521"
            ]
          },
          "metadata": {}
        },
        {
          "output_type": "display_data",
          "data": {
            "text/html": [
              "-0.313889888128846"
            ],
            "text/markdown": "-0.313889888128846",
            "text/latex": "-0.313889888128846",
            "text/plain": [
              "[1] -0.3138899"
            ]
          },
          "metadata": {}
        }
      ]
    },
    {
      "cell_type": "markdown",
      "source": [
        "\n",
        "\n",
        "<details>\n",
        "<summary>▶️ Click to show the solution</summary>\n",
        "\n",
        "Solution will be released at the end of the week!\n",
        "\n",
        "</details>\n",
        "\n",
        "\n"
      ],
      "metadata": {
        "id": "uplAZZggjpOS"
      }
    },
    {
      "cell_type": "markdown",
      "source": [
        "#### **Question 3**\n",
        "\n",
        "The following data are assumed to be generated from an exponential distribution with rate parameter $\\lambda$.\n",
        "\n",
        "Derive the MLE for $\\lambda$, compute the estimate for the given sample, and check the validity  of the estimate (if the second derivative is negative).\n"
      ],
      "metadata": {
        "id": "yGEYNCaaXQhn"
      }
    },
    {
      "cell_type": "markdown",
      "source": [
        "$L(θ|x_1, x_2, ... x_n) = \\prod_{i=0}^{n} f(x_i)$\n",
        "\n",
        ".\n",
        "\n",
        "$L(\\lambda|x_1, x_2, ... x_n) = \\prod_{i=0}^{n} \\lambda e^{-\\lambda x_i}$\n",
        "\n",
        "$L(\\lambda|x_1, x_2, ... x_n) = \\lambda^n e^{-\\lambda \\sum_{i=0}^{n}x_i}$\n",
        "\n",
        ".\n",
        "\n",
        "$l(\\lambda|x_1, x_2, ... x_n) = nln(\\lambda) - \\lambda \\sum_{i=0}^{n}x_iln(e)$\n",
        "\n",
        "$\\frac{d}{d\\lambda}l(\\lambda|x_1, x_2, ... x_n) = \\frac{n}{\\lambda} - \\sum_{i=0}^{n}x_i$\n",
        "\n",
        "$0 = \\frac{n}{\\lambda} - \\sum_{i=0}^{n}x_i$\n",
        "\n",
        "$\\hat{\\lambda} = \\frac{n}{\\sum_{i=0}^{n}x_i}$"
      ],
      "metadata": {
        "id": "NuW0p1N6c_Ji"
      }
    },
    {
      "cell_type": "code",
      "source": [
        "smpl_data = c(0.28, 0.34, 0.47, 1.41, 0.36, 0.75, 0.13, 0.18, 7.36, 0.46, 0.42, 2.83, 2.76, 2.31, 2.96)\n",
        "\n",
        "n = length(smpl_data)\n",
        "\n",
        "n/sum(smpl_data)"
      ],
      "metadata": {
        "colab": {
          "base_uri": "https://localhost:8080/",
          "height": 34
        },
        "id": "3QWz9qk8Xaif",
        "outputId": "c5bdb977-560e-4548-b3dc-f2861e580da4"
      },
      "execution_count": 28,
      "outputs": [
        {
          "output_type": "display_data",
          "data": {
            "text/html": [
              "0.651607298001738"
            ],
            "text/markdown": "0.651607298001738",
            "text/latex": "0.651607298001738",
            "text/plain": [
              "[1] 0.6516073"
            ]
          },
          "metadata": {}
        }
      ]
    },
    {
      "cell_type": "markdown",
      "source": [
        "\n",
        "\n",
        "<details>\n",
        "<summary>▶️ Click to show the solution</summary>\n",
        "\n",
        "Solution will be released at the end of the week!\n",
        "\n",
        "</details>\n"
      ],
      "metadata": {
        "id": "mPZ4IBzpX_cL"
      }
    }
  ]
}